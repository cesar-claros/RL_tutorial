{
  "nbformat": 4,
  "nbformat_minor": 0,
  "metadata": {
    "colab": {
      "name": "RL_maze_tabular.ipynb",
      "provenance": [],
      "authorship_tag": "ABX9TyN0dh9rebmmDHtwNEGnzv/K",
      "include_colab_link": true
    },
    "kernelspec": {
      "name": "python3",
      "display_name": "Python 3"
    },
    "language_info": {
      "name": "python"
    }
  },
  "cells": [
    {
      "cell_type": "markdown",
      "metadata": {
        "id": "view-in-github",
        "colab_type": "text"
      },
      "source": [
        "<a href=\"https://colab.research.google.com/github/cesar-claros/RL_tutorial/blob/main/RL_maze_tabular.ipynb\" target=\"_parent\"><img src=\"https://colab.research.google.com/assets/colab-badge.svg\" alt=\"Open In Colab\"/></a>"
      ]
    },
    {
      "cell_type": "code",
      "metadata": {
        "colab": {
          "base_uri": "https://localhost:8080/"
        },
        "id": "4zwSGPwD6GLs",
        "outputId": "fb64427d-268a-48ec-a52a-0fc4c1194c47"
      },
      "source": [
        "! git clone https://github.com/cesar-claros/RL_tutorial\n",
        "% cd RL_tutorial/"
      ],
      "execution_count": 1,
      "outputs": [
        {
          "output_type": "stream",
          "text": [
            "Cloning into 'RL_tutorial'...\n",
            "remote: Enumerating objects: 18, done.\u001b[K\n",
            "remote: Counting objects: 100% (18/18), done.\u001b[K\n",
            "remote: Compressing objects: 100% (13/13), done.\u001b[K\n",
            "remote: Total 18 (delta 4), reused 15 (delta 4), pack-reused 0\u001b[K\n",
            "Unpacking objects: 100% (18/18), done.\n",
            "/content/RL_tutorial\n"
          ],
          "name": "stdout"
        }
      ]
    },
    {
      "cell_type": "code",
      "metadata": {
        "id": "V-XuI-nnFaGI"
      },
      "source": [
        "# Librerías \n",
        "#----------\n",
        "import env_maze\n",
        "from __future__ import print_function\n",
        "import os, sys, time, datetime, json, random\n",
        "import numpy as np # librería de procesamiento numérico \n",
        "import matplotlib.pyplot as plt\n",
        "import matplotlib.animation as animation\n",
        "import pandas as pd\n",
        "from tqdm import tqdm\n",
        "from IPython import display"
      ],
      "execution_count": 2,
      "outputs": []
    },
    {
      "cell_type": "markdown",
      "metadata": {
        "id": "UQJ3omksGziH"
      },
      "source": [
        "<figure>\n",
        "<center>\n",
        "<img src='https://www.samyzaf.com/ML/rl/images/maze1a.png' width=\"300\"/>\n",
        "<figcaption>Ilustración de laberinto. Credito: https://www.samyzaf.com/ML/rl/qmaze.html </figcaption>\n",
        "</center>\n",
        "</figure>\n"
      ]
    },
    {
      "cell_type": "code",
      "metadata": {
        "id": "6sgk3dKYFa5h"
      },
      "source": [
        "maze = np.array( [\n",
        "    [ 1.0,  0.0,  0.0,  1.0,  1.0,  1.0,  1.0,  1.0],\n",
        "    [ 1.0,  0.0,  1.0,  1.0,  1.0,  0.0,  1.0,  1.0],\n",
        "    [ 1.0,  1.0,  0.0,  1.0,  1.0,  1.0,  0.0,  1.0],\n",
        "    [ 1.0,  1.0,  1.0,  1.0,  1.0,  0.0,  1.0,  1.0],\n",
        "    [ 0.0,  1.0,  1.0,  0.0,  0.0,  1.0,  1.0,  1.0],\n",
        "    [ 1.0,  1.0,  1.0,  1.0,  0.0,  1.0,  0.0,  0.0],\n",
        "    [ 1.0,  0.0,  1.0,  0.0,  1.0,  1.0,  1.0,  1.0],\n",
        "    [ 0.0,  1.0,  1.0,  0.0,  1.0,  1.0,  1.0,  1.0]\n",
        "] )"
      ],
      "execution_count": 3,
      "outputs": []
    },
    {
      "cell_type": "code",
      "metadata": {
        "colab": {
          "base_uri": "https://localhost:8080/",
          "height": 269
        },
        "id": "XGGw8cxNIaxS",
        "outputId": "f67653fb-ba67-4c0a-b20c-dd72bc7fa3cd"
      },
      "source": [
        "qmaze = env_maze.Qmaze(maze)\n",
        "env_maze.show(qmaze)"
      ],
      "execution_count": 4,
      "outputs": [
        {
          "output_type": "execute_result",
          "data": {
            "text/plain": [
              "<matplotlib.image.AxesImage at 0x7f8d407450d0>"
            ]
          },
          "metadata": {
            "tags": []
          },
          "execution_count": 4
        },
        {
          "output_type": "display_data",
          "data": {
            "image/png": "[encoded data removed]",
            "text/plain": [
              "<Figure size 432x288 with 1 Axes>"
            ]
          },
          "metadata": {
            "tags": [],
            "needs_background": "light"
          }
        }
      ]
    },
    {
      "cell_type": "code",
      "metadata": {
        "id": "x9qGBy2_FisK"
      },
      "source": [
        "# Encoded movements\n",
        "LEFT = 0\n",
        "UP = 1\n",
        "RIGHT = 2\n",
        "DOWN = 3\n",
        "\n",
        "# Actions dictionary\n",
        "actions_dict = {\n",
        "    LEFT: 'left',\n",
        "    UP: 'up',\n",
        "    RIGHT: 'right',\n",
        "    DOWN: 'down',\n",
        "}\n",
        "\n",
        "num_actions = len(actions_dict)"
      ],
      "execution_count": 5,
      "outputs": []
    },
    {
      "cell_type": "markdown",
      "metadata": {
        "id": "7npGvVnb-p0t"
      },
      "source": [
        "<figure>\n",
        "<center>\n",
        "<img src='https://www.samyzaf.com/ML/rl/images/maze1b.png' width=\"300\"/>\n",
        "<figcaption>Codificación de las posilbles acciones. Credito: https://www.samyzaf.com/ML/rl/qmaze.html </figcaption></center>\n",
        "</figure>\n",
        "\n",
        "## Recompesas (Rewards):\n",
        "\n",
        "- Cada movimiento a una celda adyacente válida genera una recompensa -0.04\n",
        "- Cada movimiento a una celda adyacente inválida (obstáculo) genera una recompensa igual -0.75\n",
        "- Cada intento de movimiento fuera de los límites del laberinto genera una recompensa igual -0.75\n",
        "- Cada movimiento de retorno a una celda previamente visitada genera una recompensa igual -0.25\n",
        "- Si llegamos al objetivo final la recompensa es 1.0 \n",
        "- Para evitar bucles infinitos, el juego se da por terminado una vez que la recompensa total cae por debajo de -0.5*maze.size\n",
        "- El juego se da por terminado también si el agente llega al objetivo final.\n",
        "\n",
        "<figure>\n",
        "<center>\n",
        "<img src='https://www.samyzaf.com/ML/rl/images/mdp1.png' width=\"1000\"/>\n",
        "<figcaption>Ilustración de los estados del laberinto. Credito: https://www.samyzaf.com/ML/rl/qmaze.html </figcaption>\n",
        "\n",
        "</center>\n",
        "</figure>"
      ]
    },
    {
      "cell_type": "code",
      "metadata": {
        "colab": {
          "base_uri": "https://localhost:8080/",
          "height": 286
        },
        "id": "5g8l0Y9PIerE",
        "outputId": "178a99f9-b95b-4c9e-b3a5-10f538df7e79"
      },
      "source": [
        "canvas, reward, game_over = qmaze.act(DOWN)\n",
        "print(\"recompensa=\", reward)\n",
        "env_maze.show(qmaze)"
      ],
      "execution_count": 6,
      "outputs": [
        {
          "output_type": "stream",
          "text": [
            "reward= -0.04\n"
          ],
          "name": "stdout"
        },
        {
          "output_type": "execute_result",
          "data": {
            "text/plain": [
              "<matplotlib.image.AxesImage at 0x7efcd58d27d0>"
            ]
          },
          "metadata": {
            "tags": []
          },
          "execution_count": 6
        },
        {
          "output_type": "display_data",
          "data": {
            "image/png": "[encoded data removed]",
            "text/plain": [
              "<Figure size 432x288 with 1 Axes>"
            ]
          },
          "metadata": {
            "tags": [],
            "needs_background": "light"
          }
        }
      ]
    },
    {
      "cell_type": "code",
      "metadata": {
        "colab": {
          "base_uri": "https://localhost:8080/",
          "height": 303
        },
        "id": "4LPmnGKl9rVn",
        "outputId": "370c4067-dc13-4990-f1a9-ab7aa3a00b30"
      },
      "source": [
        "# Ejecutar acción\n",
        "canvas, reward, game_over = qmaze.act(DOWN)\n",
        "# Observar el ambiente (environment)\n",
        "print(\"recompensa =\", reward)\n",
        "print(\"estado = ({})\".format(qmaze.state)) #(FILA,COLUMNA)\n",
        "env_maze.show(qmaze)"
      ],
      "execution_count": 9,
      "outputs": [
        {
          "output_type": "stream",
          "text": [
            "recompensa = -0.04\n",
            "estado = ((2, 0, 'valid'))\n"
          ],
          "name": "stdout"
        },
        {
          "output_type": "execute_result",
          "data": {
            "text/plain": [
              "<matplotlib.image.AxesImage at 0x7efcd572e690>"
            ]
          },
          "metadata": {
            "tags": []
          },
          "execution_count": 9
        },
        {
          "output_type": "display_data",
          "data": {
            "image/png": "[encoded data removed]",
            "text/plain": [
              "<Figure size 432x288 with 1 Axes>"
            ]
          },
          "metadata": {
            "tags": [],
            "needs_background": "light"
          }
        }
      ]
    },
    {
      "cell_type": "markdown",
      "metadata": {
        "id": "LyLTj7RLCeqt"
      },
      "source": [
        "## Ambiente (environment):\n",
        "<figure>\n",
        "<center>\n",
        "<img src='https://player.slideplayer.com/105/17624990/slides/slide_4.jpg' width=\"500\"/>\n",
        "<figcaption>Credito: https://www.davidsilver.uk/wp-content/uploads/2020/03/intro_RL.pdf </figcaption>\n",
        "</center>\n",
        "</figure>\n",
        "\n",
        "## Problema: \n",
        "Encontrar una política (policy) $\\pi^*:\\mathcal{S}\\rightarrow\\mathcal{A}$\n",
        "\n",
        "Por ejemplo: si $s=(0,0)\\in\\mathcal{S}$, la política óptima $\\pi^*(s)=E(\\rightarrow)$\n",
        "\n",
        "## Solución deseada:\n",
        "<figure>\n",
        "<center>\n",
        "<img src='https://player.slideplayer.com/105/17624990/slides/slide_5.jpg' width=\"500\"/>\n",
        "<figcaption>Credito: https://www.davidsilver.uk/wp-content/uploads/2020/03/intro_RL.pdf </figcaption>\n",
        "\n",
        "</center>\n",
        "</figure>\n",
        "\n",
        "\n",
        "\n"
      ]
    },
    {
      "cell_type": "code",
      "metadata": {
        "colab": {
          "base_uri": "https://localhost:8080/",
          "height": 286
        },
        "id": "GhgagiiZD-VE",
        "outputId": "85615d33-bd63-49cb-d027-895590365313"
      },
      "source": [
        "# Reiniciar el ambiente\n",
        "qmaze.reset((0,0))\n",
        "print(qmaze.state)\n",
        "env_maze.show(qmaze)"
      ],
      "execution_count": 10,
      "outputs": [
        {
          "output_type": "stream",
          "text": [
            "(0, 0, 'start')\n"
          ],
          "name": "stdout"
        },
        {
          "output_type": "execute_result",
          "data": {
            "text/plain": [
              "<matplotlib.image.AxesImage at 0x7efcd566a3d0>"
            ]
          },
          "metadata": {
            "tags": []
          },
          "execution_count": 10
        },
        {
          "output_type": "display_data",
          "data": {
            "image/png": "[encoded data removed]",
            "text/plain": [
              "<Figure size 432x288 with 1 Axes>"
            ]
          },
          "metadata": {
            "tags": [],
            "needs_background": "light"
          }
        }
      ]
    },
    {
      "cell_type": "markdown",
      "metadata": {
        "id": "DhQiNE2jVHf5"
      },
      "source": [
        ""
      ]
    },
    {
      "cell_type": "code",
      "metadata": {
        "id": "3FmGXBDiLnAF"
      },
      "source": [
        "# Generar tabla de valores (V_table)\n",
        "def init_V_table(shape):\n",
        "    # V_table = np.random.normal(loc=0.0,scale=0.1,size=shape)# (size=V_table_shape)\n",
        "    V_table = np.zeros(shape)\n",
        "    V_table[~np.array(maze).astype('bool')] = np.nan\n",
        "    return V_table\n"
      ],
      "execution_count": 241,
      "outputs": []
    },
    {
      "cell_type": "code",
      "metadata": {
        "colab": {
          "base_uri": "https://localhost:8080/",
          "height": 297
        },
        "id": "Pq_bcwOFt8ZH",
        "outputId": "c3640a34-d1ac-48b2-8763-cc12a6f516cd"
      },
      "source": [
        "# Iniciar tabla de valores (V_table)\n",
        "V_table = init_V_table(maze.shape)\n",
        "# Tabla de valores inicial\n",
        "pd.DataFrame(V_table)"
      ],
      "execution_count": 232,
      "outputs": [
        {
          "output_type": "execute_result",
          "data": {
            "text/html": [
              "<div>\n",
              "<style scoped>\n",
              "    .dataframe tbody tr th:only-of-type {\n",
              "        vertical-align: middle;\n",
              "    }\n",
              "\n",
              "    .dataframe tbody tr th {\n",
              "        vertical-align: top;\n",
              "    }\n",
              "\n",
              "    .dataframe thead th {\n",
              "        text-align: right;\n",
              "    }\n",
              "</style>\n",
              "<table border=\"1\" class=\"dataframe\">\n",
              "  <thead>\n",
              "    <tr style=\"text-align: right;\">\n",
              "      <th></th>\n",
              "      <th>0</th>\n",
              "      <th>1</th>\n",
              "      <th>2</th>\n",
              "      <th>3</th>\n",
              "      <th>4</th>\n",
              "      <th>5</th>\n",
              "      <th>6</th>\n",
              "      <th>7</th>\n",
              "    </tr>\n",
              "  </thead>\n",
              "  <tbody>\n",
              "    <tr>\n",
              "      <th>0</th>\n",
              "      <td>0.0</td>\n",
              "      <td>NaN</td>\n",
              "      <td>NaN</td>\n",
              "      <td>0.0</td>\n",
              "      <td>0.0</td>\n",
              "      <td>0.0</td>\n",
              "      <td>0.0</td>\n",
              "      <td>0.0</td>\n",
              "    </tr>\n",
              "    <tr>\n",
              "      <th>1</th>\n",
              "      <td>0.0</td>\n",
              "      <td>NaN</td>\n",
              "      <td>0.0</td>\n",
              "      <td>0.0</td>\n",
              "      <td>0.0</td>\n",
              "      <td>NaN</td>\n",
              "      <td>0.0</td>\n",
              "      <td>0.0</td>\n",
              "    </tr>\n",
              "    <tr>\n",
              "      <th>2</th>\n",
              "      <td>0.0</td>\n",
              "      <td>0.0</td>\n",
              "      <td>NaN</td>\n",
              "      <td>0.0</td>\n",
              "      <td>0.0</td>\n",
              "      <td>0.0</td>\n",
              "      <td>NaN</td>\n",
              "      <td>0.0</td>\n",
              "    </tr>\n",
              "    <tr>\n",
              "      <th>3</th>\n",
              "      <td>0.0</td>\n",
              "      <td>0.0</td>\n",
              "      <td>0.0</td>\n",
              "      <td>0.0</td>\n",
              "      <td>0.0</td>\n",
              "      <td>NaN</td>\n",
              "      <td>0.0</td>\n",
              "      <td>0.0</td>\n",
              "    </tr>\n",
              "    <tr>\n",
              "      <th>4</th>\n",
              "      <td>NaN</td>\n",
              "      <td>0.0</td>\n",
              "      <td>0.0</td>\n",
              "      <td>NaN</td>\n",
              "      <td>NaN</td>\n",
              "      <td>0.0</td>\n",
              "      <td>0.0</td>\n",
              "      <td>0.0</td>\n",
              "    </tr>\n",
              "    <tr>\n",
              "      <th>5</th>\n",
              "      <td>0.0</td>\n",
              "      <td>0.0</td>\n",
              "      <td>0.0</td>\n",
              "      <td>0.0</td>\n",
              "      <td>NaN</td>\n",
              "      <td>0.0</td>\n",
              "      <td>NaN</td>\n",
              "      <td>NaN</td>\n",
              "    </tr>\n",
              "    <tr>\n",
              "      <th>6</th>\n",
              "      <td>0.0</td>\n",
              "      <td>NaN</td>\n",
              "      <td>0.0</td>\n",
              "      <td>NaN</td>\n",
              "      <td>0.0</td>\n",
              "      <td>0.0</td>\n",
              "      <td>0.0</td>\n",
              "      <td>0.0</td>\n",
              "    </tr>\n",
              "    <tr>\n",
              "      <th>7</th>\n",
              "      <td>NaN</td>\n",
              "      <td>0.0</td>\n",
              "      <td>0.0</td>\n",
              "      <td>NaN</td>\n",
              "      <td>0.0</td>\n",
              "      <td>0.0</td>\n",
              "      <td>0.0</td>\n",
              "      <td>0.0</td>\n",
              "    </tr>\n",
              "  </tbody>\n",
              "</table>\n",
              "</div>"
            ],
            "text/plain": [
              "     0    1    2    3    4    5    6    7\n",
              "0  0.0  NaN  NaN  0.0  0.0  0.0  0.0  0.0\n",
              "1  0.0  NaN  0.0  0.0  0.0  NaN  0.0  0.0\n",
              "2  0.0  0.0  NaN  0.0  0.0  0.0  NaN  0.0\n",
              "3  0.0  0.0  0.0  0.0  0.0  NaN  0.0  0.0\n",
              "4  NaN  0.0  0.0  NaN  NaN  0.0  0.0  0.0\n",
              "5  0.0  0.0  0.0  0.0  NaN  0.0  NaN  NaN\n",
              "6  0.0  NaN  0.0  NaN  0.0  0.0  0.0  0.0\n",
              "7  NaN  0.0  0.0  NaN  0.0  0.0  0.0  0.0"
            ]
          },
          "metadata": {
            "tags": []
          },
          "execution_count": 232
        }
      ]
    },
    {
      "cell_type": "code",
      "metadata": {
        "id": "1SxliQPAfU3M"
      },
      "source": [
        "def select_action(V_table, state, explore_rate):\n",
        "    # Encoded movements\n",
        "    # LEFT = 0\n",
        "    # UP = 1\n",
        "    # RIGHT = 2\n",
        "    # DOWN = 3\n",
        "\n",
        "    # Select a random action\n",
        "    if random.random() < explore_rate:\n",
        "        action = np.random.randint(num_actions)\n",
        "    # Select the action with the highest v\n",
        "    else:\n",
        "        state = np.array(state[:2])\n",
        "        values_list = []\n",
        "        left, up, right, down = np.array([0,-1]), np.array([-1,0]), np.array([0,1]), np.array([1,0])\n",
        "        for mov in [left,up,right,down]:\n",
        "            s_ = state + mov\n",
        "            # print(s_)\n",
        "            if s_.min()<0 or s_.max()>=8: # inside boundaries?\n",
        "                values_list.append(np.nan) \n",
        "                continue\n",
        "            else:\n",
        "                values_list.append(V_table[tuple(s_)]) # accumulate V function values\n",
        "\n",
        "        # print(values_list)    \n",
        "        action = int(np.nanargmax(values_list)) # greedy policy \n",
        "    return action"
      ],
      "execution_count": 283,
      "outputs": []
    },
    {
      "cell_type": "code",
      "metadata": {
        "id": "y2vwKk_1kIf1"
      },
      "source": [
        ""
      ],
      "execution_count": null,
      "outputs": []
    },
    {
      "cell_type": "code",
      "metadata": {
        "id": "hmaNrkirWCS6"
      },
      "source": [
        "# Escoger acción basado en la política\n",
        "exploration_rate = 0.1\n",
        "action = select_action(V_table, qmaze.state, exploration_rate)"
      ],
      "execution_count": 178,
      "outputs": []
    },
    {
      "cell_type": "code",
      "metadata": {
        "id": "BYi0_8bN4C8-"
      },
      "source": [
        "# Generar tabla de acciones inicial\n",
        "def init_action_table(shape):\n",
        "    action_table = -np.ones(shape) \n",
        "    action_table_shape = a_table.shape # (8,8)\n",
        "    action_table[~np.array(maze).astype('bool')] = np.nan\n",
        "    return action_table"
      ],
      "execution_count": 197,
      "outputs": []
    },
    {
      "cell_type": "code",
      "metadata": {
        "colab": {
          "base_uri": "https://localhost:8080/",
          "height": 297
        },
        "id": "-ejseCDAE_8s",
        "outputId": "1f8995a3-b23a-4c86-f820-0be00eb03dea"
      },
      "source": [
        "#Iniciar tabla de actiones\n",
        "action_table = init_action_table(maze.shape)\n",
        "# Table de acciones\n",
        "pd.DataFrame(action_table)"
      ],
      "execution_count": 199,
      "outputs": [
        {
          "output_type": "execute_result",
          "data": {
            "text/html": [
              "<div>\n",
              "<style scoped>\n",
              "    .dataframe tbody tr th:only-of-type {\n",
              "        vertical-align: middle;\n",
              "    }\n",
              "\n",
              "    .dataframe tbody tr th {\n",
              "        vertical-align: top;\n",
              "    }\n",
              "\n",
              "    .dataframe thead th {\n",
              "        text-align: right;\n",
              "    }\n",
              "</style>\n",
              "<table border=\"1\" class=\"dataframe\">\n",
              "  <thead>\n",
              "    <tr style=\"text-align: right;\">\n",
              "      <th></th>\n",
              "      <th>0</th>\n",
              "      <th>1</th>\n",
              "      <th>2</th>\n",
              "      <th>3</th>\n",
              "      <th>4</th>\n",
              "      <th>5</th>\n",
              "      <th>6</th>\n",
              "      <th>7</th>\n",
              "    </tr>\n",
              "  </thead>\n",
              "  <tbody>\n",
              "    <tr>\n",
              "      <th>0</th>\n",
              "      <td>-1.0</td>\n",
              "      <td>NaN</td>\n",
              "      <td>NaN</td>\n",
              "      <td>-1.0</td>\n",
              "      <td>-1.0</td>\n",
              "      <td>-1.0</td>\n",
              "      <td>-1.0</td>\n",
              "      <td>-1.0</td>\n",
              "    </tr>\n",
              "    <tr>\n",
              "      <th>1</th>\n",
              "      <td>-1.0</td>\n",
              "      <td>NaN</td>\n",
              "      <td>-1.0</td>\n",
              "      <td>-1.0</td>\n",
              "      <td>-1.0</td>\n",
              "      <td>NaN</td>\n",
              "      <td>-1.0</td>\n",
              "      <td>-1.0</td>\n",
              "    </tr>\n",
              "    <tr>\n",
              "      <th>2</th>\n",
              "      <td>-1.0</td>\n",
              "      <td>-1.0</td>\n",
              "      <td>NaN</td>\n",
              "      <td>-1.0</td>\n",
              "      <td>-1.0</td>\n",
              "      <td>-1.0</td>\n",
              "      <td>NaN</td>\n",
              "      <td>-1.0</td>\n",
              "    </tr>\n",
              "    <tr>\n",
              "      <th>3</th>\n",
              "      <td>-1.0</td>\n",
              "      <td>-1.0</td>\n",
              "      <td>-1.0</td>\n",
              "      <td>-1.0</td>\n",
              "      <td>-1.0</td>\n",
              "      <td>NaN</td>\n",
              "      <td>-1.0</td>\n",
              "      <td>-1.0</td>\n",
              "    </tr>\n",
              "    <tr>\n",
              "      <th>4</th>\n",
              "      <td>NaN</td>\n",
              "      <td>-1.0</td>\n",
              "      <td>-1.0</td>\n",
              "      <td>NaN</td>\n",
              "      <td>NaN</td>\n",
              "      <td>-1.0</td>\n",
              "      <td>-1.0</td>\n",
              "      <td>-1.0</td>\n",
              "    </tr>\n",
              "    <tr>\n",
              "      <th>5</th>\n",
              "      <td>-1.0</td>\n",
              "      <td>-1.0</td>\n",
              "      <td>-1.0</td>\n",
              "      <td>-1.0</td>\n",
              "      <td>NaN</td>\n",
              "      <td>-1.0</td>\n",
              "      <td>NaN</td>\n",
              "      <td>NaN</td>\n",
              "    </tr>\n",
              "    <tr>\n",
              "      <th>6</th>\n",
              "      <td>-1.0</td>\n",
              "      <td>NaN</td>\n",
              "      <td>-1.0</td>\n",
              "      <td>NaN</td>\n",
              "      <td>-1.0</td>\n",
              "      <td>-1.0</td>\n",
              "      <td>-1.0</td>\n",
              "      <td>-1.0</td>\n",
              "    </tr>\n",
              "    <tr>\n",
              "      <th>7</th>\n",
              "      <td>NaN</td>\n",
              "      <td>-1.0</td>\n",
              "      <td>-1.0</td>\n",
              "      <td>NaN</td>\n",
              "      <td>-1.0</td>\n",
              "      <td>-1.0</td>\n",
              "      <td>-1.0</td>\n",
              "      <td>-1.0</td>\n",
              "    </tr>\n",
              "  </tbody>\n",
              "</table>\n",
              "</div>"
            ],
            "text/plain": [
              "     0    1    2    3    4    5    6    7\n",
              "0 -1.0  NaN  NaN -1.0 -1.0 -1.0 -1.0 -1.0\n",
              "1 -1.0  NaN -1.0 -1.0 -1.0  NaN -1.0 -1.0\n",
              "2 -1.0 -1.0  NaN -1.0 -1.0 -1.0  NaN -1.0\n",
              "3 -1.0 -1.0 -1.0 -1.0 -1.0  NaN -1.0 -1.0\n",
              "4  NaN -1.0 -1.0  NaN  NaN -1.0 -1.0 -1.0\n",
              "5 -1.0 -1.0 -1.0 -1.0  NaN -1.0  NaN  NaN\n",
              "6 -1.0  NaN -1.0  NaN -1.0 -1.0 -1.0 -1.0\n",
              "7  NaN -1.0 -1.0  NaN -1.0 -1.0 -1.0 -1.0"
            ]
          },
          "metadata": {
            "tags": []
          },
          "execution_count": 199
        }
      ]
    },
    {
      "cell_type": "code",
      "metadata": {
        "colab": {
          "base_uri": "https://localhost:8080/",
          "height": 297
        },
        "id": "j4A31NwP6PfM",
        "outputId": "2a7b0664-842d-4bea-f386-6bd955535625"
      },
      "source": [
        "# Tabla de acciones inical\n",
        "pd.DataFrame(V_table)"
      ],
      "execution_count": 200,
      "outputs": [
        {
          "output_type": "execute_result",
          "data": {
            "text/html": [
              "<div>\n",
              "<style scoped>\n",
              "    .dataframe tbody tr th:only-of-type {\n",
              "        vertical-align: middle;\n",
              "    }\n",
              "\n",
              "    .dataframe tbody tr th {\n",
              "        vertical-align: top;\n",
              "    }\n",
              "\n",
              "    .dataframe thead th {\n",
              "        text-align: right;\n",
              "    }\n",
              "</style>\n",
              "<table border=\"1\" class=\"dataframe\">\n",
              "  <thead>\n",
              "    <tr style=\"text-align: right;\">\n",
              "      <th></th>\n",
              "      <th>0</th>\n",
              "      <th>1</th>\n",
              "      <th>2</th>\n",
              "      <th>3</th>\n",
              "      <th>4</th>\n",
              "      <th>5</th>\n",
              "      <th>6</th>\n",
              "      <th>7</th>\n",
              "    </tr>\n",
              "  </thead>\n",
              "  <tbody>\n",
              "    <tr>\n",
              "      <th>0</th>\n",
              "      <td>-0.014357</td>\n",
              "      <td>NaN</td>\n",
              "      <td>NaN</td>\n",
              "      <td>-0.078508</td>\n",
              "      <td>0.138790</td>\n",
              "      <td>0.005406</td>\n",
              "      <td>-0.028817</td>\n",
              "      <td>-0.075848</td>\n",
              "    </tr>\n",
              "    <tr>\n",
              "      <th>1</th>\n",
              "      <td>-0.018393</td>\n",
              "      <td>NaN</td>\n",
              "      <td>0.049844</td>\n",
              "      <td>0.029668</td>\n",
              "      <td>-0.057994</td>\n",
              "      <td>NaN</td>\n",
              "      <td>0.040547</td>\n",
              "      <td>-0.039688</td>\n",
              "    </tr>\n",
              "    <tr>\n",
              "      <th>2</th>\n",
              "      <td>-0.047327</td>\n",
              "      <td>0.044541</td>\n",
              "      <td>NaN</td>\n",
              "      <td>0.052012</td>\n",
              "      <td>0.075199</td>\n",
              "      <td>-0.242778</td>\n",
              "      <td>NaN</td>\n",
              "      <td>-0.015710</td>\n",
              "    </tr>\n",
              "    <tr>\n",
              "      <th>3</th>\n",
              "      <td>-0.177447</td>\n",
              "      <td>-0.002482</td>\n",
              "      <td>-0.053609</td>\n",
              "      <td>-0.100560</td>\n",
              "      <td>-0.130847</td>\n",
              "      <td>NaN</td>\n",
              "      <td>-0.063677</td>\n",
              "      <td>-0.300711</td>\n",
              "    </tr>\n",
              "    <tr>\n",
              "      <th>4</th>\n",
              "      <td>NaN</td>\n",
              "      <td>0.161976</td>\n",
              "      <td>-0.056162</td>\n",
              "      <td>NaN</td>\n",
              "      <td>NaN</td>\n",
              "      <td>0.055167</td>\n",
              "      <td>-0.055503</td>\n",
              "      <td>-0.001470</td>\n",
              "    </tr>\n",
              "    <tr>\n",
              "      <th>5</th>\n",
              "      <td>-0.070258</td>\n",
              "      <td>-0.054838</td>\n",
              "      <td>0.059866</td>\n",
              "      <td>-0.112945</td>\n",
              "      <td>NaN</td>\n",
              "      <td>0.092802</td>\n",
              "      <td>NaN</td>\n",
              "      <td>NaN</td>\n",
              "    </tr>\n",
              "    <tr>\n",
              "      <th>6</th>\n",
              "      <td>-0.079372</td>\n",
              "      <td>NaN</td>\n",
              "      <td>0.002623</td>\n",
              "      <td>NaN</td>\n",
              "      <td>-0.008160</td>\n",
              "      <td>-0.212706</td>\n",
              "      <td>0.038816</td>\n",
              "      <td>-0.105833</td>\n",
              "    </tr>\n",
              "    <tr>\n",
              "      <th>7</th>\n",
              "      <td>NaN</td>\n",
              "      <td>0.081142</td>\n",
              "      <td>-0.189194</td>\n",
              "      <td>NaN</td>\n",
              "      <td>0.063983</td>\n",
              "      <td>0.068434</td>\n",
              "      <td>-0.092102</td>\n",
              "      <td>-0.144734</td>\n",
              "    </tr>\n",
              "  </tbody>\n",
              "</table>\n",
              "</div>"
            ],
            "text/plain": [
              "          0         1         2  ...         5         6         7\n",
              "0 -0.014357       NaN       NaN  ...  0.005406 -0.028817 -0.075848\n",
              "1 -0.018393       NaN  0.049844  ...       NaN  0.040547 -0.039688\n",
              "2 -0.047327  0.044541       NaN  ... -0.242778       NaN -0.015710\n",
              "3 -0.177447 -0.002482 -0.053609  ...       NaN -0.063677 -0.300711\n",
              "4       NaN  0.161976 -0.056162  ...  0.055167 -0.055503 -0.001470\n",
              "5 -0.070258 -0.054838  0.059866  ...  0.092802       NaN       NaN\n",
              "6 -0.079372       NaN  0.002623  ... -0.212706  0.038816 -0.105833\n",
              "7       NaN  0.081142 -0.189194  ...  0.068434 -0.092102 -0.144734\n",
              "\n",
              "[8 rows x 8 columns]"
            ]
          },
          "metadata": {
            "tags": []
          },
          "execution_count": 200
        }
      ]
    },
    {
      "cell_type": "code",
      "metadata": {
        "id": "OJF2Pn9zWExG"
      },
      "source": [
        "def update_action_table(action_table, state, action):\n",
        "    state = np.array(state[:2])\n",
        "    action_table[tuple(state)] = action\n",
        "    return action_table"
      ],
      "execution_count": 201,
      "outputs": []
    },
    {
      "cell_type": "code",
      "metadata": {
        "colab": {
          "base_uri": "https://localhost:8080/",
          "height": 297
        },
        "id": "xy1EyPx82qpU",
        "outputId": "20e20dfe-09d0-43cb-fcf7-c879f23d2ac5"
      },
      "source": [
        "action_table = update_action_table(action_table, qmaze.state, action)\n",
        "pd.DataFrame(action_table)"
      ],
      "execution_count": 202,
      "outputs": [
        {
          "output_type": "execute_result",
          "data": {
            "text/html": [
              "<div>\n",
              "<style scoped>\n",
              "    .dataframe tbody tr th:only-of-type {\n",
              "        vertical-align: middle;\n",
              "    }\n",
              "\n",
              "    .dataframe tbody tr th {\n",
              "        vertical-align: top;\n",
              "    }\n",
              "\n",
              "    .dataframe thead th {\n",
              "        text-align: right;\n",
              "    }\n",
              "</style>\n",
              "<table border=\"1\" class=\"dataframe\">\n",
              "  <thead>\n",
              "    <tr style=\"text-align: right;\">\n",
              "      <th></th>\n",
              "      <th>0</th>\n",
              "      <th>1</th>\n",
              "      <th>2</th>\n",
              "      <th>3</th>\n",
              "      <th>4</th>\n",
              "      <th>5</th>\n",
              "      <th>6</th>\n",
              "      <th>7</th>\n",
              "    </tr>\n",
              "  </thead>\n",
              "  <tbody>\n",
              "    <tr>\n",
              "      <th>0</th>\n",
              "      <td>-1.0</td>\n",
              "      <td>NaN</td>\n",
              "      <td>NaN</td>\n",
              "      <td>-1.0</td>\n",
              "      <td>-1.0</td>\n",
              "      <td>-1.0</td>\n",
              "      <td>-1.0</td>\n",
              "      <td>-1.0</td>\n",
              "    </tr>\n",
              "    <tr>\n",
              "      <th>1</th>\n",
              "      <td>3.0</td>\n",
              "      <td>NaN</td>\n",
              "      <td>-1.0</td>\n",
              "      <td>-1.0</td>\n",
              "      <td>-1.0</td>\n",
              "      <td>NaN</td>\n",
              "      <td>-1.0</td>\n",
              "      <td>-1.0</td>\n",
              "    </tr>\n",
              "    <tr>\n",
              "      <th>2</th>\n",
              "      <td>-1.0</td>\n",
              "      <td>-1.0</td>\n",
              "      <td>NaN</td>\n",
              "      <td>-1.0</td>\n",
              "      <td>-1.0</td>\n",
              "      <td>-1.0</td>\n",
              "      <td>NaN</td>\n",
              "      <td>-1.0</td>\n",
              "    </tr>\n",
              "    <tr>\n",
              "      <th>3</th>\n",
              "      <td>-1.0</td>\n",
              "      <td>-1.0</td>\n",
              "      <td>-1.0</td>\n",
              "      <td>-1.0</td>\n",
              "      <td>-1.0</td>\n",
              "      <td>NaN</td>\n",
              "      <td>-1.0</td>\n",
              "      <td>-1.0</td>\n",
              "    </tr>\n",
              "    <tr>\n",
              "      <th>4</th>\n",
              "      <td>NaN</td>\n",
              "      <td>-1.0</td>\n",
              "      <td>-1.0</td>\n",
              "      <td>NaN</td>\n",
              "      <td>NaN</td>\n",
              "      <td>-1.0</td>\n",
              "      <td>-1.0</td>\n",
              "      <td>-1.0</td>\n",
              "    </tr>\n",
              "    <tr>\n",
              "      <th>5</th>\n",
              "      <td>-1.0</td>\n",
              "      <td>-1.0</td>\n",
              "      <td>-1.0</td>\n",
              "      <td>-1.0</td>\n",
              "      <td>NaN</td>\n",
              "      <td>-1.0</td>\n",
              "      <td>NaN</td>\n",
              "      <td>NaN</td>\n",
              "    </tr>\n",
              "    <tr>\n",
              "      <th>6</th>\n",
              "      <td>-1.0</td>\n",
              "      <td>NaN</td>\n",
              "      <td>-1.0</td>\n",
              "      <td>NaN</td>\n",
              "      <td>-1.0</td>\n",
              "      <td>-1.0</td>\n",
              "      <td>-1.0</td>\n",
              "      <td>-1.0</td>\n",
              "    </tr>\n",
              "    <tr>\n",
              "      <th>7</th>\n",
              "      <td>NaN</td>\n",
              "      <td>-1.0</td>\n",
              "      <td>-1.0</td>\n",
              "      <td>NaN</td>\n",
              "      <td>-1.0</td>\n",
              "      <td>-1.0</td>\n",
              "      <td>-1.0</td>\n",
              "      <td>-1.0</td>\n",
              "    </tr>\n",
              "  </tbody>\n",
              "</table>\n",
              "</div>"
            ],
            "text/plain": [
              "     0    1    2    3    4    5    6    7\n",
              "0 -1.0  NaN  NaN -1.0 -1.0 -1.0 -1.0 -1.0\n",
              "1  3.0  NaN -1.0 -1.0 -1.0  NaN -1.0 -1.0\n",
              "2 -1.0 -1.0  NaN -1.0 -1.0 -1.0  NaN -1.0\n",
              "3 -1.0 -1.0 -1.0 -1.0 -1.0  NaN -1.0 -1.0\n",
              "4  NaN -1.0 -1.0  NaN  NaN -1.0 -1.0 -1.0\n",
              "5 -1.0 -1.0 -1.0 -1.0  NaN -1.0  NaN  NaN\n",
              "6 -1.0  NaN -1.0  NaN -1.0 -1.0 -1.0 -1.0\n",
              "7  NaN -1.0 -1.0  NaN -1.0 -1.0 -1.0 -1.0"
            ]
          },
          "metadata": {
            "tags": []
          },
          "execution_count": 202
        }
      ]
    },
    {
      "cell_type": "code",
      "metadata": {
        "id": "5lTpDde-76Jy"
      },
      "source": [
        "# Almacenar estado actual\n",
        "state = qmaze.state\n",
        "# Ejecutar acción\n",
        "canvas, reward, game_over = qmaze.act(action)\n",
        "# Alamcear estado nuevo\n",
        "state_ = qmaze.state"
      ],
      "execution_count": 203,
      "outputs": []
    },
    {
      "cell_type": "code",
      "metadata": {
        "colab": {
          "base_uri": "https://localhost:8080/",
          "height": 286
        },
        "id": "AePoz-4S777A",
        "outputId": "6de349f0-a382-41ca-d933-332bd53d53ee"
      },
      "source": [
        "print(state_)\n",
        "env_maze.show(qmaze)"
      ],
      "execution_count": 205,
      "outputs": [
        {
          "output_type": "stream",
          "text": [
            "(2, 0, 'valid')\n"
          ],
          "name": "stdout"
        },
        {
          "output_type": "execute_result",
          "data": {
            "text/plain": [
              "<matplotlib.image.AxesImage at 0x7f51f7757710>"
            ]
          },
          "metadata": {
            "tags": []
          },
          "execution_count": 205
        },
        {
          "output_type": "display_data",
          "data": {
            "image/png": "[encoded data removed]",
            "text/plain": [
              "<Figure size 432x288 with 1 Axes>"
            ]
          },
          "metadata": {
            "tags": [],
            "needs_background": "light"
          }
        }
      ]
    },
    {
      "cell_type": "code",
      "metadata": {
        "id": "50D3wQag8g-s"
      },
      "source": [
        "def update_V_table(V_table, state, state_, reward, alpha=0.05, gamma=0.90):\n",
        "    # alpha -> learning rate\n",
        "    # gamma -> discount factor\n",
        "    state = np.array(state[:2])\n",
        "    state_ = np.array(state_[:2])\n",
        "    V_table[tuple(state)] = (1-alpha)*V_table[tuple(state)] + alpha*(reward + gamma*V_table[tuple(state_)])\n",
        "    return V_table"
      ],
      "execution_count": 216,
      "outputs": []
    },
    {
      "cell_type": "code",
      "metadata": {
        "colab": {
          "base_uri": "https://localhost:8080/",
          "height": 297
        },
        "id": "wTOw7rtEDL4o",
        "outputId": "dbe0c997-451f-42f1-fbc2-58f105b96cfe"
      },
      "source": [
        "V_table = update_V_table(V_table, state, state_, reward)\n",
        "pd.DataFrame(V_table)"
      ],
      "execution_count": 207,
      "outputs": [
        {
          "output_type": "execute_result",
          "data": {
            "text/html": [
              "<div>\n",
              "<style scoped>\n",
              "    .dataframe tbody tr th:only-of-type {\n",
              "        vertical-align: middle;\n",
              "    }\n",
              "\n",
              "    .dataframe tbody tr th {\n",
              "        vertical-align: top;\n",
              "    }\n",
              "\n",
              "    .dataframe thead th {\n",
              "        text-align: right;\n",
              "    }\n",
              "</style>\n",
              "<table border=\"1\" class=\"dataframe\">\n",
              "  <thead>\n",
              "    <tr style=\"text-align: right;\">\n",
              "      <th></th>\n",
              "      <th>0</th>\n",
              "      <th>1</th>\n",
              "      <th>2</th>\n",
              "      <th>3</th>\n",
              "      <th>4</th>\n",
              "      <th>5</th>\n",
              "      <th>6</th>\n",
              "      <th>7</th>\n",
              "    </tr>\n",
              "  </thead>\n",
              "  <tbody>\n",
              "    <tr>\n",
              "      <th>0</th>\n",
              "      <td>-0.014357</td>\n",
              "      <td>NaN</td>\n",
              "      <td>NaN</td>\n",
              "      <td>-0.078508</td>\n",
              "      <td>0.138790</td>\n",
              "      <td>0.005406</td>\n",
              "      <td>-0.028817</td>\n",
              "      <td>-0.075848</td>\n",
              "    </tr>\n",
              "    <tr>\n",
              "      <th>1</th>\n",
              "      <td>-0.025049</td>\n",
              "      <td>NaN</td>\n",
              "      <td>0.049844</td>\n",
              "      <td>0.029668</td>\n",
              "      <td>-0.057994</td>\n",
              "      <td>NaN</td>\n",
              "      <td>0.040547</td>\n",
              "      <td>-0.039688</td>\n",
              "    </tr>\n",
              "    <tr>\n",
              "      <th>2</th>\n",
              "      <td>-0.047327</td>\n",
              "      <td>0.044541</td>\n",
              "      <td>NaN</td>\n",
              "      <td>0.052012</td>\n",
              "      <td>0.075199</td>\n",
              "      <td>-0.242778</td>\n",
              "      <td>NaN</td>\n",
              "      <td>-0.015710</td>\n",
              "    </tr>\n",
              "    <tr>\n",
              "      <th>3</th>\n",
              "      <td>-0.177447</td>\n",
              "      <td>-0.002482</td>\n",
              "      <td>-0.053609</td>\n",
              "      <td>-0.100560</td>\n",
              "      <td>-0.130847</td>\n",
              "      <td>NaN</td>\n",
              "      <td>-0.063677</td>\n",
              "      <td>-0.300711</td>\n",
              "    </tr>\n",
              "    <tr>\n",
              "      <th>4</th>\n",
              "      <td>NaN</td>\n",
              "      <td>0.161976</td>\n",
              "      <td>-0.056162</td>\n",
              "      <td>NaN</td>\n",
              "      <td>NaN</td>\n",
              "      <td>0.055167</td>\n",
              "      <td>-0.055503</td>\n",
              "      <td>-0.001470</td>\n",
              "    </tr>\n",
              "    <tr>\n",
              "      <th>5</th>\n",
              "      <td>-0.070258</td>\n",
              "      <td>-0.054838</td>\n",
              "      <td>0.059866</td>\n",
              "      <td>-0.112945</td>\n",
              "      <td>NaN</td>\n",
              "      <td>0.092802</td>\n",
              "      <td>NaN</td>\n",
              "      <td>NaN</td>\n",
              "    </tr>\n",
              "    <tr>\n",
              "      <th>6</th>\n",
              "      <td>-0.079372</td>\n",
              "      <td>NaN</td>\n",
              "      <td>0.002623</td>\n",
              "      <td>NaN</td>\n",
              "      <td>-0.008160</td>\n",
              "      <td>-0.212706</td>\n",
              "      <td>0.038816</td>\n",
              "      <td>-0.105833</td>\n",
              "    </tr>\n",
              "    <tr>\n",
              "      <th>7</th>\n",
              "      <td>NaN</td>\n",
              "      <td>0.081142</td>\n",
              "      <td>-0.189194</td>\n",
              "      <td>NaN</td>\n",
              "      <td>0.063983</td>\n",
              "      <td>0.068434</td>\n",
              "      <td>-0.092102</td>\n",
              "      <td>-0.144734</td>\n",
              "    </tr>\n",
              "  </tbody>\n",
              "</table>\n",
              "</div>"
            ],
            "text/plain": [
              "          0         1         2  ...         5         6         7\n",
              "0 -0.014357       NaN       NaN  ...  0.005406 -0.028817 -0.075848\n",
              "1 -0.025049       NaN  0.049844  ...       NaN  0.040547 -0.039688\n",
              "2 -0.047327  0.044541       NaN  ... -0.242778       NaN -0.015710\n",
              "3 -0.177447 -0.002482 -0.053609  ...       NaN -0.063677 -0.300711\n",
              "4       NaN  0.161976 -0.056162  ...  0.055167 -0.055503 -0.001470\n",
              "5 -0.070258 -0.054838  0.059866  ...  0.092802       NaN       NaN\n",
              "6 -0.079372       NaN  0.002623  ... -0.212706  0.038816 -0.105833\n",
              "7       NaN  0.081142 -0.189194  ...  0.068434 -0.092102 -0.144734\n",
              "\n",
              "[8 rows x 8 columns]"
            ]
          },
          "metadata": {
            "tags": []
          },
          "execution_count": 207
        }
      ]
    },
    {
      "cell_type": "code",
      "metadata": {
        "colab": {
          "base_uri": "https://localhost:8080/"
        },
        "id": "4jLGJkTKDSFF",
        "outputId": "5d7b9821-24af-478f-fdc9-29d2f11835e2"
      },
      "source": [
        "# Establecer 'seed'\n",
        "#------------------\n",
        "seed = 123\n",
        "random.seed(seed)\n",
        "os.environ['PYTHONHASHSEED'] = str(seed)\n",
        "np.random.seed(seed)\n",
        "# Parámetros (hyper-parameters)\n",
        "#-----------\n",
        "init_pos = (0,0)\n",
        "exploration_rate = 0.20\n",
        "NUM_EPISODES = 1000\n",
        "alpha = 0.1 #-> learning rate\n",
        "gamma = 0.95 #-> discount factor \n",
        "\n",
        "# Algoritmo\n",
        "#----------\n",
        "# Iniciar tabla de valores (V_table)\n",
        "V_table = init_V_table(maze.shape)\n",
        "for _ in tqdm(range(NUM_EPISODES)):\n",
        "    # Iniciar laberinto\n",
        "    qmaze.reset(init_pos)\n",
        "    # Almacenar estado actual\n",
        "    state = qmaze.state\n",
        "    while qmaze.game_status()=='not_over':\n",
        "        # Seleccionar acción\n",
        "        action = select_action(V_table, state, exploration_rate)\n",
        "        # Ejecutar acción\n",
        "        canvas, reward, game_over = qmaze.act(action)\n",
        "        # Almacenar estado nuevo\n",
        "        state_ = qmaze.state\n",
        "        # Actualizar V_table\n",
        "        V_table = update_V_table(V_table, state, state_, reward, alpha=alpha, gamma=gamma)\n",
        "        # Reasignar estado\n",
        "        state = state_"
      ],
      "execution_count": 292,
      "outputs": [
        {
          "output_type": "stream",
          "text": [
            "100%|██████████| 1000/1000 [00:04<00:00, 212.50it/s]\n"
          ],
          "name": "stderr"
        }
      ]
    },
    {
      "cell_type": "code",
      "metadata": {
        "colab": {
          "base_uri": "https://localhost:8080/",
          "height": 297
        },
        "id": "-Z1g4jQdeOiH",
        "outputId": "f7bcce4f-2ce5-4b4a-84df-1ef99924d205"
      },
      "source": [
        "pd.DataFrame(V_table)"
      ],
      "execution_count": 293,
      "outputs": [
        {
          "output_type": "execute_result",
          "data": {
            "text/html": [
              "<div>\n",
              "<style scoped>\n",
              "    .dataframe tbody tr th:only-of-type {\n",
              "        vertical-align: middle;\n",
              "    }\n",
              "\n",
              "    .dataframe tbody tr th {\n",
              "        vertical-align: top;\n",
              "    }\n",
              "\n",
              "    .dataframe thead th {\n",
              "        text-align: right;\n",
              "    }\n",
              "</style>\n",
              "<table border=\"1\" class=\"dataframe\">\n",
              "  <thead>\n",
              "    <tr style=\"text-align: right;\">\n",
              "      <th></th>\n",
              "      <th>0</th>\n",
              "      <th>1</th>\n",
              "      <th>2</th>\n",
              "      <th>3</th>\n",
              "      <th>4</th>\n",
              "      <th>5</th>\n",
              "      <th>6</th>\n",
              "      <th>7</th>\n",
              "    </tr>\n",
              "  </thead>\n",
              "  <tbody>\n",
              "    <tr>\n",
              "      <th>0</th>\n",
              "      <td>-1.184277</td>\n",
              "      <td>NaN</td>\n",
              "      <td>NaN</td>\n",
              "      <td>-1.058357</td>\n",
              "      <td>-0.864138</td>\n",
              "      <td>-0.834799</td>\n",
              "      <td>-0.802037</td>\n",
              "      <td>-0.787719</td>\n",
              "    </tr>\n",
              "    <tr>\n",
              "      <th>1</th>\n",
              "      <td>-1.135516</td>\n",
              "      <td>NaN</td>\n",
              "      <td>-1.188818</td>\n",
              "      <td>-1.012847</td>\n",
              "      <td>-0.885577</td>\n",
              "      <td>NaN</td>\n",
              "      <td>-0.733144</td>\n",
              "      <td>-0.621252</td>\n",
              "    </tr>\n",
              "    <tr>\n",
              "      <th>2</th>\n",
              "      <td>-1.087002</td>\n",
              "      <td>-1.056854</td>\n",
              "      <td>NaN</td>\n",
              "      <td>-0.925121</td>\n",
              "      <td>-0.893130</td>\n",
              "      <td>-1.187474</td>\n",
              "      <td>NaN</td>\n",
              "      <td>-0.541603</td>\n",
              "    </tr>\n",
              "    <tr>\n",
              "      <th>3</th>\n",
              "      <td>-1.160347</td>\n",
              "      <td>-1.015452</td>\n",
              "      <td>-0.986507</td>\n",
              "      <td>-0.955302</td>\n",
              "      <td>-1.005788</td>\n",
              "      <td>NaN</td>\n",
              "      <td>-0.411249</td>\n",
              "      <td>-0.520865</td>\n",
              "    </tr>\n",
              "    <tr>\n",
              "      <th>4</th>\n",
              "      <td>NaN</td>\n",
              "      <td>-1.297803</td>\n",
              "      <td>-1.251756</td>\n",
              "      <td>NaN</td>\n",
              "      <td>NaN</td>\n",
              "      <td>-0.330384</td>\n",
              "      <td>-0.329975</td>\n",
              "      <td>-0.538680</td>\n",
              "    </tr>\n",
              "    <tr>\n",
              "      <th>5</th>\n",
              "      <td>-1.249484</td>\n",
              "      <td>-1.262920</td>\n",
              "      <td>-1.256683</td>\n",
              "      <td>-1.237560</td>\n",
              "      <td>NaN</td>\n",
              "      <td>-0.269334</td>\n",
              "      <td>NaN</td>\n",
              "      <td>NaN</td>\n",
              "    </tr>\n",
              "    <tr>\n",
              "      <th>6</th>\n",
              "      <td>-1.227350</td>\n",
              "      <td>NaN</td>\n",
              "      <td>-1.251445</td>\n",
              "      <td>NaN</td>\n",
              "      <td>-0.395546</td>\n",
              "      <td>-0.102075</td>\n",
              "      <td>-0.010680</td>\n",
              "      <td>0.200751</td>\n",
              "    </tr>\n",
              "    <tr>\n",
              "      <th>7</th>\n",
              "      <td>NaN</td>\n",
              "      <td>-1.219908</td>\n",
              "      <td>-1.255490</td>\n",
              "      <td>NaN</td>\n",
              "      <td>-0.381875</td>\n",
              "      <td>-0.044995</td>\n",
              "      <td>0.280100</td>\n",
              "      <td>0.000000</td>\n",
              "    </tr>\n",
              "  </tbody>\n",
              "</table>\n",
              "</div>"
            ],
            "text/plain": [
              "          0         1         2  ...         5         6         7\n",
              "0 -1.184277       NaN       NaN  ... -0.834799 -0.802037 -0.787719\n",
              "1 -1.135516       NaN -1.188818  ...       NaN -0.733144 -0.621252\n",
              "2 -1.087002 -1.056854       NaN  ... -1.187474       NaN -0.541603\n",
              "3 -1.160347 -1.015452 -0.986507  ...       NaN -0.411249 -0.520865\n",
              "4       NaN -1.297803 -1.251756  ... -0.330384 -0.329975 -0.538680\n",
              "5 -1.249484 -1.262920 -1.256683  ... -0.269334       NaN       NaN\n",
              "6 -1.227350       NaN -1.251445  ... -0.102075 -0.010680  0.200751\n",
              "7       NaN -1.219908 -1.255490  ... -0.044995  0.280100  0.000000\n",
              "\n",
              "[8 rows x 8 columns]"
            ]
          },
          "metadata": {
            "tags": []
          },
          "execution_count": 293
        }
      ]
    },
    {
      "cell_type": "code",
      "metadata": {
        "id": "sVwCdxWpfMiD"
      },
      "source": [
        "fig, ax = plt.subplots(figsize=(5,5))\n",
        "# Iniciar tabla de acciones\n",
        "action_table = init_action_table(maze.shape)\n",
        "qmaze.reset(init_pos)\n",
        "# Almacenar estado actual\n",
        "state = qmaze.state\n",
        "imgs = []\n",
        "# Concatenar imagenes\n",
        "img = env_maze.show(qmaze)\n",
        "imgs.append([img])\n",
        "# ims = []\n",
        "while qmaze.game_status()=='not_over':\n",
        "    # Seleccionar acción\n",
        "    action = select_action(V_table, state, -1.0)\n",
        "    # Actualizar action_table\n",
        "    action_table = update_action_table(action_table, state, action)\n",
        "    # Ejecutar acción\n",
        "    canvas, reward, game_over = qmaze.act(action)\n",
        "    # Reasignar estado\n",
        "    state = qmaze.state\n",
        "    # Concatenar imagenes\n",
        "    img = env_maze.show(qmaze)\n",
        "    imgs.append([img])\n",
        "\n",
        "ani = animation.ArtistAnimation(fig, imgs, interval=500, blit=True,\n",
        "                                repeat_delay=1000)\n",
        "plt.close()"
      ],
      "execution_count": 338,
      "outputs": []
    },
    {
      "cell_type": "code",
      "metadata": {
        "colab": {
          "base_uri": "https://localhost:8080/",
          "height": 381
        },
        "id": "Up7CPmOPzFdZ",
        "outputId": "1579c3f4-2cbe-4f34-dd9e-47c7e9ce5bf5"
      },
      "source": [
        "display.HTML(ani.to_html5_video())"
      ],
      "execution_count": 339,
      "outputs": [
        {
          "output_type": "execute_result",
          "data": {
            "text/html": [
              "<video width=\"360\" height=\"360\" controls autoplay loop>\n",
              "  <source type=\"video/mp4\" src=\"data:video/mp4;base64,AAAAHGZ0eXBNNFYgAAACAGlzb21pc28yYXZjMQAAAAhmcmVlAAA0O21kYXQAAAKtBgX//6ncRem9\n",
              "5tlIt5Ys2CDZI+7veDI2NCAtIGNvcmUgMTUyIHIyODU0IGU5YTU5MDMgLSBILjI2NC9NUEVHLTQg\n",
              "QVZDIGNvZGVjIC0gQ29weWxlZnQgMjAwMy0yMDE3IC0gaHR0cDovL3d3dy52aWRlb2xhbi5vcmcv\n",
              "eDI2NC5odG1sIC0gb3B0aW9uczogY2FiYWM9MSByZWY9MyBkZWJsb2NrPTE6MDowIGFuYWx5c2U9\n",
              "MHgzOjB4MTEzIG1lPWhleCBzdWJtZT03IHBzeT0xIHBzeV9yZD0xLjAwOjAuMDAgbWl4ZWRfcmVm\n",
              "PTEgbWVfcmFuZ2U9MTYgY2hyb21hX21lPTEgdHJlbGxpcz0xIDh4OGRjdD0xIGNxbT0wIGRlYWR6\n",
              "b25lPTIxLDExIGZhc3RfcHNraXA9MSBjaHJvbWFfcXBfb2Zmc2V0PS0yIHRocmVhZHM9MyBsb29r\n",
              "YWhlYWRfdGhyZWFkcz0xIHNsaWNlZF90aHJlYWRzPTAgbnI9MCBkZWNpbWF0ZT0xIGludGVybGFj\n",
              "ZWQ9MCBibHVyYXlfY29tcGF0PTAgY29uc3RyYWluZWRfaW50cmE9MCBiZnJhbWVzPTMgYl9weXJh\n",
              "bWlkPTIgYl9hZGFwdD0xIGJfYmlhcz0wIGRpcmVjdD0xIHdlaWdodGI9MSBvcGVuX2dvcD0wIHdl\n",
              "aWdodHA9MiBrZXlpbnQ9MjUwIGtleWludF9taW49MiBzY2VuZWN1dD00MCBpbnRyYV9yZWZyZXNo\n",
              "PTAgcmNfbG9va2FoZWFkPTQwIHJjPWNyZiBtYnRyZWU9MSBjcmY9MjMuMCBxY29tcD0wLjYwIHFw\n",
              "bWluPTAgcXBtYXg9NjkgcXBzdGVwPTQgaXBfcmF0aW89MS40MCBhcT0xOjEuMDAAgAAAE1BliIQA\n",
              "Fv/+99M/zLLr9zm146j3op4mX0N1JQGblsTtOoAAACuNCE19g9rMS67AAhSOf9ALkUJgB+ZCEA+q\n",
              "q8GZlqmS/F8RUxwtoGQ3iTjvuPTvRoB8EQunLEGLm+2vaoyVCO+Mw6p5Z0OfEUmFqHh/KbsaDK2M\n",
              "JnKBD291N1McSDEiNoDBEhcLTzQMMHk9rmgfaXYshPA12KwZuTVybd5bL/Sa7qPSJoumuNIlDSeP\n",
              "yH3ZfP8YgOEMeT7kzcp36F5P2S4M/wKiGwxSpVS+3XoB1HDGLh316/bUcOH/+5zaOAmtP8HnKo4y\n",
              "+0ser3LMvYTm3aiZrlczcS+8iYQVehzK9Ovjn3+QHYQ23LmgIUrISpu9+x/r2L2kqk6MbnE0W0O9\n",
              "o9oUM2FOiwzTRk9YW1jYYXVjavJLNMLIC8NWPoAOYJ2hfFS5QyDsU+Dj0E3oGQuwCaz6/yYzQU2s\n",
              "zNu7Vc1EdHEhEadEIs2KX1UC9jA8Y07dYkik5/jW7g3n24MBbY20lCXH8Jo5x5S17HY8TAsb3aM6\n",
              "X8TNECRksGQTIiByxEQejQqXPO1d6t7FhHBZ+AG6DvRZuK/QZfIdrVnONDKIsVP0+wrlwkpMk68m\n",
              "SYMmDfioa7dVSZpLjbfX2M3e+I2seFjEgxS0O5bycXYwsr62KQyVheg5SAlWSADggc7wK2ESTqvm\n",
              "e5KfD0xitD85q0T27ul/2n/+UArgyaOavcltmtelwkxbjcUqQOtASStrKjqw+DyYdHkA5BxzMiDs\n",
              "70G7W1clOPtUWpH0znL4D2k1lTwzXk8e7oo6aMRhvAb6tbh0u/bfI0cd10+3kmik9kxlB2VtUpIz\n",
              "XC/f3PcSqM1g5ZtYtTuoAcz7XhIpSipEklESbZOploUdCIFolBF2bZ62phY8XaOzTpuy8iyq3I/Q\n",
              "Q1eqeSqQCu3ph4ys8RdrV1TLz4C4ggDZztDWyeFwfsW9vAksyKqNW9EELRwyO1csUHp6NMBJQwzE\n",
              "QG+BbvbPeGtWmThQ0qxfiGKAowCK2hW8clG9HaYm3g8eBW7gOyTfH4avsflH9aOK8CnnLEBed1+3\n",
              "04gLtjwq+10MQBD1xc9ApoqUPT1J2d888jpP1SovPRWxyEctfO8y8u3VEizZdQXqmwDv7xXyy99t\n",
              "vw14/rsQN0zG+KzRmS/9AfJzQA4BZ7bKPi7IqunQcxSu9CIOCH/VwMfi3mK9TmXDYP8kp6Qlon8T\n",
              "6y5mds1y1qWqIT9ethQdMj+eQK7CiDVw37MIL2zra63AzSYQPcXZG7kZrfEIthqxiShKwMa0PYJL\n",
              "nmMePIDORP7vyYM+8JTQBq0otV2NflYi+QDLtboEErzmAYDCVgAXvR9Et4j9ok+5q1bzP3gkLZLY\n",
              "TRU3A5mHLA7NRRfq9a0xSrClzgYr25bAlJVZDdHFmdCPWb9nLjFXEm8Xg4jR1qeuoVujxYlLj+q5\n",
              "iU4mURRNjMUvEQo/AogQKwMm/+JHnZVc8JLT0Ez0wyqO7xLtvX6FY26mhRMBWUC0FYp50xNA7TCM\n",
              "Yz8RdOzhmhup2IY7n87oEyBvxg+glCQ51Dz5mcy0HVAPd3sFr5rgyabr9zB6lADaIA3WGlLReVpv\n",
              "YM3jWiVB2frbBKqYrn27KnwX38wGOC1u72OeX2oYF5jakGB9f/o/prBX/aCtPsXWRjCcTHLhc+jj\n",
              "VRjDwM1q29FTE7ohDbZLEDJQ7UxrIB7+I4gbdGcXqU98dUZ98xxriXNuEoJfcZUa7rPHB+9OKSWz\n",
              "e8g8MIxFLwU+fK2xWy2wzc20kl2hu6EFyjCm6UZsNM9z0dqRdzW92EzHhQ7+z6xKW3d5pcHvRsIt\n",
              "u2oj3Z7UOczUA0++Aq3eCmkDFTlp93OHMgw2gPjBF4Ud4jemtMdYGsgg086tg4az1H81S9Lsq/cf\n",
              "ectwKOu7w8VCoJ13afAwp6ujDY/BodSfg+/eo8pJu29VFZDhCvlbAjqw2jWimvZ6Qr+0QfwEnoB/\n",
              "fJZZ8AVdl/mqpNz2rEGdYS17idjQIiVlS+SW6dfD5THSTfEebMyKrhg4E7amwzv/Z+pmxhR0x3KH\n",
              "kdVzgt6JPB2Z3VJvq0sxFX8cAvVa33qQsz6Hjre+OzYZ3D/KOGsObrkBABitCxLqUUvN/Ci9ip7B\n",
              "uhfMJa+yfOUod8Zv8u6F6mn1gDjC5awIgeHwhw5PY5jztFY58LeqcmyY+7KtNaq3d2uJ9ZBjZNPz\n",
              "z2M6mODPGRNQVPODmy/6ZD8Lsqg/6Td6hl8ssNOMkn+7devXf2L5T/56SlKDqWUuxvBI9LM+NDGA\n",
              "GTgODre0f+RSfvAMaouICHTX021lkR+L8e492xgNap/+EGH5HDaSmMbJJ/mpF9fECi8d6jfVfwO6\n",
              "WEMYslRit47DfsbmfRB41qaI26ZazxhFRuAM1jl0xPl4DMS2Pqy7tezDD8IqRo+HieCka9xeLf9+\n",
              "gv7rmRhOLd90kusfU3X7lxQSL0sNZDulX35bVT+C2OGLmTM8NeeuOtxYp/Zro2FHphgD65G/cTgp\n",
              "tNoa+MbAR29Kl4Kyt/ZLg+LG7iMnK+OU04TR4vdKPvR4VvIDzxC+I1e6AH4HvEjjiS2+mQ3gxV4B\n",
              "ublAVPQYMLpcbQ4e3039bhAYiU9wRsGa3EAy0armJpDL3Kf8u9QgxY+WHCvqhuGVigwl8GYBsLai\n",
              "peoKsopX2z8jcCN2gvtvll2LLWHCA4ytqI81coaj1mLwn33Oeomg8I9w37e4C5C9pZz5UsqtleJt\n",
              "OrT9JzR36LDHlXRep/439+4/+E5SZjPFfIR1Zz+XzS5VJNNmajLf8ptqW7ANZj763dYiJSIvO36p\n",
              "YswldIex/4PsEKUhCH2e0EBLOKd9JxJWAKOxTdx0bJ8woOe9lNz5QZmSdWHr7NnUHoLwl7+N7THt\n",
              "95tpVQBKgy0agwpBw9p3JVbhfqafQZ0xvJMscKApXUyKTHd5XQfp2ljw6Ufkxt0S+An9zbhdi1wl\n",
              "yyDa3No8MMVlDOf2u9xaNHdsCmLc6E79aR83ZdLu0cJn47Zq6EN+bDmRD01tNLF9Kw7UDmIOiKnm\n",
              "27dwwKHqDFwekQQ22dzel8VIvMrj7kMvHR949DMcUgqB8rYovPMJ2ZIQrYw7gusKU025jTBzZx/s\n",
              "nx0reMuGQEVzgZph/Msn8okdnvtFQ+uhAO+KoG3+N6apEESwtNnH13mJ1KjaUxLInTNqjnucLGcQ\n",
              "TFDaXY6EfufRh97q7ryCv17MCCDe7fYV+vbBB1AM6QheGmNkHPl+1pq51HGimgvrE10Cf76Hkc5W\n",
              "GE8vnmHXCUoHXrXxXxXbcXMez8/SoXziwqCDh+Z6qDW0Ak9jAX4KZPfHJzGKFkYA7z2PYAsjR79k\n",
              "hdhNNNduawcVqPXFY5GsEAS3/PhQaT2BiWhztgQ2tiT25AZSmcPTvhgCHYQe+YXv0o40VAsUNQzS\n",
              "eQ6PPargr05ooKN9+EIgj5/TMs6uPH3wDwsvhpOVxC7I6Yt1Ek9t3bwSVv8dA7gQrjxJnp2Z1kCC\n",
              "o1N5YjQGx0dagkeXNVKbJL2vZeXLx7FzktAOtg+SNYoY/wHGsE6f0etAW17bCBNdLFnVW5Yz+zt5\n",
              "l5+Ymb7gJ2syZwDn73+x5pqzILe1NaT2dM4S3HeDE+lMcxn8YZwEBASjntN+lySxUnF9jaPegrLX\n",
              "etxtmtwUFzJ5OHd1WXaW9HtcFgnBBdWI1VIVAeS2Fv//ynw4TD+dHPYwPmCEf1VoRb/6jIvtzU0k\n",
              "NzVA7Xo+iNv0TN+mLspZy2nWyQwx7khDAo7JZrNwCpHkSKeYk4ZzXDdNt4SrmCNblNI/+U8KLcWg\n",
              "G82AQi4Y4A3ikLtidqhLC+dVxDnB1V5BcCUDpHYmZeSbaY1dZXhDxo5gq2G3TOA7L/VlJga05IiD\n",
              "iNLonGPX4JUL5iavyGFJb9qFZoHQNSD/GthgI9EgO5uQfVBUhW9eBgf6Awb9zSxfu7UCXDOfW65U\n",
              "/YCo2ljqhLpHYn4Cq8RUPmVP5meHxpt4zboTomxrFNKQcTFcUp1qrwdAeESzKYiV8FqWPNkQmwG4\n",
              "C0NopFoaCvtc8SkFlxkMMWQNejh/kur7qxiX5wKO2UYku24slkQNw+aGDLk3teUYP553LKCSdDB6\n",
              "2dD3P+TkVhTcZCoO/FuPgjD9BPnsJQURNR9G0Ifj6H+/TdJLnSF7uN3TJpLWVsT1IHnZAxEZLFt3\n",
              "UYklO4YglM/HdnHSdcKDcUvQo9u+ACVSt/2DdE+o82xSZqis/gD2ZaJ5hFmjOYcn3Qv1KLbbPBn3\n",
              "348GiWZfqRbTrA4IDAK1ItQYvEpsld9kTkL/yaAaRH/gfAV9B55i68PuNzVaP7WLB5liyqVassC0\n",
              "oBk6HrqQB6tsTLH9aTtmTK8qQEYiHXoIP4VHfnRtrK02qs87i7QvCZWXoUQhC9wXoj0XXMy9q5tt\n",
              "EOicsfvtkg8ziHFYF5ilgaDd94KaYmc73l5HJMt/4twX1ohPKRE+I+xJ3UrX8lqXgRu2FA0wnyug\n",
              "SA4iGYHgfVXS9Odrg9NAIMZpR3a2/1tS+JelH8txGa+/7PPPiGfoNRp3wyh7jNLpI36WyX9zzXaA\n",
              "JYGG7cuPX1RelvQpKwTrgOs0reZzfeTxONX+lnpo81sXQBIsMD03d8abCWbudXRBgeUxedKXuosB\n",
              "jBLef+gHzE44KPo6HhcgpauPPwChb3W1LjZHAzqLPFa1/oqi+umvs6QYRw+qjefIRYGn51z2A/bh\n",
              "bEsp4qRX+nd8e7NUrmmMMhxdaPch+adTgxJ6W8SNfjy5IZP8tidsUaDQ+qKYGs/x6Z/T+2pNK8HQ\n",
              "I9tOgM+BKV2q5XUSUvOFh6eNgTNFBvH5dgdA58+FlSLfisP2i/D2c4Lzkpm4qZPuBT7jFMok757l\n",
              "6WQvcY2Epw+ZGpTXyuO34I63bLNdZ+knEr8udaSEA9ow2DsqxCXM8CwsnqYxYm21Ia14rYD8Jm/x\n",
              "F4utRayhvRsVeAImFPwWtVqXzlCwkrl97pNOOXSX62meM/1xT+d4v5Vxa8e19KJDZg7nHtjX7wot\n",
              "enVecik7hC+OXzY3NMON6ha2o9qogZOjKbOkVqs+D2KOUWgakvtL1UuLgfm4YpREDM7ZH+10Xbi1\n",
              "mRusRkUWg8/tF47BRmouogsqtTZdAFdOGe10zuiaHODuXws9UmUoOPPVMucj+zGyTVrR8IwySlnx\n",
              "o5UQO2LOZl2vX8xP/THWYEaE0dSr+u6TnVFojsS4buKUJlT7PNsO1xioOHSyCsXGtKJduL1L8Zlx\n",
              "MlqDfvPqFTrqyBF8x5c6F6VbyvlHND+1gF/T+bXSfLt4696FHUu9RwpR1yFRHfUaSh3M/73GlfON\n",
              "E/6cKzQDRb+WmHj2Noe4JuNVfBwejxkyZA+9jJPJOQp4gctvjQGFYict2YU04RwkvTh/ktmrKsF1\n",
              "KQ5azTHLCjmAMZpuEojM0k+PjkksrzHgp57ZUb3FfSIq60W68mZqgQoTWdxIzn5/HIEN9iYz1Khl\n",
              "bjpCmUdt97LZ5FkeqXEmR+NgeCHDnkyEefprf6JI7jKHBkGLXc9z9qHny9S5o6fyXE59GqUqZzdc\n",
              "dAobKiQZMFrwimxtibEG0kuTruGIP80Bgdzvyy4tD9jIuE4kC54hJjEo+HHYWJwoFgc0PW7lR1KE\n",
              "XrV9WaCJkrcSegPpmce6jeA59mcKiNrMuckNDj6ReliyWKzP9yHo+uAyqDgHBa+z9LbHzAG0H63S\n",
              "7TufeCjL1i4jQFLz7V3guVTkUlSegio8HbHBxJwl+RG+XgALn48GOFO7wnLvoTEAQxxsEEZA+eGl\n",
              "ovF6aJRyNC4T56vmEGO5zRx9JjIy7xV5pZX97CiXR6AvKwXrjiVtejTwv0EQALGuF9eD9mHGni1h\n",
              "ct0lJjFvOApqnhWmTTksoXRQ7gZHqqCzMFVuZ9Y7hJtqbhjI9HfFX+Mszf3GkLbMdBEvUFmVCzmH\n",
              "iRVZNdSe6X/oqf4NXkFq/54NohHKWq3b55DtCT/muB89bGrBTZkVgDyitqzos2EFS+0wPVut51/C\n",
              "oOlzkZj79bVNMaYUMbEGgOziKgFqYnKqum5iGks/m16wr/qKp/PMDbUljksLEW9olP7zeeobI/3j\n",
              "UVNpTbD81Pr3g4fVBYBJHYuIBsDd8IuxvLobDX+5AFtDvTY96krq4CoD/9yE5jpL1HIYZoGpNRjC\n",
              "DO9HD0VLTJhbZr+eGFCULc4H14iGx+F6ZpJa+W1Jii9z1+UQvPtuk0q+iIjd+jW9UBGwoUNHGm5Y\n",
              "pK7Qq5M63YYu0ZLZ9a+34awJ/Xwx094RYwfzyYD0FcDv4O3O34VFN5cbkuyBwOg9So3O2Yeh1Z52\n",
              "xApRkadfy/BToMakaxXi7RwjPJNDI2nPFdpOYroNjgGb5IHMyIO4YwAtf1zh7Ejp6RpD+9QFxubI\n",
              "qmp1Puh3LmHSpjrBPRUy/PCTrfdubQzuUEkNXIDp9C3734C7TzFtw2v+CPera7/Othvur3LCnBKU\n",
              "anjxAXf0BDvP/W3TvDqmN4+Mbs12QpPvK5bPM6Df7ZOX9fN+b+t6BDEcGQIzzRoyWX1txjirVtmI\n",
              "Seqrz4DNVmgtR03Cd6zH44U/hT+sS4Ercr+SqsU1IA63fQAAI2EAAALvQZoibEFv/talUAfXN0AF\n",
              "tGnPkAK0rkSbSJ4D/4LGxfunxu+pViJw3bVMRosU/t6K2mWFeehk8N8/Bonw01KrAok0Y9TA1aKF\n",
              "sh9YHSzhh+HpSwdCSXTd76MACYQF57er7anpX+D8ds/b0M7wXrJAyrWu94xSk8pxinOsdpBHJ/4u\n",
              "HWs0xScIIduaVymAJF+Fbsn/687+GNzt0UTQcMn+7yxKWxHXqGeX9xWOjV9miACVoxKrcqyEyZqd\n",
              "Pnmo2C5b8jd3RClQiR6V6TixmnStpptgl6V32bF/pe0CgmWOeEvi46GlWegcE8jO5ISOC4Gyx+f3\n",
              "7+hOzuiM94DBSiECr9/qRpox/FEJD3u9pIioJXKHF3vnixJpVmAwg3lialMcxq3rEtmapTWrEwRa\n",
              "Fc5XY86cdhKzIaA2eROd3TJbLnt66seNzHefLSM8QZhcNPDU5H5UKl1uNkKEaUIBoQaDWWtrLXdD\n",
              "kxOqpi1CVAZ7Ndiu0VUOjzZoN/KGetKYfHqD45ze/xdMmGC1+CGbPJQ8QTvuY0d0ycXWLLeDFDtk\n",
              "CK4l2arJWZKiRm9cNz9qQxT40eqjPiTx3ag7ifVZLuDIbSLXhAcsQYb06OlWwkJ/EQqmrKiKi0IN\n",
              "vzWj/c8AbGwv0NAhW5f6PsSEEQ9OZvQkYO52+cZvN/TsNhN2yRYwi3g2BRSSE+C8unVDtyKSKm8S\n",
              "3zA47+ZAyOP29E06J7IWtmzbwhyNsWuAmNdfyXqG87r9yBvnf5eNJcjuFHZ2n0Mw47JMBy3Abzad\n",
              "KnfBd2uh3QYrNS6sMSwmvsaJhyM5lXA45Y3DEww0GTGGAvghhwllzTrBF0w6U/HyAy5JzEjccUHH\n",
              "r6pt31bmR/sFL/DgR0hb2j2fNdosvK76cQNMbOHNP595h999oSZuVV1leVNs2X9dVUaKxkAQLgWY\n",
              "45hE1avKUj/NWxnvznv8uDVQHZg//rIvuDHbe848CD3rG+MElURRFJHk5HhjGNsw3glZdwAAAH0B\n",
              "nkF5BL8AEjS+1Mb95/lm4oiCEhbSycF8OAC6WbY01nD/zCrrLfQqKrSbvY211lYVGUXJJvhaHKZB\n",
              "PMuTMTDfbHEOP5Ok5gtguZJwJlh4NFQ/h1ZHT+hVL4H7SjQnZ6TLMkQ+3ps0iLsLS51848RxdfUC\n",
              "wFP4Kru3NUYYEQAAAYNBmkQ8IZMphBb//talUACMLQPEbxtgARYE9OkgR8/+YO5WRQqJ9chVx6ew\n",
              "Q5MmBKmbtjNy7mCDjqAb8oWERLYgEpEBXjPvtjpXPn7PtYEZWLZRxjpu2Kdtd5X67G9PQKI0syDL\n",
              "OMKS8WC2h1X6WMmQiLV3q9D+iXpcfsEGhfCBOOB1v5Tjv8Yj/hIP/18DdMeX66oYFXGgKsMW3UHX\n",
              "/+TXCApjGMq6vyjRZSNCw080zoR26p+u5exJw33sUYrHDskijWc7I8giLjpYPrYxjzTPzKx+kn6C\n",
              "kgQyHlEbAhCs12wXsYc+E6gfJtAnyKvB5UJpVpgM30m1qse2tRubzN9cbA3lz0mywVk9DdTJeIiP\n",
              "Tn0VYUWxUgErWNaaPcsx8Vj/nSLeWlviKnQXzbDfORQssAnbnNt4z9fXOijHkii0Q6qv3/JL++CM\n",
              "ng8q3FNbybT4TwCT/QNunOKxXS4v6ZrWk+3BAATNdexDjnfddTtCvdORl8tI1ELy5B91X0F1CPUs\n",
              "mB4AAADKAZ5jakEvAAGlUxjhkLyJ21wAsV0/FSZUWrqBulNK69ZY6SZSvmlkLdsnuhOKvn/DSWCp\n",
              "FvvH2KYz7ylgGdZcRMtCe4DqR45k94V72/4c2s3KrSZw6RyZrq+AwtUpb2Yss1mRinpmiB39rxSx\n",
              "wNVpkjmoBI0qoDR5O3U1ijD+YswoidSJI8Uv06ftUlndanY1wcFqcIpo+8GOvuMX3OgPV5YjYvTo\n",
              "6rqx7nFkz7jPX7AMs06VnVAmxSvLagh9GWDCL7FrvewPe+dvwwAAAhBBmmZJ4Q8mUwU8Ff/+1qVQ\n",
              "AGe4IAUAJf3/EYXR5Ax/F0U+tqPGSAofJX1ntb8+siJt9tJWxYC+Uf30Clj357/OsYEf6HtM/p+Y\n",
              "9rAd2WABEVQRMpzdsYowhbzDc4zP80I4JGqhHvrr9ouuxVqZVmUzJdOUobIvs0CzoyhQ5edoKjz1\n",
              "M776YxfueYf2uAfJ7KRXVekfyqOZndLD/7jUCsSwAPHdz3Ql0u8bpHKQZV5cuRAI8rVgIPqgALZl\n",
              "vfr/8JGL4qle5LjLq/uDRfXZF7Rho5dvmWf/9zzScR31Ii7TvOMrnmZ8pJemGWqn6dCABYiqhlPG\n",
              "MZ7uck3YFaxOLZ0a/ItjR9uOuLROTaOM9c0tHbk6ASRe8cXXg+edFjcosShJ5hT51/YCaMqZZCme\n",
              "i20yXHlDgym31e0h3DRC5UNuE9zK8UxIhq4GpoiiR6V87IMCcjpT+L3EA9BEueNv3heQfY8xFrFe\n",
              "+R2itOwSkgSNhizt2lFCtss1x8iaCvjI1aaP0DJerw7yXDSv6o1ZXz7SnDDocMwIM8zame/R28Fs\n",
              "miUqCBEJg2iUhOFwyZ4LARompKMMrx2RH0prDGpHPCWR2GgE2cmJ/VqEkaOT0NJc8LO2D1IhCIGt\n",
              "YoDmWSFh0bPNeSSLkd1rV86hLcc0sin5Z0KEGJyX9dJ1grch7203BV7tPRjP52ZcuSETzDZIoZ8A\n",
              "AACiAZ6FakEvAABxKlKyzg2ZJ/Qu+hvaNsb8PoJo338g+XjmkCjZdfFOikH8cvO1VAixH2A24ivr\n",
              "acq8rz+tSKYvczy+jJVEcNq7WBJEL5LRTY+YebZRVTQMdyMKQkbEvD6efZApfnQYpkyn77QDdWd/\n",
              "s48WHsNc/ZjYzPPHkreDKit+XmCIwyY50J5UvruRxfG9tYakt/VJTLlrN51ZSujQ+Z9NAAACHEGa\n",
              "iEnhDyZTBTwV//7WpVAAXcxOAA+O1v83OxtRT6rOjy1YvhPXCFrWh/7LS98kfblJ3FL/46IX16BG\n",
              "DPwqjgHow/h6ZzEe833gn+tyBH7dP0YtYoz8p8Uo79wWUSxH4xxCJFSLwhI5Lh22MuFeYWeaP7GE\n",
              "eEDU3ISI3WSb8JdLZUO7iYeLOVXeMiph5RvlA3rEE4GutX4LzI1IT0aGQ4qWiXy9nDIGwQ5/MB6s\n",
              "HTaznHSfnV2FjfpT8pxxPQPm3MvZV41wA9LY9ZbZy7bUTx5A8GwyLwsRekwK6qKf1RQV6VQBe6jb\n",
              "uJ6EClKrGhKz8XIMskYWPQYIr9C34MejIO/00oL6YXT+69jrryZc80OEiv/Dx8yBcmJnXuB9nakY\n",
              "x5D6I57IL0/3Jf29nKd7JT70KgFCh4sip0ybPu2rOi3MGBpowMP+SP50quazON/5YzEL2iRSednS\n",
              "HX/wbISbdWtrkPr+JxVU7nEGDYxZFmBbGcuR6wbxU/VUkjhNBxX9Pw5hUch3qaX8gw/uXbak6xzV\n",
              "qVJWdEBAXSGm57IwnklocZEO6m/ar5nuhWAaosreivpu+aXXZPgEO4T8hsXSwM1YOv8bCJsWB8YM\n",
              "8+Y4KeZQQi/psytfdTx/vJ7G+h6NshoNbvznmp42bhbshzXtud7GxxJnzZ0IRXwXwhY/XTy/02CX\n",
              "sQjRnNCoV477CFqbDfYR8ucyme7mLo2d0QAAAJoBnqdqQS8AAWrEmKAEYjpGemuVDli1WJNoidL8\n",
              "TiEQgAZ8eto3/72oWcGQ/8Yi+3AVRtPBovuXqga7VwQzgSy+4Vgq9Ex/GSh4vCa5/W0znrZGgUaj\n",
              "Oh8XO5EbFMWPBntLMky+WSKsFXYmx+1E85kbKR3uGO+6ZPmcf3QM73hbHHOql36EEpUgCX4w54zE\n",
              "r1A6wxSIQCARBuGVAAABh0GaqUnhDyZTAgr//talUAEhSQXAABEBoH4X0DmS2+Pk0/BLSspOXn4U\n",
              "g4ncH0S3LdKDYeoGLabkm6U2sS27onqMZareOaGoa+g7HwnKxkVSHbgrlnr09CfAHksKP0LdkEWE\n",
              "Z4ib5bwDJBrwaC0M/5k59E8e2Il/sQyCbd0XC0jEU2I1eMrilr42LZs5BWxhjsbLZQ9V1/+Th/Z/\n",
              "oWLdsc/iYEDUGGrbcsGL255xQRY2pAqlm1aprnBZ04vMboI5bbjTWQS90cppXjJCHiN5BLbnHijh\n",
              "oXEs1oMZn+bLmyaD3O5zgwatFnDzZ5dELuitwVk8nxKE7MEWkxeo6yTiYwmrTiNyoEjRjE5PKOXj\n",
              "3mMTL54zX9Gj1hqtjqCqmvZNoHaKXzgwwz0fAUyGrOV8vN0ClIKyPoW3wO+819Bqj1wMomnQg8U5\n",
              "ltm0neA7luR3+E9RA58MZGLlOsYWrb8ZmhNWpYmyNhoTIZb7dvLxHGDUFhQlP/Irts0UZULvFFpI\n",
              "JWmCGofGoHAAAAHjQZrLSeEPJlMFETwV//7WpVAEnyL+SsdFMARRs2NogRxTJ+/gSqGJASy/kELU\n",
              "QijJOcvgPLQ//40JanQKDh/3ORkekEEOQoIurjdFJoujXlT4CQZxOAmkUMYLSwrjfSKONFVtDPZo\n",
              "B0vrTfpdTpyMmmXY8SrbRafahTflSE5uluGItjBvLwROn+/MBc0P+HXGYrh8PpBVivi5yQkNRSPF\n",
              "00HgEBot9V+9HZoXQRFiC97jdDnrK+yB57yl5tQL3f5BPekQ99Sgaqzow+GfTq9xrdTJao9vwbGw\n",
              "7MCPnGanNkTcSbuTCIjK/zlnGeVEV33JlVVn19JWvhvEk5sSPeB0e5Su5/RSDveaVRd5coOM05s+\n",
              "B4JdVY2CENJTmjgDRyw1w5Dyz2xO8orRB54Z0OKsaffrCpBAxTNp+zjXFm8DseLvzDR6ToVKh4JQ\n",
              "eMKPkZ8S22E80T0VB5wsDcbkU1+aYRNIHxF3cTCRn5yP36BlXjz9PI5RIkRwsXG8WEf6oaiTwtG2\n",
              "Z8qLoqVYYYYyj/ZFBJStbo/s8la6Box5hnSzpAt4eXYP+2jI8G7sKrpQ3AvqIn6O96tcZwTimV/i\n",
              "UJRwOEo+dCff7BQ+hka5PbypMkQPJBdAXg9o2HnYbJ9IFAYtNz0hAAAAlgGe6mpBLwAOKmMEAD+L\n",
              "b6KK7H+IBDW9Mla3wNW3+mWtK7CKhLSGPz8dr2oETLB708uAl4BKRr0gGOlD2R80gE7z+e155jza\n",
              "aU6y87IOd+PWqQ/N8wNmP+pWmyaKAPfrqy/zioLAN+2KHdOsqmBGCt54yUMC1awMMBX2kflNA39+\n",
              "FGeBJPhMiGcTi0+3Bbl7q7pnp6tiwAAAAPxBmuxJ4Q8mUwIK//7WpVAEF4mYUEAR5hB//f+lkS5j\n",
              "xo6aCvuDbD4J1b8DsOv2jHCYkPfbk8G53RhDmINJT/1iLPnfsZnMVoNpb0b6lQH9Nc40QHrehyW/\n",
              "0bz90M8h/NR7U8J4Yg33qyzV591Nd/FLBBhKVW4OqOBSdqccY/KoAl1NkhpA63UtL/9Z5BTCAz1t\n",
              "dZpCI5yB1XCWDX45rTTv6azb1XysLjzFhkSehp734kzUOoQ6ZK6IpG6cxaQyfFGN5IzFby29Nupb\n",
              "drtfAN4gjoRqTDySdsA4p3gBmnbjTSHn0wF+HGFwdBpZo5RBTtCAZK5eyZDZjX4Ab0AAAAFVQZsN\n",
              "SeEPJlMCCv/+1qVQA7nz3yBfKjeB5YfgAry7qu06o/q8BrdPWjUSYXTd9SjqMM3gTCRh2EGz4j8O\n",
              "e1X8hLWVERbOlsYuYRd8flo0ynPN38kapEP+oOPAbX5zWZOsRlW1Zk1c9x53m95U4nTvQ3VJb0/7\n",
              "/3y3KRXqoK+mPb/YUnjC92DnnXv/Bnc7Ht/eVBRMrAeND4J5gOD/PZaf4H0syH3gJ4yn8AE/GshC\n",
              "/nTD+U9gmVlbFuLDf2S+fB5A8qZygeYcHsV2WVPINXCG29/br4N7rqPVXy23y7jKPnlc6EnxxDEL\n",
              "2aoiJZkyH95KSkD6GL5OeSJvWPdcBBF91D4Eq3YRTU/Dd6LSyDmuj335OAtoJin8TbUyeR/jGArD\n",
              "fBZN5Dwgc7MHdi94VfDi+U/4Hx3Wp12wN/h5zQBVPdMP6bvkSvPY13N+9CZPSMFwbxP4UEEAAAFc\n",
              "QZsvSeEPJlMFETwV//7WpVABAHd8IAv+/jG/k3Wa/XQOvbR8H0ndWlgHhMbQPMuWrg22L3Om8ZXP\n",
              "g0CLbPM9Z7aDPxw34yATuoOsW6B4gHHVWpXA5vJKXIySlyT+NsGutfSIWXa07pL1cw2NvuLc3nRU\n",
              "FZT2zh58E5EuW99wZsDV/bJWuUVd2HYMWTh3F7Wy2gRh19asOhYyd+BkMfh2x+mvDF9MZi2Nj3dW\n",
              "6c9g+qUWalsxX3dMO+FmQ/PBy9YLwAz4UJqvTuEMPQXaK+mxc1mGuZd42P8xO1nInOxaX4A+n30+\n",
              "YgrFgJ7A5LH8/zKqPtokjwLUE8EGh4MMK5gl+ex4OipLcTT6YHN4L8wnFbtn6D/pjz/vVi/LEkVk\n",
              "xPfqGotNquR7QoiqLEJaHauT4ulCxmFOljGHIfBtjvGXeHsR//gJeEObmr7vRBbZelRCzFoJuUj9\n",
              "2gQ9QK+BAAAAowGfTmpBLwAD38hI0Zcr3g3YAOPtJh0ycOGIzYlmLqPI1xmrs4GP7CQeD/+DwJWd\n",
              "0EnrmPqftxobuOm2GWB52BGn236G+T0jT+jZonFv/tfVV4RC/1UO+YR028/+4S1j9YNR9ijwMCZ+\n",
              "LTP5h2+ovyBQQEm716WJRkg4Iq/SylImejgjti7rSwgQ2nCJBCBtxsMSls0AzfPVKXhyUrgN5Vhw\n",
              "vYEAAAECQZtQSeEPJlMCCv/+1qVQAQB5B0AHMw2qf07HOAEscy1AAgVFuh/9MMSshO5jcPNnYbTl\n",
              "KtRAep/0qtlQGDzth7SW7+OJ5N8t9OKblzQsL5YT3F4n7VNt+oXj3SBmtSfoxOa2s5ZSvB5A37c0\n",
              "up5gplYrdG+gNpos8PamSblVLqaU7EHG9VrHyZV0OWkM7/gY/V7Ttuhc+7EXnzzUnGTUuMXEkKZQ\n",
              "4NwSDNZGd53I94yuU/zgpCmBe98p4vgc8gshoHQLamnRZ2HEMcbnwxtFWWDAZhMr1IIMvZurSmNx\n",
              "de9Ped8P+vSZh4toB0ENFNIUKejny5yKBrwEnEU1KiT5uo64AAABN0GbcUnhDyZTAgr//talUAAY\n",
              "rg1gDGgGCTDn/F8RIH8iA5+WFZrkSmLkYOPJugJKdjnJA5y7iYbfB1eY2nlGPVWEH2NoA+GHe0WJ\n",
              "rBeUNa5FRTaWip4hMpdkzBB+eb2HutgJZ1Bba5wiGbpMnam26d2Ye2SliF44GFgCys0xbcJrePkk\n",
              "bf4aLee9aSJYlHCtL8v4OBVmBDxrBRQMdC3N0JNcTFaEQNulS8zVb2/eRzz68qzMmqw7FAN9hndd\n",
              "oxmSiSJvkdoAEPPcxGKSAIgJjAv4b8vWmp0GUGmLjsIWLQAYgepLgT1Svwb4KvBpmtW2b9FzTILq\n",
              "QLUwqYnE7sYC+tr95OxmC0dUyF06H3b4NuIUPRpCbDdyadF1Qv+j94SmaJ88F2ncamOOUinhEmFY\n",
              "pXkGm0Zx6JOaAAABdkGbkknhDyZTAgr//talUAAYDg1uYvPHpomvrPYv5e7A9AISVMh3UgKXMmbo\n",
              "vJLTG/HdKraWSxjQTCEHOKiCcxhwUcjeLrnf5SOXzU8od0Pq3rQv2W8EpaKTwUAIllWLcb9f2rxV\n",
              "TAM/6oPcRr53onyp6tH0yVVDQBnCusXrK/rayV7r2aYsvfP+4imX9vlsvxlDB+q2p5BhK+xN8BEU\n",
              "glUwgZ9JQbDKUrmDPuUOZbzwgJoZPm32hSb7IHdGvzwh6IFlFsOUO7TZyuY69OHiZo9ANy4z+Sn5\n",
              "2zu322KrN3Mcy1AJqggWSJrD7p92z+DxBvTDjlNK3tDFv7G975CtVqoQ7l7PDDgeXFifZaxd40iy\n",
              "btLw9NKkDf/hIJ1lmLCLrC/6yTxuRTTjrkvIUgkTg7QXCTQvb3w8WzqkE+f+5RyIwptsEGy3qFMV\n",
              "xi04Z7BAXwBA57a2Ce+gxuCndoknvxUk6M+7ZkDfzzS8yCdB5PQuAlsMoI25AAABWUGbtEnhDyZT\n",
              "BRE8Ff/+1qVQAAdT5+HbwRHXqs4aAvOlFHM+8NcoIpkJB9eH6RwEAKwemE9AWZdN/+6kn+PwIXHs\n",
              "ePzq0dkqaoB2mvSOiRFB3v2aUv/19MqOR5HoaMHsZQG0H0atxwqViZPLid6tJaQpbPIKzY2Es+Ie\n",
              "eA41mukWLxCv+kMNDVn/6HGhjAyoDVKLvg9DT6geY/SEu/99uDTfHAXOygN1bcwIJ6KLq962D4c2\n",
              "InUsU6r+619SPrbKJ+GKgcWj/OKV0HSJQtt1EehK/+Aq3q+/UvE6YvBN3gVLO44ijIV+khVZ80g5\n",
              "4/M7w6qcNE10kCU7estBDtycOkvXWUH+q7yWF17Riw9j0DX9dnsx18wuXR2BJ7mr8QThFvv2ACDq\n",
              "F75OeWO4p5A1BmdV0guWklyu+F3fGIubPh8ht//CQMU4ZMqHphzyLDmv7+eYej0Fx98mOAAAAN0B\n",
              "n9NqQS8AABxJh4lc5sGvB+IE6AD+L+2E6if/7tEEA++tE98V8dDt2RJYA1MOOejCUCfWuYGpjflD\n",
              "8C3x4jAHo1S7HPTa5p4Afambf3bidXlo6PBXYUwdchV2qSZYg0oBFZYDRyaczE44rW3PLA6NAya2\n",
              "qrnAL141LhylR8f9u6B13L9LiXxLsVuYmtwTNcGKtYALtXVMXl5Dwalf98gavFmc/9uYAat/fZQS\n",
              "5CLPgvNHhdSNahvhSBMbsxFUyv9ZXJDL1Og38VO742Tgtfx4DHT5H32jozfKlgePgAAAAWFBm9VJ\n",
              "4Q8mUwIKf/7WjLAAAruDnuQAwAcYzbJYWvvvtyE33+WbZsdedwJofMZolB58+f8cvr0uisi6tQ0z\n",
              "jZEfJoes2oYNAfZSAoRxzvIMEoc7iQO8uCzzVFCgRUSA1HniTDgWCK98I7PNP2UGPwfRa2lNGSRl\n",
              "K8FalKLLzVBvvkqcZ+dY2AbsHLf7zopTWVAhUt+mZYqjjpWTjE1srsR9t/2x02n3OmOZf/cxxvy5\n",
              "1/85GYtR3kPirgvlPf2ZXfqF2kgyNx+0kOYiX3aqWXIYlvwcFqsilhLgomuY1bgunBFzP6P4M+gj\n",
              "F/Lfnm+ItZjN+yWk0RNm7g8eBNJisBVNSdkENCBqO9H99IaMmglEAbH3QJ8aaZnjm+/RFF0OFp8z\n",
              "lUOaK9aa7mZbHnCU6NGGeVRxLBBp98CgaGcAnqFujJbzBitqhlYW6MT6gvhr5S+hlLWk6UHCNtYa\n",
              "PzNyIrW1QwAAASNBm/ZJ4Q8mUwIKf/7WjLAAAW/6FizmXX2AFuY0wPV8fYiInYVtfXzWtHiWL1AH\n",
              "lYeH1NDWyqToFn2DSs2xGMYpEZQv9nJRUtbLviVa4ppvrTMH8Ikzm0RDgQvDhAjL4nmevq4conpy\n",
              "dSFSwIyl8PEShyXP6KkPKTdkPYFwsncELiJrY4YKxBlKbGnJ96a/YQemOtV1Jcd542kz6sgwQj4B\n",
              "s6RZNrO+Rlvzpp5BjLTSB2GLcswEx1CBQXO27EADYkaxyg6Vh70qWmD8xPiHflQu3IL9YSZS5VdM\n",
              "pzPy8ggC+Yu0lELlxiCW9jMwedFnFj/5dtvnJpQbeL0DyEUO3Ma1ev4YcmX/dJM+k10dNKQH2u/L\n",
              "D6ZryrNnLEHIsEHfSw/4SNwAAAE+QZoYSeEPJlMFETwS//61KoAO6/pQAHFe7gyMr39DEe4euOg0\n",
              "UU2Inj7PVLBoy2j6FCrqXTftl986kty8wWNXwyF518QwT9G4eo9db/4QlBgMhhP0tNP9CW2Fb+kc\n",
              "8VmFPa6M1a5Qisu59ofxglmVRY7A8Uwg0FASrvkurGlsbnvPgjtbDvWj+PcpTmPohG9AAKkVtaOE\n",
              "7kpERw8x27Mb4svJLmjBy7H0t0Ph/afl4m087Z818sqjFLCPiW6unCR67foBSzv7mh/wu6kVIc2z\n",
              "zBerCFjzSqrBfPHPxykg6u+J2neRIm8EfgmcTKpt4Oit+ZW2Z8X8EhWYvuzA/Rmq99+KguxObxma\n",
              "pVKsIZBP0bIlyU+aQFgaK1Wp1SsvXTcKOGVRatB8uUYf2+KIeRRj2/p6BXYZgPueXyxIKnKhAAAA\n",
              "tgGeN2pBLwAAAwGFahwcALTmwORCc6D29P40XQW3v5qpPwpIYgnoRgct2TgbZM/+lnk7GWMR/Wrv\n",
              "zZ2m9R5oV0ZXpWFQlNxrTfLHLd3VJmVUN9erGdXzPwM56yx8cZdbUCDrGpBEDShHRNoB5ZtgynyL\n",
              "B8c3bQ12RXwfn0eDYR0+eiNArTRhHGvJNRVn7MZbXh5N4Lo4dSiIrpN+JRMhCS9jj+e2YfPQqBeM\n",
              "wbCFS29ibKERse3dAAAEPG1vb3YAAABsbXZoZAAAAAAAAAAAAAAAAAAAA+gAADDUAAEAAAEAAAAA\n",
              "AAAAAAAAAAABAAAAAAAAAAAAAAAAAAAAAQAAAAAAAAAAAAAAAAAAQAAAAAAAAAAAAAAAAAAAAAAA\n",
              "AAAAAAAAAAAAAAAAAAIAAANmdHJhawAAAFx0a2hkAAAAAwAAAAAAAAAAAAAAAQAAAAAAADDUAAAA\n",
              "AAAAAAAAAAAAAAAAAAABAAAAAAAAAAAAAAAAAAAAAQAAAAAAAAAAAAAAAAAAQAAAAAFoAAABaAAA\n",
              "AAAAJGVkdHMAAAAcZWxzdAAAAAAAAAABAAAw1AAAQAAAAQAAAAAC3m1kaWEAAAAgbWRoZAAAAAAA\n",
              "AAAAAAAAAAAAQAAAAyAAVcQAAAAAAC1oZGxyAAAAAAAAAAB2aWRlAAAAAAAAAAAAAAAAVmlkZW9I\n",
              "YW5kbGVyAAAAAoltaW5mAAAAFHZtaGQAAAABAAAAAAAAAAAAAAAkZGluZgAAABxkcmVmAAAAAAAA\n",
              "AAEAAAAMdXJsIAAAAAEAAAJJc3RibAAAALVzdHNkAAAAAAAAAAEAAAClYXZjMQAAAAAAAAABAAAA\n",
              "AAAAAAAAAAAAAAAAAAFoAWgASAAAAEgAAAAAAAAAAQAAAAAAAAAAAAAAAAAAAAAAAAAAAAAAAAAA\n",
              "AAAAAAAAABj//wAAADNhdmNDAWQAFf/hABpnZAAVrNlBcL+WWEAAAAMAQAAAAwEDxYtlgAEABmjr\n",
              "48siwAAAABx1dWlka2hA8l8kT8W6OaUbzwMj8wAAAAAAAAAYc3R0cwAAAAAAAAABAAAAGQAAIAAA\n",
              "AAAUc3RzcwAAAAAAAAABAAAAAQAAALhjdHRzAAAAAAAAABUAAAABAABAAAAAAAEAAGAAAAAAAQAA\n",
              "IAAAAAABAABgAAAAAAEAACAAAAAAAQAAYAAAAAABAAAgAAAAAAEAAGAAAAAAAQAAIAAAAAABAABA\n",
              "AAAAAAEAAGAAAAAAAQAAIAAAAAACAABAAAAAAAEAAGAAAAAAAQAAIAAAAAADAABAAAAAAAEAAGAA\n",
              "AAAAAQAAIAAAAAACAABAAAAAAAEAAGAAAAAAAQAAIAAAAAAcc3RzYwAAAAAAAAABAAAAAQAAABkA\n",
              "AAABAAAAeHN0c3oAAAAAAAAAAAAAABkAABYFAAAC8wAAAIEAAAGHAAAAzgAAAhQAAACmAAACIAAA\n",
              "AJ4AAAGLAAAB5wAAAJoAAAEAAAABWQAAAWAAAACnAAABBgAAATsAAAF6AAABXQAAAOEAAAFlAAAB\n",
              "JwAAAUIAAAC6AAAAFHN0Y28AAAAAAAAAAQAAACwAAABidWR0YQAAAFptZXRhAAAAAAAAACFoZGxy\n",
              "AAAAAAAAAABtZGlyYXBwbAAAAAAAAAAAAAAAAC1pbHN0AAAAJal0b28AAAAdZGF0YQAAAAEAAAAA\n",
              "TGF2ZjU3LjgzLjEwMA==\n",
              "\">\n",
              "  Your browser does not support the video tag.\n",
              "</video>"
            ],
            "text/plain": [
              "<IPython.core.display.HTML object>"
            ]
          },
          "metadata": {
            "tags": []
          },
          "execution_count": 339
        }
      ]
    },
    {
      "cell_type": "code",
      "metadata": {
        "id": "DLbL7Q7SIStG"
      },
      "source": [
        "# Encoded movements\n",
        "LEFT = 0\n",
        "UP = 1\n",
        "RIGHT = 2\n",
        "DOWN = 3\n"
      ],
      "execution_count": null,
      "outputs": []
    },
    {
      "cell_type": "code",
      "metadata": {
        "id": "Q5YrYFbczOYI"
      },
      "source": [
        ""
      ],
      "execution_count": null,
      "outputs": []
    }
  ]
}