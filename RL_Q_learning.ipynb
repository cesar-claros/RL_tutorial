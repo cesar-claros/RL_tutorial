{
  "nbformat": 4,
  "nbformat_minor": 0,
  "metadata": {
    "colab": {
      "name": "RL_Q_learning.ipynb",
      "provenance": [],
      "authorship_tag": "ABX9TyM5Z7LoTUeLLu41uhtTUwSn",
      "include_colab_link": true
    },
    "kernelspec": {
      "name": "python3",
      "display_name": "Python 3"
    },
    "language_info": {
      "name": "python"
    }
  },
  "cells": [
    {
      "cell_type": "markdown",
      "metadata": {
        "id": "view-in-github",
        "colab_type": "text"
      },
      "source": [
        "<a href=\"https://colab.research.google.com/github/cesar-claros/RL_tutorial/blob/main/RL_Q_learning.ipynb\" target=\"_parent\"><img src=\"https://colab.research.google.com/assets/colab-badge.svg\" alt=\"Open In Colab\"/></a>"
      ]
    },
    {
      "cell_type": "code",
      "metadata": {
        "colab": {
          "base_uri": "https://localhost:8080/"
        },
        "id": "yDxCeZ-kVy8A",
        "outputId": "5b78fedf-23a1-4b5c-950c-d559584fea5a"
      },
      "source": [
        "# install required system dependencies\n",
        "!apt-get install -y xvfb x11-utils > /dev/null\n",
        "!pip install gym[box2d] pyvirtualdisplay  PyOpenGL PyOpenGL-accelerate > /dev/null\n",
        "\n",
        "import pyvirtualdisplay\n",
        "_display = pyvirtualdisplay.Display(visible=False,size=(1400, 900))  # use False with Xvfb                 \n",
        "_ = _display.start()\n",
        "!echo $DISPLAY\n",
        "\n",
        "import gym\n",
        "import matplotlib.pyplot as plt\n",
        "import numpy as np\n",
        "from IPython import display"
      ],
      "execution_count": 1,
      "outputs": [
        {
          "output_type": "stream",
          "text": [
            ":0\n"
          ],
          "name": "stdout"
        }
      ]
    },
    {
      "cell_type": "code",
      "metadata": {
        "colab": {
          "base_uri": "https://localhost:8080/",
          "height": 575
        },
        "id": "vpGEjeR2VcQT",
        "outputId": "9d0b3852-9283-4b7d-ec56-c8cf8a3c1d00"
      },
      "source": [
        "# env = gym.make(\"CartPole-v0\").env\n",
        "# env = gym.make('LunarLander-v2')\n",
        "env = gym.make(\"MountainCar-v0\")\n",
        "\n",
        "env.reset()\n",
        "fig, ax = plt.subplots(figsize=(20, 10))\n",
        "ax.axis('off')\n",
        "img = ax.imshow(env.render(mode='rgb_array'))\n",
        "#img.set_data(env.render(mode='rgb_array')) \n",
        "display.display(plt.gcf())\n",
        "display.clear_output(wait=True)"
      ],
      "execution_count": 2,
      "outputs": [
        {
          "output_type": "display_data",
          "data": {
            "image/png": "[encoded data removed]",
            "text/plain": [
              "<Figure size 1440x720 with 1 Axes>"
            ]
          },
          "metadata": {
            "tags": [],
            "needs_background": "light"
          }
        }
      ]
    },
    {
      "cell_type": "code",
      "metadata": {
        "colab": {
          "base_uri": "https://localhost:8080/"
        },
        "id": "yXax2-PkYBac",
        "outputId": "4fa4bbea-e657-426e-a998-9aa0e509be8f"
      },
      "source": [
        "new_state, reward, done, _ = env.step(0)\n",
        "print(new_state)\n",
        "print(reward)"
      ],
      "execution_count": 8,
      "outputs": [
        {
          "output_type": "stream",
          "text": [
            "[-0.54621723 -0.0025819 ]\n",
            "-1.0\n"
          ],
          "name": "stdout"
        }
      ]
    },
    {
      "cell_type": "code",
      "metadata": {
        "id": "A-C2HsXfWR5x"
      },
      "source": [
        "env = gym.make(\"MountainCar-v0\")\n",
        "env.reset()\n",
        "fig, ax = plt.subplots(figsize=(20, 10))\n",
        "ax.axis('off')\n",
        "done = False\n",
        "while not done:\n",
        "    action = 2  # always go right!\n",
        "    env.step(action)\n",
        "    img = ax.imshow(env.render(mode='rgb_array'))\n",
        "    #img.set_data(env.render(mode='rgb_array')) \n",
        "    display.display(plt.gcf())\n",
        "    display.clear_output(wait=True)"
      ],
      "execution_count": null,
      "outputs": []
    },
    {
      "cell_type": "code",
      "metadata": {
        "id": "-lHVHRoWS8Dp"
      },
      "source": [
        "# objective is to get the cart to the flag.\n",
        "# for now, let's just move randomly:\n",
        "\n",
        "import gym\n",
        "import numpy as np\n",
        "\n",
        "env = gym.make(\"MountainCar-v0\")\n",
        "\n",
        "LEARNING_RATE = 0.1\n",
        "\n",
        "DISCOUNT = 0.95\n",
        "EPISODES = 25000\n",
        "SHOW_EVERY = 3000\n",
        "\n",
        "DISCRETE_OS_SIZE = [20, 20]\n",
        "discrete_os_win_size = (env.observation_space.high - env.observation_space.low)/DISCRETE_OS_SIZE\n",
        "\n",
        "# Exploration settings\n",
        "epsilon = 1  # not a constant, qoing to be decayed\n",
        "START_EPSILON_DECAYING = 1\n",
        "END_EPSILON_DECAYING = EPISODES//2\n",
        "epsilon_decay_value = epsilon/(END_EPSILON_DECAYING - START_EPSILON_DECAYING)\n",
        "\n",
        "\n",
        "q_table = np.random.uniform(low=-2, high=0, size=(DISCRETE_OS_SIZE + [env.action_space.n]))\n",
        "\n",
        "\n",
        "def get_discrete_state(state):\n",
        "    discrete_state = (state - env.observation_space.low)/discrete_os_win_size\n",
        "    return tuple(discrete_state.astype(np.int))  # we use this tuple to look up the 3 Q values for the available actions in the q-table\n",
        "\n",
        "\n",
        "for episode in range(EPISODES):\n",
        "    discrete_state = get_discrete_state(env.reset())\n",
        "    done = False\n",
        "\n",
        "    if episode % SHOW_EVERY == 0:\n",
        "        render = True\n",
        "        print(episode)\n",
        "    else:\n",
        "        render = False\n",
        "\n",
        "    while not done:\n",
        "\n",
        "        if np.random.random() > epsilon:\n",
        "            # Get action from Q table\n",
        "            action = np.argmax(q_table[discrete_state])\n",
        "        else:\n",
        "            # Get random action\n",
        "            action = np.random.randint(0, env.action_space.n)\n",
        "\n",
        "\n",
        "        new_state, reward, done, _ = env.step(action)\n",
        "\n",
        "        new_discrete_state = get_discrete_state(new_state)\n",
        "\n",
        "        # if episode % SHOW_EVERY == 0:\n",
        "        #     env.render()\n",
        "        #new_q = (1 - LEARNING_RATE) * current_q + LEARNING_RATE * (reward + DISCOUNT * max_future_q)\n",
        "\n",
        "        # If simulation did not end yet after last step - update Q table\n",
        "        if not done:\n",
        "\n",
        "            # Maximum possible Q value in next step (for new state)\n",
        "            max_future_q = np.max(q_table[new_discrete_state])\n",
        "\n",
        "            # Current Q value (for current state and performed action)\n",
        "            current_q = q_table[discrete_state + (action,)]\n",
        "\n",
        "            # And here's our equation for a new Q value for current state and action\n",
        "            new_q = (1 - LEARNING_RATE) * current_q + LEARNING_RATE * (reward + DISCOUNT * max_future_q)\n",
        "\n",
        "            # Update Q table with new Q value\n",
        "            q_table[discrete_state + (action,)] = new_q\n",
        "\n",
        "\n",
        "        # Simulation ended (for any reson) - if goal position is achived - update Q value with reward directly\n",
        "        elif new_state[0] >= env.goal_position:\n",
        "            #q_table[discrete_state + (action,)] = reward\n",
        "            q_table[discrete_state + (action,)] = 0\n",
        "\n",
        "        discrete_state = new_discrete_state\n",
        "\n",
        "    # Decaying is being done every episode if episode number is within decaying range\n",
        "    if END_EPSILON_DECAYING >= episode >= START_EPSILON_DECAYING:\n",
        "        epsilon -= epsilon_decay_value\n",
        "\n",
        "\n",
        "env.close()"
      ],
      "execution_count": null,
      "outputs": []
    },
    {
      "cell_type": "code",
      "metadata": {
        "id": "keTMycrsTEck"
      },
      "source": [
        ""
      ],
      "execution_count": null,
      "outputs": []
    }
  ]
}