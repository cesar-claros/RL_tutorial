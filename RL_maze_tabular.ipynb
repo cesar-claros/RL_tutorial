{
  "nbformat": 4,
  "nbformat_minor": 0,
  "metadata": {
    "colab": {
      "name": "RL_maze_tabular.ipynb",
      "provenance": [],
      "authorship_tag": "ABX9TyNXy3GhwKLObI909kq9rAb6",
      "include_colab_link": true
    },
    "kernelspec": {
      "name": "python3",
      "display_name": "Python 3"
    },
    "language_info": {
      "name": "python"
    }
  },
  "cells": [
    {
      "cell_type": "markdown",
      "metadata": {
        "id": "view-in-github",
        "colab_type": "text"
      },
      "source": [
        "<a href=\"https://colab.research.google.com/github/cesar-claros/RL_tutorial/blob/main/RL_maze_tabular.ipynb\" target=\"_parent\"><img src=\"https://colab.research.google.com/assets/colab-badge.svg\" alt=\"Open In Colab\"/></a>"
      ]
    },
    {
      "cell_type": "code",
      "metadata": {
        "colab": {
          "base_uri": "https://localhost:8080/"
        },
        "id": "4zwSGPwD6GLs",
        "outputId": "025ef4f4-f17a-4e76-8748-954a318fad56"
      },
      "source": [
        "! git clone https://github.com/cesar-claros/RL_tutorial\n",
        "% cd RL_tutorial/"
      ],
      "execution_count": null,
      "outputs": [
        {
          "output_type": "stream",
          "text": [
            "Cloning into 'RL_tutorial'...\n",
            "remote: Enumerating objects: 24, done.\u001b[K\n",
            "remote: Counting objects: 100% (24/24), done.\u001b[K\n",
            "remote: Compressing objects: 100% (19/19), done.\u001b[K\n",
            "remote: Total 24 (delta 5), reused 15 (delta 4), pack-reused 0\u001b[K\n",
            "Unpacking objects: 100% (24/24), done.\n",
            "/content/RL_tutorial\n"
          ],
          "name": "stdout"
        }
      ]
    },
    {
      "cell_type": "code",
      "metadata": {
        "id": "V-XuI-nnFaGI"
      },
      "source": [
        "# Librerías \n",
        "#----------\n",
        "import env_maze\n",
        "from __future__ import print_function\n",
        "import os, sys, time, datetime, json, random\n",
        "import numpy as np # librería de procesamiento numérico \n",
        "import matplotlib.pyplot as plt\n",
        "import matplotlib.animation as animation\n",
        "import pandas as pd\n",
        "from tqdm import tqdm\n",
        "from IPython import display"
      ],
      "execution_count": null,
      "outputs": []
    },
    {
      "cell_type": "markdown",
      "metadata": {
        "id": "UQJ3omksGziH"
      },
      "source": [
        "<figure>\n",
        "<center>\n",
        "<img src='https://www.samyzaf.com/ML/rl/images/maze1a.png' width=\"300\"/>\n",
        "<figcaption>Ilustración de laberinto. Credito: https://www.samyzaf.com/ML/rl/qmaze.html </figcaption>\n",
        "</center>\n",
        "</figure>\n"
      ]
    },
    {
      "cell_type": "code",
      "metadata": {
        "id": "6sgk3dKYFa5h"
      },
      "source": [
        "maze = np.array( [\n",
        "    [ 1.0,  0.0,  0.0,  1.0,  1.0,  1.0,  1.0,  1.0],\n",
        "    [ 1.0,  0.0,  1.0,  1.0,  1.0,  0.0,  1.0,  1.0],\n",
        "    [ 1.0,  1.0,  0.0,  1.0,  1.0,  1.0,  0.0,  1.0],\n",
        "    [ 1.0,  1.0,  1.0,  1.0,  1.0,  0.0,  1.0,  1.0],\n",
        "    [ 0.0,  1.0,  1.0,  0.0,  0.0,  1.0,  1.0,  1.0],\n",
        "    [ 1.0,  1.0,  1.0,  1.0,  0.0,  1.0,  0.0,  0.0],\n",
        "    [ 1.0,  0.0,  1.0,  0.0,  1.0,  1.0,  1.0,  1.0],\n",
        "    [ 0.0,  1.0,  1.0,  0.0,  1.0,  1.0,  1.0,  1.0]\n",
        "] )"
      ],
      "execution_count": null,
      "outputs": []
    },
    {
      "cell_type": "code",
      "metadata": {
        "colab": {
          "base_uri": "https://localhost:8080/",
          "height": 269
        },
        "id": "XGGw8cxNIaxS",
        "outputId": "6a2a6216-95c3-4f6e-c8d7-45dbc8528a44"
      },
      "source": [
        "qmaze = env_maze.Qmaze(maze)\n",
        "env_maze.show(qmaze)"
      ],
      "execution_count": null,
      "outputs": [
        {
          "output_type": "execute_result",
          "data": {
            "text/plain": [
              "<matplotlib.image.AxesImage at 0x7f96cded1610>"
            ]
          },
          "metadata": {
            "tags": []
          },
          "execution_count": 5
        },
        {
          "output_type": "display_data",
          "data": {
            "image/png": "[encoded data removed]",
            "text/plain": [
              "<Figure size 432x288 with 1 Axes>"
            ]
          },
          "metadata": {
            "tags": [],
            "needs_background": "light"
          }
        }
      ]
    },
    {
      "cell_type": "code",
      "metadata": {
        "id": "x9qGBy2_FisK"
      },
      "source": [
        "# Encoded movements\n",
        "LEFT = 0\n",
        "UP = 1\n",
        "RIGHT = 2\n",
        "DOWN = 3\n",
        "\n",
        "# Actions dictionary\n",
        "actions_dict = {\n",
        "    LEFT: 'left',\n",
        "    UP: 'up',\n",
        "    RIGHT: 'right',\n",
        "    DOWN: 'down',\n",
        "}\n",
        "\n",
        "num_actions = len(actions_dict)"
      ],
      "execution_count": null,
      "outputs": []
    },
    {
      "cell_type": "markdown",
      "metadata": {
        "id": "7npGvVnb-p0t"
      },
      "source": [
        "<figure>\n",
        "<center>\n",
        "<img src='https://www.samyzaf.com/ML/rl/images/maze1b.png' width=\"300\"/>\n",
        "<figcaption>Codificación de las posilbles acciones. Credito: https://www.samyzaf.com/ML/rl/qmaze.html </figcaption></center>\n",
        "</figure>\n",
        "\n",
        "## Recompesas (Rewards):\n",
        "\n",
        "- Cada movimiento a una celda adyacente válida genera una recompensa -0.04\n",
        "- Cada movimiento a una celda adyacente inválida (obstáculo) genera una recompensa igual -0.75\n",
        "- Cada intento de movimiento fuera de los límites del laberinto genera una recompensa igual -0.75\n",
        "- Cada movimiento de retorno a una celda previamente visitada genera una recompensa igual -0.25\n",
        "- Si llegamos al objetivo final la recompensa es 1.0 \n",
        "- Para evitar bucles infinitos, el juego se da por terminado una vez que la recompensa total cae por debajo de -0.5*maze.size\n",
        "- El juego se da por terminado también si el agente llega al objetivo final.\n",
        "\n",
        "<figure>\n",
        "<center>\n",
        "<img src='https://www.samyzaf.com/ML/rl/images/mdp1.png' width=\"1000\"/>\n",
        "<figcaption>Ilustración de los estados del laberinto. Credito: https://www.samyzaf.com/ML/rl/qmaze.html </figcaption>\n",
        "\n",
        "</center>\n",
        "</figure>"
      ]
    },
    {
      "cell_type": "code",
      "metadata": {
        "colab": {
          "base_uri": "https://localhost:8080/",
          "height": 286
        },
        "id": "5g8l0Y9PIerE",
        "outputId": "76e4e614-2602-426f-d07a-d016b2a76e59"
      },
      "source": [
        "canvas, reward, game_over = qmaze.act(DOWN)\n",
        "print(\"recompensa=\", reward)\n",
        "env_maze.show(qmaze)"
      ],
      "execution_count": null,
      "outputs": [
        {
          "output_type": "stream",
          "text": [
            "recompensa= -0.04\n"
          ],
          "name": "stdout"
        },
        {
          "output_type": "execute_result",
          "data": {
            "text/plain": [
              "<matplotlib.image.AxesImage at 0x7f96cd9ba050>"
            ]
          },
          "metadata": {
            "tags": []
          },
          "execution_count": 7
        },
        {
          "output_type": "display_data",
          "data": {
            "image/png": "[encoded data removed]",
            "text/plain": [
              "<Figure size 432x288 with 1 Axes>"
            ]
          },
          "metadata": {
            "tags": [],
            "needs_background": "light"
          }
        }
      ]
    },
    {
      "cell_type": "code",
      "metadata": {
        "colab": {
          "base_uri": "https://localhost:8080/",
          "height": 303
        },
        "id": "4LPmnGKl9rVn",
        "outputId": "1197584d-679b-4a81-8432-ddd7b1dffc21"
      },
      "source": [
        "# Ejecutar acción\n",
        "canvas, reward, game_over = qmaze.act(DOWN)\n",
        "# Observar el ambiente (environment)\n",
        "print(\"recompensa =\", reward)\n",
        "print(\"estado = ({})\".format(qmaze.state)) #(FILA,COLUMNA)\n",
        "env_maze.show(qmaze)"
      ],
      "execution_count": null,
      "outputs": [
        {
          "output_type": "stream",
          "text": [
            "recompensa = -0.04\n",
            "estado = ((2, 0, 'valid'))\n"
          ],
          "name": "stdout"
        },
        {
          "output_type": "execute_result",
          "data": {
            "text/plain": [
              "<matplotlib.image.AxesImage at 0x7f96cd931950>"
            ]
          },
          "metadata": {
            "tags": []
          },
          "execution_count": 9
        },
        {
          "output_type": "display_data",
          "data": {
            "image/png": "[encoded data removed]",
            "text/plain": [
              "<Figure size 432x288 with 1 Axes>"
            ]
          },
          "metadata": {
            "tags": [],
            "needs_background": "light"
          }
        }
      ]
    },
    {
      "cell_type": "code",
      "metadata": {
        "colab": {
          "base_uri": "https://localhost:8080/",
          "height": 303
        },
        "id": "1xFolcNCqITN",
        "outputId": "74df118e-61af-427f-ea09-023d07c8d521"
      },
      "source": [
        "# Ejecutar acción\n",
        "canvas, reward, game_over = qmaze.act(RIGHT)\n",
        "# Observar el ambiente (environment)\n",
        "print(\"recompensa =\", reward)\n",
        "print(\"estado = ({})\".format(qmaze.state)) #(FILA,COLUMNA)\n",
        "env_maze.show(qmaze)"
      ],
      "execution_count": null,
      "outputs": [
        {
          "output_type": "stream",
          "text": [
            "recompensa = -0.75\n",
            "estado = ((1, 0, 'invalid'))\n"
          ],
          "name": "stdout"
        },
        {
          "output_type": "execute_result",
          "data": {
            "text/plain": [
              "<matplotlib.image.AxesImage at 0x7f96cd7fe710>"
            ]
          },
          "metadata": {
            "tags": []
          },
          "execution_count": 11
        },
        {
          "output_type": "display_data",
          "data": {
            "image/png": "[encoded data removed]",
            "text/plain": [
              "<Figure size 432x288 with 1 Axes>"
            ]
          },
          "metadata": {
            "tags": [],
            "needs_background": "light"
          }
        }
      ]
    },
    {
      "cell_type": "markdown",
      "metadata": {
        "id": "LyLTj7RLCeqt"
      },
      "source": [
        "## Ambiente (environment):\n",
        "<figure>\n",
        "<center>\n",
        "<img src='https://player.slideplayer.com/105/17624990/slides/slide_4.jpg' width=\"500\"/>\n",
        "<figcaption>Credito: https://www.davidsilver.uk/wp-content/uploads/2020/03/intro_RL.pdf </figcaption>\n",
        "</center>\n",
        "</figure>\n",
        "\n",
        "## Problema: \n",
        "Encontrar una política (policy) $\\pi^*:\\mathcal{S}\\rightarrow\\mathcal{A}$\n",
        "\n",
        "Por ejemplo: si $s=(0,0)\\in\\mathcal{S}$, la política óptima $\\pi^*(s)=E(\\rightarrow)$\n",
        "\n",
        "## Solución deseada:\n",
        "<figure>\n",
        "<center>\n",
        "<img src='https://player.slideplayer.com/105/17624990/slides/slide_5.jpg' width=\"500\"/>\n",
        "<figcaption>Credito: https://www.davidsilver.uk/wp-content/uploads/2020/03/intro_RL.pdf </figcaption>\n",
        "\n",
        "</center>\n",
        "</figure>\n",
        "\n",
        "\n",
        "\n"
      ]
    },
    {
      "cell_type": "code",
      "metadata": {
        "colab": {
          "base_uri": "https://localhost:8080/",
          "height": 286
        },
        "id": "GhgagiiZD-VE",
        "outputId": "85615d33-bd63-49cb-d027-895590365313"
      },
      "source": [
        "# Reiniciar el ambiente\n",
        "qmaze.reset((0,0))\n",
        "print(qmaze.state)\n",
        "env_maze.show(qmaze)"
      ],
      "execution_count": null,
      "outputs": [
        {
          "output_type": "stream",
          "text": [
            "(0, 0, 'start')\n"
          ],
          "name": "stdout"
        },
        {
          "output_type": "execute_result",
          "data": {
            "text/plain": [
              "<matplotlib.image.AxesImage at 0x7efcd566a3d0>"
            ]
          },
          "metadata": {
            "tags": []
          },
          "execution_count": 10
        },
        {
          "output_type": "display_data",
          "data": {
            "image/png": "[encoded data removed]",
            "text/plain": [
              "<Figure size 432x288 with 1 Axes>"
            ]
          },
          "metadata": {
            "tags": [],
            "needs_background": "light"
          }
        }
      ]
    },
    {
      "cell_type": "markdown",
      "metadata": {
        "id": "DhQiNE2jVHf5"
      },
      "source": [
        ""
      ]
    },
    {
      "cell_type": "code",
      "metadata": {
        "id": "3FmGXBDiLnAF"
      },
      "source": [
        "# Generar tabla de valores (V_table)\n",
        "def init_V_table(shape):\n",
        "    # V_table = np.random.normal(loc=0.0,scale=0.1,size=shape)# (size=V_table_shape)\n",
        "    V_table = np.zeros(shape)\n",
        "    V_table[~np.array(maze).astype('bool')] = np.nan\n",
        "    return V_table\n"
      ],
      "execution_count": null,
      "outputs": []
    },
    {
      "cell_type": "code",
      "metadata": {
        "colab": {
          "base_uri": "https://localhost:8080/",
          "height": 297
        },
        "id": "Pq_bcwOFt8ZH",
        "outputId": "6672a3ff-8049-4d7c-8619-7d142636babf"
      },
      "source": [
        "# Iniciar tabla de valores (V_table)\n",
        "V_table = init_V_table(maze.shape)\n",
        "# Tabla de valores inicial\n",
        "pd.DataFrame(V_table)"
      ],
      "execution_count": null,
      "outputs": [
        {
          "output_type": "execute_result",
          "data": {
            "text/html": [
              "<div>\n",
              "<style scoped>\n",
              "    .dataframe tbody tr th:only-of-type {\n",
              "        vertical-align: middle;\n",
              "    }\n",
              "\n",
              "    .dataframe tbody tr th {\n",
              "        vertical-align: top;\n",
              "    }\n",
              "\n",
              "    .dataframe thead th {\n",
              "        text-align: right;\n",
              "    }\n",
              "</style>\n",
              "<table border=\"1\" class=\"dataframe\">\n",
              "  <thead>\n",
              "    <tr style=\"text-align: right;\">\n",
              "      <th></th>\n",
              "      <th>0</th>\n",
              "      <th>1</th>\n",
              "      <th>2</th>\n",
              "      <th>3</th>\n",
              "      <th>4</th>\n",
              "      <th>5</th>\n",
              "      <th>6</th>\n",
              "      <th>7</th>\n",
              "    </tr>\n",
              "  </thead>\n",
              "  <tbody>\n",
              "    <tr>\n",
              "      <th>0</th>\n",
              "      <td>0.0</td>\n",
              "      <td>NaN</td>\n",
              "      <td>NaN</td>\n",
              "      <td>0.0</td>\n",
              "      <td>0.0</td>\n",
              "      <td>0.0</td>\n",
              "      <td>0.0</td>\n",
              "      <td>0.0</td>\n",
              "    </tr>\n",
              "    <tr>\n",
              "      <th>1</th>\n",
              "      <td>0.0</td>\n",
              "      <td>NaN</td>\n",
              "      <td>0.0</td>\n",
              "      <td>0.0</td>\n",
              "      <td>0.0</td>\n",
              "      <td>NaN</td>\n",
              "      <td>0.0</td>\n",
              "      <td>0.0</td>\n",
              "    </tr>\n",
              "    <tr>\n",
              "      <th>2</th>\n",
              "      <td>0.0</td>\n",
              "      <td>0.0</td>\n",
              "      <td>NaN</td>\n",
              "      <td>0.0</td>\n",
              "      <td>0.0</td>\n",
              "      <td>0.0</td>\n",
              "      <td>NaN</td>\n",
              "      <td>0.0</td>\n",
              "    </tr>\n",
              "    <tr>\n",
              "      <th>3</th>\n",
              "      <td>0.0</td>\n",
              "      <td>0.0</td>\n",
              "      <td>0.0</td>\n",
              "      <td>0.0</td>\n",
              "      <td>0.0</td>\n",
              "      <td>NaN</td>\n",
              "      <td>0.0</td>\n",
              "      <td>0.0</td>\n",
              "    </tr>\n",
              "    <tr>\n",
              "      <th>4</th>\n",
              "      <td>NaN</td>\n",
              "      <td>0.0</td>\n",
              "      <td>0.0</td>\n",
              "      <td>NaN</td>\n",
              "      <td>NaN</td>\n",
              "      <td>0.0</td>\n",
              "      <td>0.0</td>\n",
              "      <td>0.0</td>\n",
              "    </tr>\n",
              "    <tr>\n",
              "      <th>5</th>\n",
              "      <td>0.0</td>\n",
              "      <td>0.0</td>\n",
              "      <td>0.0</td>\n",
              "      <td>0.0</td>\n",
              "      <td>NaN</td>\n",
              "      <td>0.0</td>\n",
              "      <td>NaN</td>\n",
              "      <td>NaN</td>\n",
              "    </tr>\n",
              "    <tr>\n",
              "      <th>6</th>\n",
              "      <td>0.0</td>\n",
              "      <td>NaN</td>\n",
              "      <td>0.0</td>\n",
              "      <td>NaN</td>\n",
              "      <td>0.0</td>\n",
              "      <td>0.0</td>\n",
              "      <td>0.0</td>\n",
              "      <td>0.0</td>\n",
              "    </tr>\n",
              "    <tr>\n",
              "      <th>7</th>\n",
              "      <td>NaN</td>\n",
              "      <td>0.0</td>\n",
              "      <td>0.0</td>\n",
              "      <td>NaN</td>\n",
              "      <td>0.0</td>\n",
              "      <td>0.0</td>\n",
              "      <td>0.0</td>\n",
              "      <td>0.0</td>\n",
              "    </tr>\n",
              "  </tbody>\n",
              "</table>\n",
              "</div>"
            ],
            "text/plain": [
              "     0    1    2    3    4    5    6    7\n",
              "0  0.0  NaN  NaN  0.0  0.0  0.0  0.0  0.0\n",
              "1  0.0  NaN  0.0  0.0  0.0  NaN  0.0  0.0\n",
              "2  0.0  0.0  NaN  0.0  0.0  0.0  NaN  0.0\n",
              "3  0.0  0.0  0.0  0.0  0.0  NaN  0.0  0.0\n",
              "4  NaN  0.0  0.0  NaN  NaN  0.0  0.0  0.0\n",
              "5  0.0  0.0  0.0  0.0  NaN  0.0  NaN  NaN\n",
              "6  0.0  NaN  0.0  NaN  0.0  0.0  0.0  0.0\n",
              "7  NaN  0.0  0.0  NaN  0.0  0.0  0.0  0.0"
            ]
          },
          "metadata": {
            "tags": []
          },
          "execution_count": 13
        }
      ]
    },
    {
      "cell_type": "code",
      "metadata": {
        "id": "1SxliQPAfU3M"
      },
      "source": [
        "def select_action(V_table, state, explore_rate):\n",
        "    # Encoded movements\n",
        "    # LEFT = 0\n",
        "    # UP = 1\n",
        "    # RIGHT = 2\n",
        "    # DOWN = 3\n",
        "\n",
        "    # Select a random action\n",
        "    if random.random() < explore_rate:\n",
        "        action = np.random.randint(num_actions)\n",
        "    # Select the action with the highest v\n",
        "    else:\n",
        "        state = np.array(state[:2])\n",
        "        values_list = []\n",
        "        left, up, right, down = np.array([0,-1]), np.array([-1,0]), np.array([0,1]), np.array([1,0])\n",
        "        for mov in [left,up,right,down]:\n",
        "            s_ = state + mov\n",
        "            # print(s_)\n",
        "            if s_.min()<0 or s_.max()>=8: # inside boundaries?\n",
        "                values_list.append(np.nan) \n",
        "                continue\n",
        "            else:\n",
        "                values_list.append(V_table[tuple(s_)]) # accumulate V function values\n",
        "\n",
        "        # print(values_list)    \n",
        "        action = int(np.nanargmax(values_list)) # greedy policy \n",
        "    return action"
      ],
      "execution_count": null,
      "outputs": []
    },
    {
      "cell_type": "code",
      "metadata": {
        "id": "hmaNrkirWCS6"
      },
      "source": [
        "# Escoger acción basado en la política\n",
        "exploration_rate = 0.1\n",
        "action = select_action(V_table, qmaze.state, exploration_rate)"
      ],
      "execution_count": null,
      "outputs": []
    },
    {
      "cell_type": "code",
      "metadata": {
        "id": "BYi0_8bN4C8-"
      },
      "source": [
        "# Generar tabla de acciones inicial\n",
        "def init_action_table(shape):\n",
        "    action_table = -np.ones(shape) \n",
        "    action_table_shape = action_table.shape # (8,8)\n",
        "    action_table[~np.array(maze).astype('bool')] = np.nan\n",
        "    return action_table"
      ],
      "execution_count": null,
      "outputs": []
    },
    {
      "cell_type": "code",
      "metadata": {
        "colab": {
          "base_uri": "https://localhost:8080/",
          "height": 297
        },
        "id": "-ejseCDAE_8s",
        "outputId": "83bde33e-058e-4c3d-f819-8cc4c7554a9c"
      },
      "source": [
        "#Iniciar tabla de actiones\n",
        "action_table = init_action_table(maze.shape)\n",
        "# Table de acciones\n",
        "pd.DataFrame(action_table)"
      ],
      "execution_count": null,
      "outputs": [
        {
          "output_type": "execute_result",
          "data": {
            "text/html": [
              "<div>\n",
              "<style scoped>\n",
              "    .dataframe tbody tr th:only-of-type {\n",
              "        vertical-align: middle;\n",
              "    }\n",
              "\n",
              "    .dataframe tbody tr th {\n",
              "        vertical-align: top;\n",
              "    }\n",
              "\n",
              "    .dataframe thead th {\n",
              "        text-align: right;\n",
              "    }\n",
              "</style>\n",
              "<table border=\"1\" class=\"dataframe\">\n",
              "  <thead>\n",
              "    <tr style=\"text-align: right;\">\n",
              "      <th></th>\n",
              "      <th>0</th>\n",
              "      <th>1</th>\n",
              "      <th>2</th>\n",
              "      <th>3</th>\n",
              "      <th>4</th>\n",
              "      <th>5</th>\n",
              "      <th>6</th>\n",
              "      <th>7</th>\n",
              "    </tr>\n",
              "  </thead>\n",
              "  <tbody>\n",
              "    <tr>\n",
              "      <th>0</th>\n",
              "      <td>-1.0</td>\n",
              "      <td>NaN</td>\n",
              "      <td>NaN</td>\n",
              "      <td>-1.0</td>\n",
              "      <td>-1.0</td>\n",
              "      <td>-1.0</td>\n",
              "      <td>-1.0</td>\n",
              "      <td>-1.0</td>\n",
              "    </tr>\n",
              "    <tr>\n",
              "      <th>1</th>\n",
              "      <td>-1.0</td>\n",
              "      <td>NaN</td>\n",
              "      <td>-1.0</td>\n",
              "      <td>-1.0</td>\n",
              "      <td>-1.0</td>\n",
              "      <td>NaN</td>\n",
              "      <td>-1.0</td>\n",
              "      <td>-1.0</td>\n",
              "    </tr>\n",
              "    <tr>\n",
              "      <th>2</th>\n",
              "      <td>-1.0</td>\n",
              "      <td>-1.0</td>\n",
              "      <td>NaN</td>\n",
              "      <td>-1.0</td>\n",
              "      <td>-1.0</td>\n",
              "      <td>-1.0</td>\n",
              "      <td>NaN</td>\n",
              "      <td>-1.0</td>\n",
              "    </tr>\n",
              "    <tr>\n",
              "      <th>3</th>\n",
              "      <td>-1.0</td>\n",
              "      <td>-1.0</td>\n",
              "      <td>-1.0</td>\n",
              "      <td>-1.0</td>\n",
              "      <td>-1.0</td>\n",
              "      <td>NaN</td>\n",
              "      <td>-1.0</td>\n",
              "      <td>-1.0</td>\n",
              "    </tr>\n",
              "    <tr>\n",
              "      <th>4</th>\n",
              "      <td>NaN</td>\n",
              "      <td>-1.0</td>\n",
              "      <td>-1.0</td>\n",
              "      <td>NaN</td>\n",
              "      <td>NaN</td>\n",
              "      <td>-1.0</td>\n",
              "      <td>-1.0</td>\n",
              "      <td>-1.0</td>\n",
              "    </tr>\n",
              "    <tr>\n",
              "      <th>5</th>\n",
              "      <td>-1.0</td>\n",
              "      <td>-1.0</td>\n",
              "      <td>-1.0</td>\n",
              "      <td>-1.0</td>\n",
              "      <td>NaN</td>\n",
              "      <td>-1.0</td>\n",
              "      <td>NaN</td>\n",
              "      <td>NaN</td>\n",
              "    </tr>\n",
              "    <tr>\n",
              "      <th>6</th>\n",
              "      <td>-1.0</td>\n",
              "      <td>NaN</td>\n",
              "      <td>-1.0</td>\n",
              "      <td>NaN</td>\n",
              "      <td>-1.0</td>\n",
              "      <td>-1.0</td>\n",
              "      <td>-1.0</td>\n",
              "      <td>-1.0</td>\n",
              "    </tr>\n",
              "    <tr>\n",
              "      <th>7</th>\n",
              "      <td>NaN</td>\n",
              "      <td>-1.0</td>\n",
              "      <td>-1.0</td>\n",
              "      <td>NaN</td>\n",
              "      <td>-1.0</td>\n",
              "      <td>-1.0</td>\n",
              "      <td>-1.0</td>\n",
              "      <td>-1.0</td>\n",
              "    </tr>\n",
              "  </tbody>\n",
              "</table>\n",
              "</div>"
            ],
            "text/plain": [
              "     0    1    2    3    4    5    6    7\n",
              "0 -1.0  NaN  NaN -1.0 -1.0 -1.0 -1.0 -1.0\n",
              "1 -1.0  NaN -1.0 -1.0 -1.0  NaN -1.0 -1.0\n",
              "2 -1.0 -1.0  NaN -1.0 -1.0 -1.0  NaN -1.0\n",
              "3 -1.0 -1.0 -1.0 -1.0 -1.0  NaN -1.0 -1.0\n",
              "4  NaN -1.0 -1.0  NaN  NaN -1.0 -1.0 -1.0\n",
              "5 -1.0 -1.0 -1.0 -1.0  NaN -1.0  NaN  NaN\n",
              "6 -1.0  NaN -1.0  NaN -1.0 -1.0 -1.0 -1.0\n",
              "7  NaN -1.0 -1.0  NaN -1.0 -1.0 -1.0 -1.0"
            ]
          },
          "metadata": {
            "tags": []
          },
          "execution_count": 21
        }
      ]
    },
    {
      "cell_type": "code",
      "metadata": {
        "colab": {
          "base_uri": "https://localhost:8080/",
          "height": 297
        },
        "id": "j4A31NwP6PfM",
        "outputId": "889e7dea-071a-4c72-c3ee-f8cfaeb2cf16"
      },
      "source": [
        "# Tabla de acciones inical\n",
        "pd.DataFrame(V_table)"
      ],
      "execution_count": null,
      "outputs": [
        {
          "output_type": "execute_result",
          "data": {
            "text/html": [
              "<div>\n",
              "<style scoped>\n",
              "    .dataframe tbody tr th:only-of-type {\n",
              "        vertical-align: middle;\n",
              "    }\n",
              "\n",
              "    .dataframe tbody tr th {\n",
              "        vertical-align: top;\n",
              "    }\n",
              "\n",
              "    .dataframe thead th {\n",
              "        text-align: right;\n",
              "    }\n",
              "</style>\n",
              "<table border=\"1\" class=\"dataframe\">\n",
              "  <thead>\n",
              "    <tr style=\"text-align: right;\">\n",
              "      <th></th>\n",
              "      <th>0</th>\n",
              "      <th>1</th>\n",
              "      <th>2</th>\n",
              "      <th>3</th>\n",
              "      <th>4</th>\n",
              "      <th>5</th>\n",
              "      <th>6</th>\n",
              "      <th>7</th>\n",
              "    </tr>\n",
              "  </thead>\n",
              "  <tbody>\n",
              "    <tr>\n",
              "      <th>0</th>\n",
              "      <td>0.0</td>\n",
              "      <td>NaN</td>\n",
              "      <td>NaN</td>\n",
              "      <td>0.0</td>\n",
              "      <td>0.0</td>\n",
              "      <td>0.0</td>\n",
              "      <td>0.0</td>\n",
              "      <td>0.0</td>\n",
              "    </tr>\n",
              "    <tr>\n",
              "      <th>1</th>\n",
              "      <td>0.0</td>\n",
              "      <td>NaN</td>\n",
              "      <td>0.0</td>\n",
              "      <td>0.0</td>\n",
              "      <td>0.0</td>\n",
              "      <td>NaN</td>\n",
              "      <td>0.0</td>\n",
              "      <td>0.0</td>\n",
              "    </tr>\n",
              "    <tr>\n",
              "      <th>2</th>\n",
              "      <td>0.0</td>\n",
              "      <td>0.0</td>\n",
              "      <td>NaN</td>\n",
              "      <td>0.0</td>\n",
              "      <td>0.0</td>\n",
              "      <td>0.0</td>\n",
              "      <td>NaN</td>\n",
              "      <td>0.0</td>\n",
              "    </tr>\n",
              "    <tr>\n",
              "      <th>3</th>\n",
              "      <td>0.0</td>\n",
              "      <td>0.0</td>\n",
              "      <td>0.0</td>\n",
              "      <td>0.0</td>\n",
              "      <td>0.0</td>\n",
              "      <td>NaN</td>\n",
              "      <td>0.0</td>\n",
              "      <td>0.0</td>\n",
              "    </tr>\n",
              "    <tr>\n",
              "      <th>4</th>\n",
              "      <td>NaN</td>\n",
              "      <td>0.0</td>\n",
              "      <td>0.0</td>\n",
              "      <td>NaN</td>\n",
              "      <td>NaN</td>\n",
              "      <td>0.0</td>\n",
              "      <td>0.0</td>\n",
              "      <td>0.0</td>\n",
              "    </tr>\n",
              "    <tr>\n",
              "      <th>5</th>\n",
              "      <td>0.0</td>\n",
              "      <td>0.0</td>\n",
              "      <td>0.0</td>\n",
              "      <td>0.0</td>\n",
              "      <td>NaN</td>\n",
              "      <td>0.0</td>\n",
              "      <td>NaN</td>\n",
              "      <td>NaN</td>\n",
              "    </tr>\n",
              "    <tr>\n",
              "      <th>6</th>\n",
              "      <td>0.0</td>\n",
              "      <td>NaN</td>\n",
              "      <td>0.0</td>\n",
              "      <td>NaN</td>\n",
              "      <td>0.0</td>\n",
              "      <td>0.0</td>\n",
              "      <td>0.0</td>\n",
              "      <td>0.0</td>\n",
              "    </tr>\n",
              "    <tr>\n",
              "      <th>7</th>\n",
              "      <td>NaN</td>\n",
              "      <td>0.0</td>\n",
              "      <td>0.0</td>\n",
              "      <td>NaN</td>\n",
              "      <td>0.0</td>\n",
              "      <td>0.0</td>\n",
              "      <td>0.0</td>\n",
              "      <td>0.0</td>\n",
              "    </tr>\n",
              "  </tbody>\n",
              "</table>\n",
              "</div>"
            ],
            "text/plain": [
              "     0    1    2    3    4    5    6    7\n",
              "0  0.0  NaN  NaN  0.0  0.0  0.0  0.0  0.0\n",
              "1  0.0  NaN  0.0  0.0  0.0  NaN  0.0  0.0\n",
              "2  0.0  0.0  NaN  0.0  0.0  0.0  NaN  0.0\n",
              "3  0.0  0.0  0.0  0.0  0.0  NaN  0.0  0.0\n",
              "4  NaN  0.0  0.0  NaN  NaN  0.0  0.0  0.0\n",
              "5  0.0  0.0  0.0  0.0  NaN  0.0  NaN  NaN\n",
              "6  0.0  NaN  0.0  NaN  0.0  0.0  0.0  0.0\n",
              "7  NaN  0.0  0.0  NaN  0.0  0.0  0.0  0.0"
            ]
          },
          "metadata": {
            "tags": []
          },
          "execution_count": 22
        }
      ]
    },
    {
      "cell_type": "code",
      "metadata": {
        "id": "OJF2Pn9zWExG"
      },
      "source": [
        "def update_action_table(action_table, state, action):\n",
        "    state = np.array(state[:2])\n",
        "    action_table[tuple(state)] = action\n",
        "    return action_table"
      ],
      "execution_count": null,
      "outputs": []
    },
    {
      "cell_type": "code",
      "metadata": {
        "colab": {
          "base_uri": "https://localhost:8080/",
          "height": 297
        },
        "id": "xy1EyPx82qpU",
        "outputId": "887020cd-5cb1-49f3-e66e-159f259be890"
      },
      "source": [
        "action_table = update_action_table(action_table, qmaze.state, action)\n",
        "pd.DataFrame(action_table)"
      ],
      "execution_count": null,
      "outputs": [
        {
          "output_type": "execute_result",
          "data": {
            "text/html": [
              "<div>\n",
              "<style scoped>\n",
              "    .dataframe tbody tr th:only-of-type {\n",
              "        vertical-align: middle;\n",
              "    }\n",
              "\n",
              "    .dataframe tbody tr th {\n",
              "        vertical-align: top;\n",
              "    }\n",
              "\n",
              "    .dataframe thead th {\n",
              "        text-align: right;\n",
              "    }\n",
              "</style>\n",
              "<table border=\"1\" class=\"dataframe\">\n",
              "  <thead>\n",
              "    <tr style=\"text-align: right;\">\n",
              "      <th></th>\n",
              "      <th>0</th>\n",
              "      <th>1</th>\n",
              "      <th>2</th>\n",
              "      <th>3</th>\n",
              "      <th>4</th>\n",
              "      <th>5</th>\n",
              "      <th>6</th>\n",
              "      <th>7</th>\n",
              "    </tr>\n",
              "  </thead>\n",
              "  <tbody>\n",
              "    <tr>\n",
              "      <th>0</th>\n",
              "      <td>-1.0</td>\n",
              "      <td>NaN</td>\n",
              "      <td>NaN</td>\n",
              "      <td>-1.0</td>\n",
              "      <td>-1.0</td>\n",
              "      <td>-1.0</td>\n",
              "      <td>-1.0</td>\n",
              "      <td>-1.0</td>\n",
              "    </tr>\n",
              "    <tr>\n",
              "      <th>1</th>\n",
              "      <td>1.0</td>\n",
              "      <td>NaN</td>\n",
              "      <td>-1.0</td>\n",
              "      <td>-1.0</td>\n",
              "      <td>-1.0</td>\n",
              "      <td>NaN</td>\n",
              "      <td>-1.0</td>\n",
              "      <td>-1.0</td>\n",
              "    </tr>\n",
              "    <tr>\n",
              "      <th>2</th>\n",
              "      <td>-1.0</td>\n",
              "      <td>-1.0</td>\n",
              "      <td>NaN</td>\n",
              "      <td>-1.0</td>\n",
              "      <td>-1.0</td>\n",
              "      <td>-1.0</td>\n",
              "      <td>NaN</td>\n",
              "      <td>-1.0</td>\n",
              "    </tr>\n",
              "    <tr>\n",
              "      <th>3</th>\n",
              "      <td>-1.0</td>\n",
              "      <td>-1.0</td>\n",
              "      <td>-1.0</td>\n",
              "      <td>-1.0</td>\n",
              "      <td>-1.0</td>\n",
              "      <td>NaN</td>\n",
              "      <td>-1.0</td>\n",
              "      <td>-1.0</td>\n",
              "    </tr>\n",
              "    <tr>\n",
              "      <th>4</th>\n",
              "      <td>NaN</td>\n",
              "      <td>-1.0</td>\n",
              "      <td>-1.0</td>\n",
              "      <td>NaN</td>\n",
              "      <td>NaN</td>\n",
              "      <td>-1.0</td>\n",
              "      <td>-1.0</td>\n",
              "      <td>-1.0</td>\n",
              "    </tr>\n",
              "    <tr>\n",
              "      <th>5</th>\n",
              "      <td>-1.0</td>\n",
              "      <td>-1.0</td>\n",
              "      <td>-1.0</td>\n",
              "      <td>-1.0</td>\n",
              "      <td>NaN</td>\n",
              "      <td>-1.0</td>\n",
              "      <td>NaN</td>\n",
              "      <td>NaN</td>\n",
              "    </tr>\n",
              "    <tr>\n",
              "      <th>6</th>\n",
              "      <td>-1.0</td>\n",
              "      <td>NaN</td>\n",
              "      <td>-1.0</td>\n",
              "      <td>NaN</td>\n",
              "      <td>-1.0</td>\n",
              "      <td>-1.0</td>\n",
              "      <td>-1.0</td>\n",
              "      <td>-1.0</td>\n",
              "    </tr>\n",
              "    <tr>\n",
              "      <th>7</th>\n",
              "      <td>NaN</td>\n",
              "      <td>-1.0</td>\n",
              "      <td>-1.0</td>\n",
              "      <td>NaN</td>\n",
              "      <td>-1.0</td>\n",
              "      <td>-1.0</td>\n",
              "      <td>-1.0</td>\n",
              "      <td>-1.0</td>\n",
              "    </tr>\n",
              "  </tbody>\n",
              "</table>\n",
              "</div>"
            ],
            "text/plain": [
              "     0    1    2    3    4    5    6    7\n",
              "0 -1.0  NaN  NaN -1.0 -1.0 -1.0 -1.0 -1.0\n",
              "1  1.0  NaN -1.0 -1.0 -1.0  NaN -1.0 -1.0\n",
              "2 -1.0 -1.0  NaN -1.0 -1.0 -1.0  NaN -1.0\n",
              "3 -1.0 -1.0 -1.0 -1.0 -1.0  NaN -1.0 -1.0\n",
              "4  NaN -1.0 -1.0  NaN  NaN -1.0 -1.0 -1.0\n",
              "5 -1.0 -1.0 -1.0 -1.0  NaN -1.0  NaN  NaN\n",
              "6 -1.0  NaN -1.0  NaN -1.0 -1.0 -1.0 -1.0\n",
              "7  NaN -1.0 -1.0  NaN -1.0 -1.0 -1.0 -1.0"
            ]
          },
          "metadata": {
            "tags": []
          },
          "execution_count": 24
        }
      ]
    },
    {
      "cell_type": "code",
      "metadata": {
        "id": "5lTpDde-76Jy"
      },
      "source": [
        "# Almacenar estado actual\n",
        "state = qmaze.state\n",
        "# Ejecutar acción\n",
        "canvas, reward, game_over = qmaze.act(action)\n",
        "# Alamcear estado nuevo\n",
        "state_ = qmaze.state"
      ],
      "execution_count": null,
      "outputs": []
    },
    {
      "cell_type": "code",
      "metadata": {
        "colab": {
          "base_uri": "https://localhost:8080/",
          "height": 286
        },
        "id": "AePoz-4S777A",
        "outputId": "e5268eea-7416-4090-827c-020ab347f77a"
      },
      "source": [
        "print(state_)\n",
        "env_maze.show(qmaze)"
      ],
      "execution_count": null,
      "outputs": [
        {
          "output_type": "stream",
          "text": [
            "(0, 0, 'valid')\n"
          ],
          "name": "stdout"
        },
        {
          "output_type": "execute_result",
          "data": {
            "text/plain": [
              "<matplotlib.image.AxesImage at 0x7f96cd6d9290>"
            ]
          },
          "metadata": {
            "tags": []
          },
          "execution_count": 26
        },
        {
          "output_type": "display_data",
          "data": {
            "image/png": "[encoded data removed]",
            "text/plain": [
              "<Figure size 432x288 with 1 Axes>"
            ]
          },
          "metadata": {
            "tags": [],
            "needs_background": "light"
          }
        }
      ]
    },
    {
      "cell_type": "code",
      "metadata": {
        "id": "50D3wQag8g-s"
      },
      "source": [
        "def update_V_table(V_table, state, state_, reward, alpha=0.05, gamma=0.90):\n",
        "    # alpha -> learning rate\n",
        "    # gamma -> discount factor\n",
        "    state = np.array(state[:2])\n",
        "    state_ = np.array(state_[:2])\n",
        "    V_table[tuple(state)] = (1-alpha)*V_table[tuple(state)] + alpha*(reward + gamma*V_table[tuple(state_)])\n",
        "    return V_table"
      ],
      "execution_count": null,
      "outputs": []
    },
    {
      "cell_type": "code",
      "metadata": {
        "colab": {
          "base_uri": "https://localhost:8080/",
          "height": 297
        },
        "id": "wTOw7rtEDL4o",
        "outputId": "2104ad6b-1810-42dd-c8f6-ab4c95bba020"
      },
      "source": [
        "V_table = update_V_table(V_table, state, state_, reward)\n",
        "pd.DataFrame(V_table)"
      ],
      "execution_count": null,
      "outputs": [
        {
          "output_type": "execute_result",
          "data": {
            "text/html": [
              "<div>\n",
              "<style scoped>\n",
              "    .dataframe tbody tr th:only-of-type {\n",
              "        vertical-align: middle;\n",
              "    }\n",
              "\n",
              "    .dataframe tbody tr th {\n",
              "        vertical-align: top;\n",
              "    }\n",
              "\n",
              "    .dataframe thead th {\n",
              "        text-align: right;\n",
              "    }\n",
              "</style>\n",
              "<table border=\"1\" class=\"dataframe\">\n",
              "  <thead>\n",
              "    <tr style=\"text-align: right;\">\n",
              "      <th></th>\n",
              "      <th>0</th>\n",
              "      <th>1</th>\n",
              "      <th>2</th>\n",
              "      <th>3</th>\n",
              "      <th>4</th>\n",
              "      <th>5</th>\n",
              "      <th>6</th>\n",
              "      <th>7</th>\n",
              "    </tr>\n",
              "  </thead>\n",
              "  <tbody>\n",
              "    <tr>\n",
              "      <th>0</th>\n",
              "      <td>0.0000</td>\n",
              "      <td>NaN</td>\n",
              "      <td>NaN</td>\n",
              "      <td>0.0</td>\n",
              "      <td>0.0</td>\n",
              "      <td>0.0</td>\n",
              "      <td>0.0</td>\n",
              "      <td>0.0</td>\n",
              "    </tr>\n",
              "    <tr>\n",
              "      <th>1</th>\n",
              "      <td>-0.0125</td>\n",
              "      <td>NaN</td>\n",
              "      <td>0.0</td>\n",
              "      <td>0.0</td>\n",
              "      <td>0.0</td>\n",
              "      <td>NaN</td>\n",
              "      <td>0.0</td>\n",
              "      <td>0.0</td>\n",
              "    </tr>\n",
              "    <tr>\n",
              "      <th>2</th>\n",
              "      <td>0.0000</td>\n",
              "      <td>0.0</td>\n",
              "      <td>NaN</td>\n",
              "      <td>0.0</td>\n",
              "      <td>0.0</td>\n",
              "      <td>0.0</td>\n",
              "      <td>NaN</td>\n",
              "      <td>0.0</td>\n",
              "    </tr>\n",
              "    <tr>\n",
              "      <th>3</th>\n",
              "      <td>0.0000</td>\n",
              "      <td>0.0</td>\n",
              "      <td>0.0</td>\n",
              "      <td>0.0</td>\n",
              "      <td>0.0</td>\n",
              "      <td>NaN</td>\n",
              "      <td>0.0</td>\n",
              "      <td>0.0</td>\n",
              "    </tr>\n",
              "    <tr>\n",
              "      <th>4</th>\n",
              "      <td>NaN</td>\n",
              "      <td>0.0</td>\n",
              "      <td>0.0</td>\n",
              "      <td>NaN</td>\n",
              "      <td>NaN</td>\n",
              "      <td>0.0</td>\n",
              "      <td>0.0</td>\n",
              "      <td>0.0</td>\n",
              "    </tr>\n",
              "    <tr>\n",
              "      <th>5</th>\n",
              "      <td>0.0000</td>\n",
              "      <td>0.0</td>\n",
              "      <td>0.0</td>\n",
              "      <td>0.0</td>\n",
              "      <td>NaN</td>\n",
              "      <td>0.0</td>\n",
              "      <td>NaN</td>\n",
              "      <td>NaN</td>\n",
              "    </tr>\n",
              "    <tr>\n",
              "      <th>6</th>\n",
              "      <td>0.0000</td>\n",
              "      <td>NaN</td>\n",
              "      <td>0.0</td>\n",
              "      <td>NaN</td>\n",
              "      <td>0.0</td>\n",
              "      <td>0.0</td>\n",
              "      <td>0.0</td>\n",
              "      <td>0.0</td>\n",
              "    </tr>\n",
              "    <tr>\n",
              "      <th>7</th>\n",
              "      <td>NaN</td>\n",
              "      <td>0.0</td>\n",
              "      <td>0.0</td>\n",
              "      <td>NaN</td>\n",
              "      <td>0.0</td>\n",
              "      <td>0.0</td>\n",
              "      <td>0.0</td>\n",
              "      <td>0.0</td>\n",
              "    </tr>\n",
              "  </tbody>\n",
              "</table>\n",
              "</div>"
            ],
            "text/plain": [
              "        0    1    2    3    4    5    6    7\n",
              "0  0.0000  NaN  NaN  0.0  0.0  0.0  0.0  0.0\n",
              "1 -0.0125  NaN  0.0  0.0  0.0  NaN  0.0  0.0\n",
              "2  0.0000  0.0  NaN  0.0  0.0  0.0  NaN  0.0\n",
              "3  0.0000  0.0  0.0  0.0  0.0  NaN  0.0  0.0\n",
              "4     NaN  0.0  0.0  NaN  NaN  0.0  0.0  0.0\n",
              "5  0.0000  0.0  0.0  0.0  NaN  0.0  NaN  NaN\n",
              "6  0.0000  NaN  0.0  NaN  0.0  0.0  0.0  0.0\n",
              "7     NaN  0.0  0.0  NaN  0.0  0.0  0.0  0.0"
            ]
          },
          "metadata": {
            "tags": []
          },
          "execution_count": 29
        }
      ]
    },
    {
      "cell_type": "code",
      "metadata": {
        "colab": {
          "base_uri": "https://localhost:8080/"
        },
        "id": "4jLGJkTKDSFF",
        "outputId": "d8e10edd-38c1-46b0-b4fc-b9ea141cc76d"
      },
      "source": [
        "# Establecer 'seed'\n",
        "#------------------\n",
        "seed = 123\n",
        "random.seed(seed)\n",
        "os.environ['PYTHONHASHSEED'] = str(seed)\n",
        "np.random.seed(seed)\n",
        "# Parámetros (hyper-parameters)\n",
        "#-----------\n",
        "init_pos = (0,0)\n",
        "exploration_rate = 0.20\n",
        "NUM_EPISODES = 1000\n",
        "alpha = 0.1 #-> learning rate\n",
        "gamma = 0.95 #-> discount factor \n",
        "\n",
        "# Algoritmo\n",
        "#----------\n",
        "# Iniciar tabla de valores (V_table)\n",
        "V_table = init_V_table(maze.shape)\n",
        "for _ in tqdm(range(NUM_EPISODES)):\n",
        "    # Iniciar laberinto\n",
        "    qmaze.reset(init_pos)\n",
        "    # Almacenar estado actual\n",
        "    state = qmaze.state\n",
        "    while qmaze.game_status()=='not_over':\n",
        "        # Seleccionar acción\n",
        "        action = select_action(V_table, state, exploration_rate)\n",
        "        # Ejecutar acción\n",
        "        canvas, reward, game_over = qmaze.act(action)\n",
        "        # Almacenar estado nuevo\n",
        "        state_ = qmaze.state\n",
        "        # Actualizar V_table\n",
        "        V_table = update_V_table(V_table, state, state_, reward, alpha=alpha, gamma=gamma)\n",
        "        # Reasignar estado\n",
        "        state = state_"
      ],
      "execution_count": null,
      "outputs": [
        {
          "output_type": "stream",
          "text": [
            "100%|██████████| 1000/1000 [00:05<00:00, 194.58it/s]\n"
          ],
          "name": "stderr"
        }
      ]
    },
    {
      "cell_type": "code",
      "metadata": {
        "colab": {
          "base_uri": "https://localhost:8080/",
          "height": 297
        },
        "id": "-Z1g4jQdeOiH",
        "outputId": "70d0aaf8-0721-4232-ff46-c740605416ff"
      },
      "source": [
        "pd.DataFrame(action_table)"
      ],
      "execution_count": null,
      "outputs": [
        {
          "output_type": "execute_result",
          "data": {
            "text/html": [
              "<div>\n",
              "<style scoped>\n",
              "    .dataframe tbody tr th:only-of-type {\n",
              "        vertical-align: middle;\n",
              "    }\n",
              "\n",
              "    .dataframe tbody tr th {\n",
              "        vertical-align: top;\n",
              "    }\n",
              "\n",
              "    .dataframe thead th {\n",
              "        text-align: right;\n",
              "    }\n",
              "</style>\n",
              "<table border=\"1\" class=\"dataframe\">\n",
              "  <thead>\n",
              "    <tr style=\"text-align: right;\">\n",
              "      <th></th>\n",
              "      <th>0</th>\n",
              "      <th>1</th>\n",
              "      <th>2</th>\n",
              "      <th>3</th>\n",
              "      <th>4</th>\n",
              "      <th>5</th>\n",
              "      <th>6</th>\n",
              "      <th>7</th>\n",
              "    </tr>\n",
              "  </thead>\n",
              "  <tbody>\n",
              "    <tr>\n",
              "      <th>0</th>\n",
              "      <td>3.0</td>\n",
              "      <td>NaN</td>\n",
              "      <td>NaN</td>\n",
              "      <td>-1.0</td>\n",
              "      <td>2.0</td>\n",
              "      <td>2.0</td>\n",
              "      <td>3.0</td>\n",
              "      <td>-1.0</td>\n",
              "    </tr>\n",
              "    <tr>\n",
              "      <th>1</th>\n",
              "      <td>3.0</td>\n",
              "      <td>NaN</td>\n",
              "      <td>-1.0</td>\n",
              "      <td>-1.0</td>\n",
              "      <td>1.0</td>\n",
              "      <td>NaN</td>\n",
              "      <td>2.0</td>\n",
              "      <td>3.0</td>\n",
              "    </tr>\n",
              "    <tr>\n",
              "      <th>2</th>\n",
              "      <td>2.0</td>\n",
              "      <td>3.0</td>\n",
              "      <td>NaN</td>\n",
              "      <td>-1.0</td>\n",
              "      <td>1.0</td>\n",
              "      <td>-1.0</td>\n",
              "      <td>NaN</td>\n",
              "      <td>3.0</td>\n",
              "    </tr>\n",
              "    <tr>\n",
              "      <th>3</th>\n",
              "      <td>-1.0</td>\n",
              "      <td>2.0</td>\n",
              "      <td>2.0</td>\n",
              "      <td>2.0</td>\n",
              "      <td>1.0</td>\n",
              "      <td>NaN</td>\n",
              "      <td>3.0</td>\n",
              "      <td>0.0</td>\n",
              "    </tr>\n",
              "    <tr>\n",
              "      <th>4</th>\n",
              "      <td>NaN</td>\n",
              "      <td>-1.0</td>\n",
              "      <td>-1.0</td>\n",
              "      <td>NaN</td>\n",
              "      <td>NaN</td>\n",
              "      <td>3.0</td>\n",
              "      <td>0.0</td>\n",
              "      <td>-1.0</td>\n",
              "    </tr>\n",
              "    <tr>\n",
              "      <th>5</th>\n",
              "      <td>-1.0</td>\n",
              "      <td>-1.0</td>\n",
              "      <td>-1.0</td>\n",
              "      <td>-1.0</td>\n",
              "      <td>NaN</td>\n",
              "      <td>3.0</td>\n",
              "      <td>NaN</td>\n",
              "      <td>NaN</td>\n",
              "    </tr>\n",
              "    <tr>\n",
              "      <th>6</th>\n",
              "      <td>-1.0</td>\n",
              "      <td>NaN</td>\n",
              "      <td>-1.0</td>\n",
              "      <td>NaN</td>\n",
              "      <td>-1.0</td>\n",
              "      <td>2.0</td>\n",
              "      <td>3.0</td>\n",
              "      <td>-1.0</td>\n",
              "    </tr>\n",
              "    <tr>\n",
              "      <th>7</th>\n",
              "      <td>NaN</td>\n",
              "      <td>-1.0</td>\n",
              "      <td>-1.0</td>\n",
              "      <td>NaN</td>\n",
              "      <td>-1.0</td>\n",
              "      <td>-1.0</td>\n",
              "      <td>2.0</td>\n",
              "      <td>-1.0</td>\n",
              "    </tr>\n",
              "  </tbody>\n",
              "</table>\n",
              "</div>"
            ],
            "text/plain": [
              "     0    1    2    3    4    5    6    7\n",
              "0  3.0  NaN  NaN -1.0  2.0  2.0  3.0 -1.0\n",
              "1  3.0  NaN -1.0 -1.0  1.0  NaN  2.0  3.0\n",
              "2  2.0  3.0  NaN -1.0  1.0 -1.0  NaN  3.0\n",
              "3 -1.0  2.0  2.0  2.0  1.0  NaN  3.0  0.0\n",
              "4  NaN -1.0 -1.0  NaN  NaN  3.0  0.0 -1.0\n",
              "5 -1.0 -1.0 -1.0 -1.0  NaN  3.0  NaN  NaN\n",
              "6 -1.0  NaN -1.0  NaN -1.0  2.0  3.0 -1.0\n",
              "7  NaN -1.0 -1.0  NaN -1.0 -1.0  2.0 -1.0"
            ]
          },
          "metadata": {
            "tags": []
          },
          "execution_count": 34
        }
      ]
    },
    {
      "cell_type": "code",
      "metadata": {
        "id": "sVwCdxWpfMiD"
      },
      "source": [
        "fig, ax = plt.subplots(figsize=(5,5))\n",
        "# Iniciar tabla de acciones\n",
        "action_table = init_action_table(maze.shape)\n",
        "qmaze.reset(init_pos)\n",
        "# Almacenar estado actual\n",
        "state = qmaze.state\n",
        "imgs = []\n",
        "# Concatenar imagenes\n",
        "img = env_maze.show(qmaze)\n",
        "imgs.append([img])\n",
        "# ims = []\n",
        "while qmaze.game_status()=='not_over':\n",
        "    # Seleccionar acción\n",
        "    action = select_action(V_table, state, -1.0)\n",
        "    # Actualizar action_table\n",
        "    action_table = update_action_table(action_table, state, action)\n",
        "    # Ejecutar acción\n",
        "    canvas, reward, game_over = qmaze.act(action)\n",
        "    # Reasignar estado\n",
        "    state = qmaze.state\n",
        "    # Concatenar imagenes\n",
        "    img = env_maze.show(qmaze)\n",
        "    imgs.append([img])\n",
        "\n",
        "ani = animation.ArtistAnimation(fig, imgs, interval=500, blit=True,\n",
        "                                repeat_delay=1000)\n",
        "plt.close()"
      ],
      "execution_count": null,
      "outputs": []
    },
    {
      "cell_type": "code",
      "metadata": {
        "colab": {
          "base_uri": "https://localhost:8080/",
          "height": 381
        },
        "id": "Up7CPmOPzFdZ",
        "outputId": "9253cb9c-631e-4de9-ae5e-69238592e44f"
      },
      "source": [
        "display.HTML(ani.to_html5_video())"
      ],
      "execution_count": null,
      "outputs": [
        {
          "output_type": "execute_result",
          "data": {
            "text/html": [
              "<video width=\"360\" height=\"360\" controls autoplay loop>\n",
              "  <source type=\"video/mp4\" src=\"data:video/mp4;base64,AAAAHGZ0eXBNNFYgAAACAGlzb21pc28yYXZjMQAAAAhmcmVlAAA0hG1kYXQAAAKtBgX//6ncRem9\n",
              "5tlIt5Ys2CDZI+7veDI2NCAtIGNvcmUgMTUyIHIyODU0IGU5YTU5MDMgLSBILjI2NC9NUEVHLTQg\n",
              "QVZDIGNvZGVjIC0gQ29weWxlZnQgMjAwMy0yMDE3IC0gaHR0cDovL3d3dy52aWRlb2xhbi5vcmcv\n",
              "eDI2NC5odG1sIC0gb3B0aW9uczogY2FiYWM9MSByZWY9MyBkZWJsb2NrPTE6MDowIGFuYWx5c2U9\n",
              "MHgzOjB4MTEzIG1lPWhleCBzdWJtZT03IHBzeT0xIHBzeV9yZD0xLjAwOjAuMDAgbWl4ZWRfcmVm\n",
              "PTEgbWVfcmFuZ2U9MTYgY2hyb21hX21lPTEgdHJlbGxpcz0xIDh4OGRjdD0xIGNxbT0wIGRlYWR6\n",
              "b25lPTIxLDExIGZhc3RfcHNraXA9MSBjaHJvbWFfcXBfb2Zmc2V0PS0yIHRocmVhZHM9MyBsb29r\n",
              "YWhlYWRfdGhyZWFkcz0xIHNsaWNlZF90aHJlYWRzPTAgbnI9MCBkZWNpbWF0ZT0xIGludGVybGFj\n",
              "ZWQ9MCBibHVyYXlfY29tcGF0PTAgY29uc3RyYWluZWRfaW50cmE9MCBiZnJhbWVzPTMgYl9weXJh\n",
              "bWlkPTIgYl9hZGFwdD0xIGJfYmlhcz0wIGRpcmVjdD0xIHdlaWdodGI9MSBvcGVuX2dvcD0wIHdl\n",
              "aWdodHA9MiBrZXlpbnQ9MjUwIGtleWludF9taW49MiBzY2VuZWN1dD00MCBpbnRyYV9yZWZyZXNo\n",
              "PTAgcmNfbG9va2FoZWFkPTQwIHJjPWNyZiBtYnRyZWU9MSBjcmY9MjMuMCBxY29tcD0wLjYwIHFw\n",
              "bWluPTAgcXBtYXg9NjkgcXBzdGVwPTQgaXBfcmF0aW89MS40MCBhcT0xOjEuMDAAgAAAE0FliIQA\n",
              "Fv/+99M/zLLr9zm146j3op4mX0N1JQGblsTtOoAAACuNCE19g9rMS67AAhSOf9ALkUJgB+ZCEA+q\n",
              "q8GZlqmS/F8RUxwtoGQ3iTjvuPTvRoB8EQunLEGLm+2vaoyVCO+Mw6p5Z0OfEUmFqHh/KbsaDK2M\n",
              "JnKBD291N1McSDEiNoDBEhcLTzQMMHk9rmgfaXYshPA12KwZuTVybd5bL/Sa7qPSJoumuNIlDSeP\n",
              "yH3ZfP8YgOEMeT7kzcp36F5P2S4M/wKiGwxSpVS+3XoB1HDGLh316/bUcOH/+5zaOAmtP8HnKo4y\n",
              "+0ser3LMvYTm3aiZrlczcS+8iYQVehzK9Ovjn3+QHYQ23LmgIUrISpu9+x/r2L2kqk6MbnE0W0O9\n",
              "o9oUM2FOiwzTRk9YW1jYYXVjavJLNMLIC8NWPoAOYJ2hfFS5QyDsU+Dj0E3oGQuwCaz6/yYzQU2s\n",
              "zNu7Vc1EdHEhEadEIs2KX1UC9jA8Y07dYkik5/jW7g3n24MBbY20lCXH8Jo5x5S17KY8jAsb3aM6\n",
              "X8TNECRksGWTIwByxEQejQqXPO1d6t7FhHBZ+AG6DvRZuK/QZfIdrVnONDKIsVP0+wrlwkpMk68m\n",
              "SYMmDfioa7dVSZpLjbfX2M3e+I2seFjEgxS0O5bycXYwsr62KQyVheg5SAlWSADggc7wK2ESTqvm\n",
              "e5KfD0xitD85q0T27ul/2n/+UArgyaOavcltmtelwkxbjcUqQOtASStrKjqw+DyYdHkA5BxzMiDs\n",
              "70G7W1clOPtUWpH0znL4D2k1lTwzXk8e7oo6aMRhvAb6tbh0u/bfI0cd10+3kmik9kxlB2VtUpIz\n",
              "XC/f3PcSqM1g5ZtYtTuoAcz7XhIpSipEklESbZOploUdCIFolBF2bZ62phY8XaOzTpuy8iyq3I/Q\n",
              "Q1eqeSqQCu3ph4ys8RdrV1TLz4C4ggDZztDWyeFwfsW9vAksyKqNW9EELRwyO1csUHp6NMBJQwzE\n",
              "QG+BbvbPeGtWmThQ0qxfiGKAowCK2hW8clG9HaYm3g8eBW7gOyTfH4avsflH9aOK8CnnLEBed1+3\n",
              "04gLtjwq+10MQBD1xc9ApoqUPT1J2d888jpP1SovPRWxyEctfO8y8u3VEizZdQXqmwDv7xXyy99t\n",
              "vw14/rsQN0zG+KzRmS/9AfJzQA4BZ7bKPi7IqunQcxSu9CIOCH/VwMfi3mK9TmXDYP8kp6Qlon8T\n",
              "6y5mds1y1qWqIT9ethQdMj+eQK7CiDVw37MIL2zrfCcaZSYQPcpg+i2H++IRbDVjElCjBOxOfgkt\n",
              "6Yx43+s5E/u/Jgz7wlNAGrSi1XY1+ViL5AMu1ugQSvOYBgMJWABe9H0S3iP2iT7mrVvM/eCQtkth\n",
              "NFTcDmYcsDs1FF+r1rTFKsKXOBivblsCUlVkN0cWZ0I9Zv2cuMVcSbxeDiNHWp66hW6PFiUuP6rm\n",
              "JTiZRFE2MxS8RCj8CiBArAyb/4kedlVzwktPQTPTDKo7vEu29foVjbqaFEwFZQLQVinnTE0DtMIx\n",
              "jPxF07OGaG6nYhjufzugTIG/GD6CUJDnUPPmZzLQdUA93ewWvj2jJpuv3MHqUAM5fcsVPr3xeUf3\n",
              "0Fl5u0ca9EfhyaFg0JBHWX8/CHszk/1NSysZfMNzbx4RdXmNrMYFJ//HKlAge1vZHcERHJ+OSpqX\n",
              "DhNlM6+1y+cXjaUKyBphXwJ2haoRG85tVFryjrUCcWX0ffGXq6OHnr8XzGyp759oZPwG4yo13E6Y\n",
              "cC8dJo+MxdFImSuMbwU+fKgYaOdDPtRGwUrYuHRzcUEFxzY4ltLeKPEgX+aIlHFA3gO/s+rnqJw8\n",
              "0tzIviyfEODfDlswz4ZOj6cqqqAq3eC50DFTliCEKyZrJwYxz0l43d4mSzD93YGsghVc6tg4a3CW\n",
              "WVS9Lss4BAH9OOxHasvIMFkfOBhbjQLohcyDo0jygV371HlJ0OjLjySNkqspakL6El8Q03nVTZFc\n",
              "HjHExHEu9W7rPDXaBqiYQ+e1YgzrCWvcW8jU+iykcH59V0nMqnLdvlcyUAj8FR26ENTYaKvZtOqD\n",
              "AsrZTJejIi0iJMDJB1DOZzC5/kp8SUI5amKLKOfFrb9C/la7u+JUHf59F2S0NaG8/e5LpuYFA8k/\n",
              "I/TJlIhJQm429Bg5q8Wf5Rvo6xsLpWdSspZMBWFofRYsaxZrIOHKAdC1Z3ETF4nFQqiNB/irB6Il\n",
              "L5CDa5o6XoaCcLoUXCHlEapZYuwm45eoyFcJHpN3pt0eOw1GySf7t1sqX8UG3bZC/iFxMA8YMcKH\n",
              "vSzPjQxyDKLkaYQqSHvulH/qwHy1DBNPnpp3hyAyfUegItvK1UdsnoaPyl2auNYx3SaRNpNgHr4A\n",
              "hCvNX3wzI41VBpPVueCJpteHzG+gGZCB1WTBPV2YdmtQeaq7Et30jfnArJ42DVW/F1litnsvzaIk\n",
              "sYRaDWeW0W7+xJeeCvH3I2/OGgiHRrqIOvvy2qnEFscMi3mZ4a89cdbixT87SzIJ8TCu33dkTesg\n",
              "92FamW5wGk7ZImd4pz8PUC4HXaO/D/0ymnCaPF6JR96PC2ZAefIYnpgv4H7ig9MX8kuAEMsmOW+p\n",
              "vmRSDVw7TEL3G0OHt9N/W3/afrm6kFVlfCe8yNVzE0hT7lP+XXRpPT+m6S/ficMqZBhL4MwDYSXE\n",
              "togiryGgS3Zn/J1Sk/hBjY/08EtKYZDWU4jwpQ1HrMXgMlc22lyuLBdubnVEow8Lm9e/OvS2V4m0\n",
              "6wE13kYCe4t/xWOkNL35Oz4+KJSQq+nNmf/WKoON/sBcZM6oWN9QB+mitLvbLF7nOstlZI+fUuCR\n",
              "ToF5Sc+U5EEHhOYnBlaTPRiBjy+H9zAyTC+ns1vnlB6O34KxibCJpNiI4y+B0lF8vwGdemfdA5Qg\n",
              "4DNQvUu3c+QIr6KGNKU8HgG9pPpOpywe2brw6UrwH/6CdcZJvfLNtv9+uYdzqIJzWKl9PW0uytxW\n",
              "Kjdz3X35+Go1vXyrDwaW8jiT1RtUOvdiKWHouLQLTi/4Fco24R4x5XLxhX5Eh2oAcQdESXNyolN7\n",
              "l/dgj3MliG2zub0wnBvcmL5HnttI7AF6J9Us1m24sqUd987Zjb+pz0MCzQnXwvmNcHIrJRMukoV6\n",
              "Xc9nIqGsyrNIxL+mhn6fRamehLSDhjA4nT9rMCcv01XYTMn+ABtWouqoeo6q0PQgpAWCFps3VhRi\n",
              "EAO2x2WNtX5pxCA+7hZZevcqd7UTrK0LyC9UfSoa/NDECT28M2Yz+kXBOO8THiT/H+0a7Em7uToa\n",
              "jTcQJo3XrXxXxXbcWjyIHgI/FdY5CQKf046qDUknQ+kS2xBl8i02fXOcflAGOe9CVB4kc/Tz4iH1\n",
              "Mg1zCNwZOqb4949zz1zMnpzemYXhGBhfuofXyp0vIFrHDh6d8MAQhzdWWyBfSjPKIcu9A/a8shwI\n",
              "N1WK2zU5hfBalbptZ5aC2ylZ2ndQ1Jc/w2iQNKBRXaCrt3ujDx+DOZjfjY+rA+2ONp7EcbsFSkAQ\n",
              "yNjLES5JcfXnZdtNedNzIPAXES+m66pm9TvYpe5/0H3ojV94nLB4TP7LGMxFXWTjZ7VTfbw6xV3+\n",
              "vdt71u5Epme5xaxfTZi+8rQHElmKKzYqE1sgUEj3hN8lSSxUo+COdqBZ859hYYILOvc7c0Od4B4k\n",
              "Qe7sOXUUVkKnGdjza9ouvLi/BAf6f9zwg/pUUc9jBAKbCWqrYnR1UxMAqRXAD1XMEfRJyCiKft6y\n",
              "VH5iTNsot4PVDkPp+f4nsy7RdkdMxbpjWYj+llf3WWrdRSrEmrikXUbRZFMG+ZjFvhFwxwBv2+oq\n",
              "E5+FXcfQhKxU1sHsUymJgzz588vmezgA6KgNukQKU7X9ESCS+XydFXXkRszJSqnMEvF9VIVC+XVZ\n",
              "8hhSW/iJ2qB2HUg/yQo6eYwQw6v2zG8qS47QVWhpEHBe5pYv3dqBLhv664123Gd0bRRr2l0jf+Au\n",
              "x/a8s11VkeN9/suBJdDdSJsa6oJONw7CWu5EtOS4+1FMymIlj59xURF9gD2K11a05MT+sFfCl4la\n",
              "w+iP6ikyCYfAha153er56W7EQePN5dtxZLIgbh80MGXwqkgv+m573LQnDHqE/IuYHyAMZ2+w2ros\n",
              "dhFuPh+Z9B6HPaz5TYMnLQr+opZhzwzo4G67I9dag2s0GQtuFTZTshA1Mo5EtqMSSncMTZcq8YJP\n",
              "jxAVtQ2yiUz7UWqRWpoIHZnyv80yeES43VWlhT9YZ1ozmHJ90L91So2zwlN+AdZqqtqIdCp3xy4K\n",
              "5IPIcyZtwcDRBhRy59AxkT1ZpEf+B8BX17SbGDjQdUW37BegJULjux0qjamYIE1VAzy2C2Bid3pB\n",
              "sb1YxnlPnbLDiaTj3E/WgwGVyIu+9AJWHkDHLdVPF62F2+cHDDfA5CxZsxOfz0hMbSbVKJACcJfj\n",
              "hC9d4GC0mmBB5WVwx5RduW4HX1j+TOiHG7Rgivculpsl/e7vDtnojFaXyhkix/2O5udfo9dXpoM+\n",
              "zZZKFgkEjlicr0mB8eoZlH/xzZNTS9drlBnmnGMLdsLiCnslwEpulueagXg7nRgCiNaW+Bi2na1X\n",
              "jHTfTeI50D9spf+YemjnWqq/XS35TEAPjOnVY4hre2Sxign8yGgUquy2DAzCXpRqHywn+jo2FyCl\n",
              "q49/AJmhtpMRdFUaoPAfoqX+iqL26sePYEtxzGx2dV5hSYQ/f7hqhQHQqIt7nRoy6Zno0uNPX+Qw\n",
              "2z9T35ED04iBiTxOZ5HUMCJRk/y2J2xRoF7itrRt6FnFTBwvFSSxWsAV5FAY/gCRrkVyuokpecLd\n",
              "3jNu+MdymMmOl3VtnWR3fcAMuyrO56Pdi2oJTNxUyfcCj0pS0N8zGTBTWlFAaArCstBMxXXwX8BI\n",
              "++naG6jkHo8J1IudaSEA9LTabN7qCGNPo5MZEgJWgmAetrxWwCA32glczdoC2lDeo4oI8Ioyfgta\n",
              "rUvoKSjH9oKCdC5gZcpTtTyitvan8lbu47lXFqz8QkZhTLONF+Q68DX4WAE6ABVY7hxzOXhfkhNi\n",
              "BaGHGRg6wH9KKjUgI+PiPK0wUOazjj6unLi6UE8/I0CAZnbJA9BLNEWt4Cp4soKRggHTFs9XIPpa\n",
              "VML0frRDf0x9fmvdu0Rgp49y+GJ96r1Bx56plzkf2Y2SataRRGGSWkEwq4WlGGt3zBygax0gp8fM\n",
              "xYqDOZ5bRxYknEtEdiXDdxSrUqfh3VcDOiopi2BePxbGz9rtyZpgNt55jiUy7ZHeqddWQCSMf/qa\n",
              "s4geV8o5of2lt74FDa6T5hI2xHP+nCfDgeUdchUaxHGPzcoP+9xpXzjRP+nCTkA0W/lph5AjcHuC\n",
              "bjVYUY/o8ZMmQPvYyThHO/+82LczeaKCtGNdyFNAUayXpw/yWzVlgC6lIcvJxjlg8AcGM03CURma\n",
              "L5vsAmpyBoX7o9sp97ivqESA9bdeTNPQIULLP4kZwfWbJNVOQMZ6lQyuyZoWv3P/XP2eQJIEnzqq\n",
              "ZV5+juOjRXep/tan9mNAGyhwZBi13Pc4SEhFCkOn8wSduDIlpS69fzp/TuYeq2dmyEWdqJ+okc+S\n",
              "9XUq/Jo1k3NAYHc78suKG3R8VtUXCbHvGfhx2GhjWBYHND1u5UgShFUaj5jAXLrwavV5quuS45CF\n",
              "rYJ6G72lVKVZI14BLMTZkYJYsl1B+EIJINJY4JAkz7ldR8iVNiZTgnBvq0mCJs9FPSYO9tgd3S8O\n",
              "yjwxoS2loCQtLWAzaK3pJjACq92nY9p3mhy3xlkgEMee1aGQ4V5ri4C6vgja6CCKlQ+aHz7+MdTw\n",
              "Dm7wjyz/mOPKb8uR20WlHowFawrgx/i4A7aejpsdsdGJWDok62L3ncisU5pRYLqfrYAkZZvy43Tq\n",
              "kEhdFLWl+Gt/qqeiX3nuFaA+ANeEfwi7Yj/oNZjmRzWbFzFh707ZuzL6SageLiHUnmPd7hCSHDnz\n",
              "K/88G6Blhfk3ZVZDtCT/muB89bG4cR6sdnxGGZgRZTwaQIB7h/YvmQJKoIk2yF7H39GWRH+vJWlW\n",
              "b0O9OgmKM6WUfwIAG8wKjUubGI2oH++eYG3PtHJYWy14dW/iAFb34VvwVkdcX0OjreqJeB3sERGA\n",
              "MKvOPXJJlpam5nwF4JckvFwAPIImSi6JAlcuv/uQnOdJepDFqnA1JqMYQanm6XlWoeH7bNfzyAoS\n",
              "hboN+vcQ2QUvgJJLU4lSYovc9flELz7bpNKwxz/KVeTj7xfQWBKk+scye14UqcxJDzZnB5E3uJvt\n",
              "+GsCf18MdPeEWMH8wmSFBbQMUDsFy+CxTeXG5RxFB7Dn4FMRNmHodWedsQKXz26tKu9HOxcEQQ0G\n",
              "F3eXQ3N21TTniuvnMV0GyVeuVc7DGaDuGMOvl6hfnlFR1XOb8/UBcbeyKp42IHhgvtbqLtUEnoqZ\n",
              "fnhJ1vu3NoaqqCRsXYSj9C4GP807TzFtw3IgxzpjXC4FvcjYdb5zIvEW8l8RyA1BKePP/W3TvDqA\n",
              "N4+Mbs12QpPvK5bPM2Ff7ZOX9fN+b+ccCGI78gRqOjXso2R7iQCy/luVnR/csyyiuPuTAm57FozN\n",
              "44U/hT8UnUCqYEDGq/9shBFULAAAOaEAAALeQZoibEFv/talUAfXN0AFtGnPkAK0rkSbSJ4D/4LG\n",
              "xfunxu+pViJw3bVMRosU/t6K2mWFeehk8N8/Bonw01KrAok0Y9TA1aKFsh9YHSzhh+HpSwdCSXTd\n",
              "76MACYQF57er7anpX+D8ds/b0M7wXrJAyrWu94xSk8pxinOsdpBHJ/4uHWs0xScIIduaVymAJF+F\n",
              "bsn/687+GNzt0UTQcMn+7yxKWxHXqGeX9xWRvmJk3zpkFbBbfiZM1OnzzUbBct+Ru6lDKExI9K9J\n",
              "xYzTpW002wS9K77Ni/0vaBQTLHPCXxcdDSrPQOCe/JciZHBcDZY/Heb68Im4hme8BgpPCBV+/1IC\n",
              "Q0QSRCQ97vaSIqCVyhxd754sSaVZgMIN5YmpTHMato9LZmqW1qxMEWhXOV2POnHYSsyGgNnZ1QDa\n",
              "s5q1f5FVjxuY7z5aRniDMLhp4anI/KgUutxshQjShANCDQavNtZavocmJ1VMWoSoDPZrsV2iqh0e\n",
              "bNBv5Qz1pTD49RfHOb3+LpkwwWuwQzZ5KHiCd9zGjumTi/n/VwYodsgRXEuyVZKzJUSM3rhufs9P\n",
              "x9yBB+Z8SeO7UDkTq57C//DaRa8IDliDDenR0q2EtP4iFU1ZURUWhBt+a0f7ngDY2F+hoEK3L/R9\n",
              "iQgiHpydrWGDu7vnGbzf07DYTdskWMIt4NgUUkhPgvLp1Q7cikipvEt8wOO/mQMjj9vRNOieyFrZ\n",
              "s28IcYXrrgJjXX8l6hvO6/cgb53+XjSXI7hR2dp9DMOOyTActwG82nSp3wXdrod0GKzUurDEsJr7\n",
              "GiYcMrL0KCF2UMUOWNUxMV9c/vEAmFcnnVUQ0N52cyw/zhOMf1a7AW2y83LXLnVvTuIaeFUXYxgS\n",
              "fr1SADcCPdZECZwbjr58jmRAdD0St/pnOjmYsgW0gBowtp65gxkymI9sOxWH7oFxJsXEP0baawcV\n",
              "4H9tjZhtDtD6b3LUr4+B86eghYAAAAB8AZ5BeQS/ABI0vtTG/ef5ZuKIghIW0snBfDgAulm2NNZw\n",
              "/8wq6y30Kiq0m72NtdZWFRlFySb4WhymQTzLkzEw32xxDj+TpOYLYLmScCZYeDRUP4dWR0/oVS+B\n",
              "+0o0J2ekyzJEPt6bNIi7C0udfOPEcXX6HAuEYq3Hg5qB0wAAAYNBmkQ8IZMphBX//talUABsuHV0\n",
              "AnRKaiJAiSICwb/F+OvBUw9cCHJirlKa38WPK/qL/8K8lxGEwM2wzP5XykQFjM/FWOgjW2WqsiuU\n",
              "swwIfYDdqU7bQyaSUV2ugUDnBinrNhmz4hn9Dqv0qtMhEYu5dMAk06O2y11ULXNCk4Ot66LL/jDc\n",
              "akx/+vgbpjy/XVDAq40BVhi4CvY//ya4QFMYxdXT1gdsXlEmQJNMu8dtO+cuXrnMFV0SjFUzvBuB\n",
              "4hKD2SA+rkDB83GMdgDphHfod+QwP4MiR/rnRFNXtsFrGHPhOoIaPQJ8ikz7myiVaYDN9JtasZ1L\n",
              "UcFEzfXGwOFc9IUUG58cmw0uE7vpz6KsKLlC9UVrGtNHuWY+Kx/InPPLS3xFToKjuLUBi9mijttz\n",
              "m28Z+xW9otHCbY6wftFEAeagV38rFuVbimt5oaeg9uLQT92sEw6jpcX3CdjTLhQqAJtcIMSzRmuu\n",
              "p13pYMbbYNFI1Uj2aRYXriF9S2s1H1a3h58AAADNAZ5jakEvAAIaPrM7FzgF+YceNgA3Q6/FSZUH\n",
              "c52f7tLDR6FtfbSkqggGqFB3QnFXz/hpLBUi33j7FMZ95SwDOstymWhPcB1I8cye8K97f8ObWbj0\n",
              "90lVEo011fAYWqUt7MWWazIxT0zRA7+14k+8DmTXzxF55lFTmc8XHtaxRqG2CTUDOpEkeKX6dP2q\n",
              "SzutTsa4OC1OEU0feDHXtlr5YJfLhOeYO1jOxfwfB6PM+4z1+wDLNOlZ1QJsUry2oIfRjJohfd/B\n",
              "g9flNoI9vQAAAfRBmmZJ4Q8mUwU8Ff/+1qVQAGe4IAUAJf3/EYXR5Ax/F0U+tqPGSAofJX1ntb9A\n",
              "CPy8eUdDj7g0Ghsw3IDLm8w1Ez+0HDT3bXafkzvShHG9Jdk+BSmZzSpDNSZPpN+wAMpzdsYowhbz\n",
              "Dc4zP80I4JGqhHvrr9ouuxVqZVmUzJdOUobIvs0CxjdJ4TXmEzjG+bkPQjbAtLJmKJgbG4Qwphtt\n",
              "NfFVH1ZOwP+zjNfVddPHaTmueOxz1IMniadnuFKuxrM4cVbrXmIykff8FsI4+EKIBWJRyuwpDwIm\n",
              "38Y35lsf+qDjqMTOlZeYodV1eayfaymnZMYYRsxS9pr1orJrdGR1P+D+ABvauA7tFawAorDqHjdU\n",
              "WGObn/VTP4ALk376kR8dvPSdc67yE94p0l4ouK4Tl4YwtWs9ek322dRzihYCeipwDuBnlEwimPtt\n",
              "9Dg+x6hWzBb/sqd2+HQU929DGSykn3f1+8ynU5FiT1M1YsTpzBABYJpXqqZbw+WJ1wM+aGjlJLW3\n",
              "y104BsSXVsSHdZWz041EeVczY0DDxUmaHE/jHFBiBSjcr+iWJ3sgQPhmpJjijc8bzYIFu3IreZat\n",
              "Fjk/lqvW6QFNt5QZbR3e455np+U00F3Aoid8hf0HIUIhNMR4px1GbVLc/IYr5l9uMz5+BWiDUwAA\n",
              "AJoBnoVqQS8AAHEqUrLODZkn9C76G9o2xfw+gmjffyD/SvXQjy918U6KQfxy8713zLfyhrcRRu6O\n",
              "pw7z+tSKYvczy+jtUyI4bhmsCSIX71Zvqt67pNURikxAoQv4QBu4kYFLddPC307kf24hj7pTsuGI\n",
              "KoFIoOOKAnBCDMVSBuH4YeSub0I2qpfqzORebJuUikP22ms1ZE3Ogt6BAAABhkGah0nhDyZTAgr/\n",
              "/talUAAajg1gB6Q5LJGpeDMn4RQDCe7LIUAu/VY5joUq23kxuHQSFB2tUZ9F776E/MgXfbhLFZ8B\n",
              "1mkJWunZSgmmZXAHt5BHJfZOhYyIJX//8f4Eo29csnYkxWeKTsZaD8Key420DVa2LXkiphSlsMwZ\n",
              "Pz0eTKmeW4ggIkPR9bJ/NcbTkmjjJM/mIoo1xPd9f0Y7AMT12uNHh/zjoSL4dLuu4/xGRkQiUCmM\n",
              "hrICVTZBjQ+jLoZjBO23Kk8wg5esWN1tuk8hE3FbupjztRRWiyxcAP/dw+DkCkhQBr7LBJmIAVYF\n",
              "FOGxN1WD33ytUR99FSg882OQtm+pvwXgLKg4gMeSAeKL/Yrmivj9IRHsLAK1wEmMxookRk6hc6gu\n",
              "rKn9pw09YH9UY32gR0PkbAZVAnXBPhN4qrLk6JD++cRNExJSW6/gezksWbXF4eU9tFKJg8O2bxkg\n",
              "gxDlVmo0WcW0ctFAbzzx1ExVLNu/Xg4tObFNi4YtPiJWia9swQAAAhtBmqlJ4Q8mUwURPBX//tal\n",
              "UAEhSQXAABEBoH4X0DmS2+Pk0/BLSspOXn4Ug4ncH0S3LdKDYeoGLabkm6U2sS27onqMZazpvEhj\n",
              "MNno37XNIqY1hFq5OLvEL0NEx4pOW+d/2/FE1/Yds7yUbnONrXFKQAoUAWHutr4e7QjC3RzCqEtz\n",
              "PpfMFwMpU6NLvTb17VhRN+jJdAusfb06VTk6q0eR8wJh2l8a/D11TL35y1OqJxp8T92mNwF8jbLV\n",
              "+A1PpMxudT42wFPd4osWZ7VozEBgNjDseSTZFuqjYyIRQf4Ceat2Mq7qk/0hkUcSIZF4Izz0Ka4P\n",
              "nr7OH90ydnZko5hqZUztTr+1WOX630Qlke6dQMO9TIuzYNqFYQd8fhGUCyHuZfokfk1g7+9+oyNF\n",
              "9prNNHMdPknlUfXcjEfcjCscEEbsbwglyE7GP4UrmrUWDjwUqKtCN/FqIV+Xxw1A6LZP4n5/wUpq\n",
              "q7GkEV1BCWUkQSuFCVFofov43xnMA1s+UheRMCegOkP5y3mNl9l4LB/4jEttLsrOAsFYhNIuRfEU\n",
              "YIp79doyM/fLfHITdtc8hYTFIzBaNeJHZkCtX5ooU01Utju4yWJRBlanLir1N+ffCMzYvOKxhNHn\n",
              "M3wis9oI+laYNqZa8iw98YnZOiAFjkmHaFygCr9P5Cr0gjXg0QzP+3saZq/KJ5hJ1IvP0GEgLpDT\n",
              "3SLmWp68dCCJmAAAAKABnshqQS8ABFSfpGQV2DAfSmLfQ91SF+cPG1KACH/R7LGpyzx2qrBOiuR0\n",
              "SBoQ08oXZsDKkk432sFBwMDSlxR77DczmlxHtmPi1+5jGC7BOgYCQtelWtGUwbnpWp20fhxyPQa1\n",
              "NJ7v7az67jFCVx77Umdl6bJpX04P68ZA6q9ORRKf3+wD/mty5MN3D2HM87D1efp9RzG9puJ4tRw+\n",
              "HsbUAAAB2EGay0nhDyZTBTwV//7WpVAEnyL+SsdFMARRs2NogRxTJ+/gSqGJASy/kELUQijJOcvg\n",
              "PLQ//40JanQKDh/3ORkekEEOQoIurjdFJoujXlT4CQZxOAmkUMYLSwrjfSKONFVtDPZoB0vrTfpd\n",
              "TpyMmmXY8SrbRafahTflSE5uluGItjBvLwROn+/MBc0P+HXGYrh8PpBVivi5yQkNRSPF00HgEBot\n",
              "9V+9HZoXQRFiC97jdDnrK+yB57yl5tQL3f5BPekKPgk8KXbOjD4Z9Or3Gts8Wfp2OByOoIhGVval\n",
              "+8yrz6zvQSFKvto+T781h4Rbgee3sjlfioXltL/og0MSC9SO4dNKpHeQ+E7cRb0IZFLShSYSMSJZ\n",
              "J729gkv0Y0sMAsTak460msiGJgsb3u7QPNy7q0Dl9Pw9MvaJ7i4+Ybze2hG3lZX6yoCx2a0xa9Cs\n",
              "xys12Ci61XYVsr/W8TkQVD33fBBCDzxKOQgakwc/iDdjnRERbLXAUWzGz8RNnBbKomda2Q0jgG+O\n",
              "7o0qpwIyzjEd3h7Mlrg+kwKVTgo86vY4C2sPKlE17iCLUdYvslY38EIsqBIGHXSJB0aIZ0E6D/U1\n",
              "O7QiB9L+mDEVsOGB2eAerTtFKH9BHzEAAACDAZ7qakEvAA4qYwQAP4tvoorsf4gENb0yVrfA1bf6\n",
              "Za0rsIqEtIY/Px2vagRMsHvTzjDgZpUfxpAMdKHsept8XPiX4VHKZRdKDVsPICAq9Pf8vBiTyLhu\n",
              "0an32M01Fusfaat4JGa/Su/vwluLx3nNkFRAod+cUkoalVWWlSXk14LkGpAAAAEIQZrsSeEPJlMC\n",
              "Cv/+1qVQBBeJmFBAEeYQf/3/pZEuY8aOmgr7g2w+CdW/A7Dr9oxwmJD325PBud0YQ5iDSU/9Yiz5\n",
              "37GZzFaDaW9G+pUB/TXONEB63oclv9G8/dDPIfzUe1PCeGIN96ss1efdTXfxSwQYSlVuDqjgUnan\n",
              "HGPyqAJdTZIaQOt1LS//WeQUwgM9bXWaQiOcgdVwlg1+Oa007+ms29V8rC48xYZEnoae9+JM1DqE\n",
              "OmSuiKRunMWkMnxRjeSMxW8tvTbqW3a7XwDeII6Eakw8knbAOKd4AZp2400h59MBfhxhcHQaWaOU\n",
              "QU7QgGSuXsmQ2Y2NZt7ceqGs9aQG/cj5WBRsAAABYUGbDUnhDyZTAgr//talUAO5898gXyo3geWH\n",
              "4AK8u6rtOqP6vAa3T1o1EmF03fUo6jDN4EwkYdhBs+I/DntV/IS1lREWzpbGLmEXfH5aNMpzzd/J\n",
              "GqRD/qDjwG1+c1mTrEZVtWZNXPced5veVOJ070N1SW9P+/98tykV6qCvpj2/2FJ4wvdg5517/wZ3\n",
              "Ox7f3lQUTKwHjQ+CeYDg/z2Wn+B9LMh94CeMp/ABPxrIQv50w/lPYJlZWxbiw39kvnweQPKmcoHm\n",
              "HB7FdllTyDVwhtvf26+De66j1V8tt8u4yj55XOhJ8cQxC9mqIiWZMh/eSkpA+hi+Tnkib1j3XAQR\n",
              "fdQ+BKt2EU1Pw3ei0sg5ro99+TgLaCYp/E21Mnkf4xgKw3wWTeQ8IHOzB3YveFXw4vlP+B8d1qdd\n",
              "sDf4ec0AVT3TD+m75Erz2NdzfvQmT0jBcG8VBjQZbl8nsDf+9glOPF5hAAABX0GbL0nhDyZTBRE8\n",
              "Ff/+1qVQAQB3fCAL/v4xv5N1mv10Dr20fB9J3VpYB4TG0DzLlq4Nti9zpvGVz4NAi2zzPWe2gz8c\n",
              "N+MgE7qDrFugeIBx1VqVwObySlyMkpck/jbBrrX0iFl2tO6S9XMNjb7i3N50VBWU9s4efBORLlvf\n",
              "cGbA1f2yVrlFXdh2DFk4dxe1stoEYdfWrDoWMnfgZDH4dsfpqZHSt2EUrBh2M57C9QBeAP/t89uS\n",
              "vha1ChdFfMIjgNIFB6dx6yBh6C7RX02Lmsw1zLvGx/mJ2s5E52LS/AH0++nzEFYInPWh48r621Lx\n",
              "7g438L20Y407vDsTCuYJfnseDoqS3HU0pybwX5hOK3bP0H/THY+ii+T0sSOEmIq8T+LPuNQQBxbI\n",
              "4vBWz8B8+qyUh+MDQLxPOB69DYB93cN38SLYazN80Fs52vUQiyoE3NBOo0Q/kpCQ3eYp+2xcwQAA\n",
              "AKcBn05qQS8AA9/ISNGXr3+DdgA4+0mHTJw4YjNiWYuo8jXGauzgY/sJB4P/4PAlZ3QSeuY+p+3G\n",
              "hu46bYZYHnYK+eoHQNFGxp/Rs0Ti3/2vrotGEb0pkdABkaCbuEtY/WDS3EtqxhD+NfxCZ9+6+8hk\n",
              "BsEq4x0R5MG+8WbH54lsKxjO7WOOd1cEBfjaaWXiqBUa4X7z/8LBtLYNwXhnKzwPAYK9VMpZQQAA\n",
              "AQhBm1BJ4Q8mUwIK//7WpVABAHkHQAczDap/Tsc4ASxzLUACBUW6H/0wxKyE7mNw82dhtOUq1EB6\n",
              "n/Sq2VAYPO2HtJbv44nk3y304puXNCwvlhPcXiftU236hePdIGa1J+jE5razllK8HkDftzS6nmCm\n",
              "Vit0b6A2mizw9qZJuVUuppTsQcb1WsfJlXQ5aQzv+Bj9XtO26Fz7sRefO8+zPaKXEmEwBzDHrsMd\n",
              "AfI5QYhFY5pX35tSua5L9wOhBJTWIb6IBurn03x2Nk4s/S6sGdUsyAzCLWdBkRv8Y6SnbkNePdwE\n",
              "QWrVvoMH1lPH6OZHoqHCZugc+XHvssACIyzte3e8xDSueZ9AikAAAAEdQZtxSeEPJlMCCv/+1qVQ\n",
              "ABgvzf0q3jJAUPkq+sqmtjZ7cDD5izrVYvggnwf1wkw8ox7KdBfpIvLdsWkcjyeBlRUFloHztN1X\n",
              "tIchrOHy2xHofS1CHtQlcvinvfYYfIBJ/uoOsuioCRvFC9aHX/6T0uY7Y3dKx2dT4N77tVnvT1ja\n",
              "IiiJC6ITtd0qlES/hxy9QsNQBXo3ZNSLtSwhjpDg7CtBY/vaWgIAnHgrCcXNLPScKE7+O31K0NjI\n",
              "nYbM6Psu+No4d5yf19r43OoqHR9l/p0kQscTZdZNd4qgaPaxZtgZu1wPA727nQB800ctpOtEv7Ds\n",
              "SXNUU0afgQ+JH6J2eruvZbMbVp0JUcShAqyz3TN5YrHGS9rhdMhf1UuAAAABYkGbkknhDyZTAgr/\n",
              "/talUAANlxrkAItkdd/SWDseFD0R+LcAxdsxBAR2mYL0EreHlwAUaNchUXmi9sE/EVzCpfOjMYUy\n",
              "cX4MBjJi2+jA+RdAcoFYLSz06UHrD/Gr+luAu9bYib2pJ0QcgVFLPx+rCb5Pt9swOCPronEkgLb/\n",
              "r0F3cyBmlYhGYiaS7OuOATL+PbrZuowWraXWS3qhFP0h4p/vcjFudq2qHxSlLsOV84b0ViCdyOtX\n",
              "HzW/0KltsfAs53t16bXtinpqM6CdJsWo/Dx83jqHEM4bQ59teMZpzurSvgh/kfSfhXebtBoinCgP\n",
              "vtzkCLmP70he23IKH2ICRePjcicf/2k/dyDL20MsPVnbB9bN26Y8xWFss2lGRXSGtzydDAN9/1T8\n",
              "uvfZ2fXI8txck9WbKk+xj/ViBTV3ncLYJ76DG4Kd2NH5ejRqjTWATnJyYQEXEtmmpkprsRPJIH9j\n",
              "wQAAAX9Bm7NJ4Q8mUwIK//7WpVAADZcdUQAtQwY+IPG2mYi/xv6bAvUO281SGn59AWJmUOt8FmWZ\n",
              "tLAwpALw9C9Jz//wGfUzlk75ENLueCdNlemRZq3hZAYhjLyIp2RGMrS84HRacnLsoRmIo34Eq9Q+\n",
              "FrRe6dXyghlxih+5McDVmczJvceH2w2aVTEKz2HvKR0LsADpG3hjooj/JtG9jDbH0jVfrH22W2Gi\n",
              "Xrr/aTeGR/IYHpV3Iwc5mr2uvQhpGSjsZ2QxsmGatyWwqlfYiEqMvRlTk3mLqLoAPy3QVGZtE86q\n",
              "UAh3K3a2c4K6Ib914PSX71nlwvK59r7hInD7ACYyQPG97g+e2FgD0P1mdaK5pLVbTHDMGWWO3NHq\n",
              "1WLPorKnN3y948ZXUrib97Efbn/LCb3pkmZV8C+6Yv5w1GJc+cSkqDoM0dI8L/2L6YxK8Qe6T+hl\n",
              "vCX/7Vj049R9/VlH6HONNquXAEtVF89GJON3+xTUJ0E7WF/0OguEdh3G6YvOIAAAAVpBm9RJ4Q8m\n",
              "UwIK//7WpVAAB3/l34+DNYABwl3X+/DeRx6HD2J/gKzbqvf5IVFajKBKuItRNb8tw1CMmiIPRODm\n",
              "95Q9REUCWz9lp7YETQHd4ka++pSrgnbZFot12UCgJuZK6ZIeOKjuOPipO3gRaYDMdKXaWdbj/ZqE\n",
              "V89TvJvMetD7tRNgMvzbBZYm4czfxzRzg9a1HpNV5XeBQ7RhKTGXPS7JVKeUWWESsOUJfIYMiDOC\n",
              "VIeFOoMKrb8fhMCwDmeddiXMK30OjgC8YXn6y8WO7DKKC/QpFlrDo+Rs+7BoXhBzdWoMqzQZRW4s\n",
              "vkl5e8KWbmf01OLlRGxyv2vhyhXj7Ic3cCnzYM5WBk+Clt7kt8V+qL33UDUJFhyGbv7Ell9qP+jl\n",
              "ARAy+mcU2pWhB56QDvxwbcWH0HqcbilEewWQ5TsvZgN3fzUdevUzru5Gb8fHbc1INw0oUqrgAAAB\n",
              "YUGb9UnhDyZTAgp//taMsAAIQ59iADjxMIFmTYOmzovmUP5I2in6WMW5zTIz38eWksA5u83LQlTP\n",
              "ins6o/7Sc93MP0z2/djeN1qBpK40mYV0mU8/GwmfYqz2zrjbC6qQomvtGr9EOaDm3D/Jo7QTWzMd\n",
              "G45hWxpSJViutHnrnVJ0fb+Ym83xZspiaqkrZlmcoZVyhuRZ/DUoJXpKf6TSib5rFXxKKK90PgD+\n",
              "Q0xXRoEkUkR2ciYvjAdDSwPFq5wmYti43nilllp4b7wWfzKCo8YChCdERprVs7zfmEsR/vn9BMAz\n",
              "PD4vV/YVtlRaId/bhkCTPOyLq4dFIrgwrjndERU5FDK7DXBKtvYhvpXQGju8rSc6jzdhmijhE8na\n",
              "fCzbTzX+4/8RajMSW03tJe0+RagRg0rozQR4HHahDdwMQTvKO6kRumbkYTnNUSE1e/U9cOsnHIaS\n",
              "dXD980G35JXrZVmNAAABIEGaFknhDyZTAgp//taMsAACplimIA2pvGb8jbdRUWjMCHXs9X/vpxhn\n",
              "64EwkFVD8RWL3C9sslNP9SrxV+adcj6j04CoYJPZDfBV31+kYn8rdAmpUYKsWyAPDtBL/CmQm09H\n",
              "klI9rTqKmUuwSp9C/UsIeqxHKkL4fIlHkuf0VGurWdnNDhFpTwhrDn5oaLh7+e3TAsMFofPTGtI3\n",
              "VaU/66YULupezL158+lNcVubqD1if0qwh53X5/ZsLCyr7ADuyg+KTPTZqxVU8XBx3I2Ci7qZhHvB\n",
              "CVPSGyOxLb1hd4pCm33LhOrZGqliljIOXlvmn8YCxzsUhOLv2qVrzAORdSX/4xmksgSnQ0zq+ykI\n",
              "5L4oF4qBCpjdy1qXqFKEA2zvgAAAAUhBmjhJ4Q8mUwURPBL//rUqgA7r+lAAcV7uSU7dSRf6pl7q\n",
              "Csahe4cL8nDoJ9eC3Poh3G1ZiUxAZ+uZk8tO32YXIyrw7VxEbng/R3p1NLD23Ie/imFu1YK4oIJ/\n",
              "+EN5zNm2oCeG3dNUgejdgNCmDyeSalsZt5lypMGTdwGbX6jRFPBbTqIeb7PqPrycfM+NDTP0VUn7\n",
              "aSEWmDYhF5T3BrrYlxob0EU2GpGRcmPpbodYuDN1UedpBaXgFMx3vC1D6kIfbWa+YuKtR3o9WmG5\n",
              "aWVgvibglGHianUAB9aWH4i9WQc5j4sxHbvnVgR1doYRJSDoH7ZdawarPbPyMNP0fsU7kSdnSkd9\n",
              "5XcU1sVzRC49j+bxYK3UkKS13ibVjDF/m9WZxg4lIdPVVNvonlkKQC6TXcf7v/V5yBrTaniXX1Um\n",
              "VLfmmwWXgQSZAAAAugGeV2pBLwAAAwK9VtEAJU6guXT+fO1zb9zXj0I605YoMOC/EhsoG+wH/qvi\n",
              "KWfqlBsQmgtaTznS0hR0bThTOg2kFTuGDSdiS4WkywDw0HWfLNymlUux+HRi6A8Lsl/JaZo7tWrF\n",
              "Kg7hoVrf6KqGxWSCtP8x6/5SyRhqXRYZDIsiVNSQMn4/gnlFP0PSjzP/U5kRk5383u1YUm53Wr1i\n",
              "GdwQknUaGYbESp01q8vNJpciLq+OgFtc0LTdwQAABCRtb292AAAAbG12aGQAAAAAAAAAAAAAAAAA\n",
              "AAPoAAAw1AABAAABAAAAAAAAAAAAAAAAAQAAAAAAAAAAAAAAAAAAAAEAAAAAAAAAAAAAAAAAAEAA\n",
              "AAAAAAAAAAAAAAAAAAAAAAAAAAAAAAAAAAAAAAACAAADTnRyYWsAAABcdGtoZAAAAAMAAAAAAAAA\n",
              "AAAAAAEAAAAAAAAw1AAAAAAAAAAAAAAAAAAAAAAAAQAAAAAAAAAAAAAAAAAAAAEAAAAAAAAAAAAA\n",
              "AAAAAEAAAAABaAAAAWgAAAAAACRlZHRzAAAAHGVsc3QAAAAAAAAAAQAAMNQAAEAAAAEAAAAAAsZt\n",
              "ZGlhAAAAIG1kaGQAAAAAAAAAAAAAAAAAAEAAAAMgAFXEAAAAAAAtaGRscgAAAAAAAAAAdmlkZQAA\n",
              "AAAAAAAAAAAAAFZpZGVvSGFuZGxlcgAAAAJxbWluZgAAABR2bWhkAAAAAQAAAAAAAAAAAAAAJGRp\n",
              "bmYAAAAcZHJlZgAAAAAAAAABAAAADHVybCAAAAABAAACMXN0YmwAAAC1c3RzZAAAAAAAAAABAAAA\n",
              "pWF2YzEAAAAAAAAAAQAAAAAAAAAAAAAAAAAAAAABaAFoAEgAAABIAAAAAAAAAAEAAAAAAAAAAAAA\n",
              "AAAAAAAAAAAAAAAAAAAAAAAAAAAAAAAY//8AAAAzYXZjQwFkABX/4QAaZ2QAFazZQXC/llhAAAAD\n",
              "AEAAAAMBA8WLZYABAAZo6+PLIsAAAAAcdXVpZGtoQPJfJE/FujmlG88DI/MAAAAAAAAAGHN0dHMA\n",
              "AAAAAAAAAQAAABkAACAAAAAAFHN0c3MAAAAAAAAAAQAAAAEAAACgY3R0cwAAAAAAAAASAAAAAQAA\n",
              "QAAAAAABAABgAAAAAAEAACAAAAAAAQAAYAAAAAABAAAgAAAAAAEAAGAAAAAAAQAAIAAAAAABAABA\n",
              "AAAAAAEAAGAAAAAAAQAAIAAAAAABAABgAAAAAAEAACAAAAAAAgAAQAAAAAABAABgAAAAAAEAACAA\n",
              "AAAABwAAQAAAAAABAABgAAAAAAEAACAAAAAAHHN0c2MAAAAAAAAAAQAAAAEAAAAZAAAAAQAAAHhz\n",
              "dHN6AAAAAAAAAAAAAAAZAAAV9gAAAuIAAACAAAABhwAAANEAAAH4AAAAngAAAYoAAAIfAAAApAAA\n",
              "AdwAAACHAAABDAAAAWUAAAFjAAAAqwAAAQwAAAEhAAABZgAAAYMAAAFeAAABZQAAASQAAAFMAAAA\n",
              "vgAAABRzdGNvAAAAAAAAAAEAAAAsAAAAYnVkdGEAAABabWV0YQAAAAAAAAAhaGRscgAAAAAAAAAA\n",
              "bWRpcmFwcGwAAAAAAAAAAAAAAAAtaWxzdAAAACWpdG9vAAAAHWRhdGEAAAABAAAAAExhdmY1Ny44\n",
              "My4xMDA=\n",
              "\">\n",
              "  Your browser does not support the video tag.\n",
              "</video>"
            ],
            "text/plain": [
              "<IPython.core.display.HTML object>"
            ]
          },
          "metadata": {
            "tags": []
          },
          "execution_count": 33
        }
      ]
    },
    {
      "cell_type": "code",
      "metadata": {
        "id": "DLbL7Q7SIStG"
      },
      "source": [
        "# Encoded movements\n",
        "LEFT = 0\n",
        "UP = 1\n",
        "RIGHT = 2\n",
        "DOWN = 3\n"
      ],
      "execution_count": null,
      "outputs": []
    },
    {
      "cell_type": "code",
      "metadata": {
        "id": "Q5YrYFbczOYI"
      },
      "source": [
        ""
      ],
      "execution_count": null,
      "outputs": []
    }
  ]
}