{
  "nbformat": 4,
  "nbformat_minor": 0,
  "metadata": {
    "colab": {
      "name": "RL_Q_learning(cart).ipynb",
      "provenance": [],
      "authorship_tag": "ABX9TyMB+fFqNuFTkXDT+V+a5psG",
      "include_colab_link": true
    },
    "kernelspec": {
      "name": "python3",
      "display_name": "Python 3"
    },
    "language_info": {
      "name": "python"
    }
  },
  "cells": [
    {
      "cell_type": "markdown",
      "metadata": {
        "id": "view-in-github",
        "colab_type": "text"
      },
      "source": [
        "<a href=\"https://colab.research.google.com/github/cesar-claros/RL_tutorial/blob/main/RL_Q_learning(cart_reduced).ipynb\" target=\"_parent\"><img src=\"https://colab.research.google.com/assets/colab-badge.svg\" alt=\"Open In Colab\"/></a>"
      ]
    },
    {
      "cell_type": "code",
      "metadata": {
        "id": "Res4T4N0Qf_n"
      },
      "source": [
        "# install required system dependencies\n",
        "!apt-get install -y xvfb x11-utils > /dev/null\n",
        "!pip install gym[box2d] pyvirtualdisplay  PyOpenGL PyOpenGL-accelerate > /dev/null"
      ],
      "execution_count": 1,
      "outputs": []
    },
    {
      "cell_type": "code",
      "metadata": {
        "colab": {
          "base_uri": "https://localhost:8080/"
        },
        "id": "yDxCeZ-kVy8A",
        "outputId": "897907fa-a174-4d56-8376-f5cf89acd3d0"
      },
      "source": [
        "# Librerías\n",
        "import pyvirtualdisplay\n",
        "_display = pyvirtualdisplay.Display(visible=False,size=(1400, 900))  # use False with Xvfb                 \n",
        "_ = _display.start()\n",
        "!echo $DISPLAY\n",
        "\n",
        "import gym\n",
        "import matplotlib.pyplot as plt\n",
        "import numpy as np\n",
        "from IPython import display\n",
        "import matplotlib.animation as animation\n",
        "from tqdm import tqdm\n"
      ],
      "execution_count": 2,
      "outputs": [
        {
          "output_type": "stream",
          "text": [
            ":0\n"
          ],
          "name": "stdout"
        }
      ]
    },
    {
      "cell_type": "code",
      "metadata": {
        "colab": {
          "base_uri": "https://localhost:8080/",
          "height": 217
        },
        "id": "vpGEjeR2VcQT",
        "outputId": "499b27a4-bf74-4789-f9ee-384390aa6f91"
      },
      "source": [
        "env = gym.make(\"CartPole-v1\")\n",
        "\n",
        "env.reset()\n",
        "fig, ax = plt.subplots(figsize=(5, 5))\n",
        "ax.axis('off')\n",
        "img = ax.imshow(env.render(mode='rgb_array'))\n",
        "display.display(plt.gcf())\n",
        "display.clear_output(wait=True)\n",
        "# Estados\n",
        "# 0       Cart Position             -4.8                    4.8\n",
        "# 1       Cart Velocity             -Inf                    Inf\n",
        "# 2       Pole Angle                -0.418 rad (-24 deg)    0.418 rad (24 deg)\n",
        "# 3       Pole Angular Velocity     -Inf                    Inf\n"
      ],
      "execution_count": 3,
      "outputs": [
        {
          "output_type": "display_data",
          "data": {
            "image/png": "[encoded data removed]",
            "text/plain": [
              "<Figure size 360x360 with 1 Axes>"
            ]
          },
          "metadata": {
            "tags": [],
            "needs_background": "light"
          }
        }
      ]
    },
    {
      "cell_type": "code",
      "metadata": {
        "id": "yXax2-PkYBac",
        "colab": {
          "base_uri": "https://localhost:8080/"
        },
        "outputId": "79285a55-d8b0-481b-e534-bc6c87f3663b"
      },
      "source": [
        "# env = gym.make(\"MountainCar-v0\")\n",
        "env.reset()\n",
        "fig, ax = plt.subplots(figsize=(5, 5))\n",
        "ax.axis('off')\n",
        "imgs = []\n",
        "# done = False\n",
        "N = 50\n",
        "# Actions:\n",
        "        # Type: Discrete(2)\n",
        "        # Num   Action\n",
        "        # 0     Push cart to the left\n",
        "        # 1     Push cart to the right\n",
        "for _ in range(N):\n",
        "    action = np.random.randint(low=0,high=1)  # always go right!\n",
        "    env.step(action)\n",
        "    img = ax.imshow(env.render(mode='rgb_array'))\n",
        "    imgs.append([img])\n",
        "    # env.render()\n",
        "ani = animation.ArtistAnimation(fig, imgs, interval=100, blit=True,\n",
        "                                repeat_delay=1000)\n",
        "plt.close()"
      ],
      "execution_count": 5,
      "outputs": [
        {
          "output_type": "stream",
          "text": [
            "/usr/local/lib/python3.7/dist-packages/gym/logger.py:30: UserWarning: \u001b[33mWARN: You are calling 'step()' even though this environment has already returned done = True. You should always call 'reset()' once you receive 'done = True' -- any further steps are undefined behavior.\u001b[0m\n",
            "  warnings.warn(colorize('%s: %s'%('WARN', msg % args), 'yellow'))\n"
          ],
          "name": "stderr"
        }
      ]
    },
    {
      "cell_type": "code",
      "metadata": {
        "colab": {
          "base_uri": "https://localhost:8080/",
          "height": 381
        },
        "id": "UO38b8G5RtFH",
        "outputId": "0782c34b-cb3b-457e-adb0-58f612252220"
      },
      "source": [
        "display.HTML(ani.to_html5_video())"
      ],
      "execution_count": 6,
      "outputs": [
        {
          "output_type": "execute_result",
          "data": {
            "text/html": [
              "<video width=\"360\" height=\"360\" controls autoplay loop>\n",
              "  <source type=\"video/mp4\" src=\"data:video/mp4;base64,AAAAHGZ0eXBNNFYgAAACAGlzb21pc28yYXZjMQAAAAhmcmVlAAAaVG1kYXQAAAKuBgX//6rcRem9\n",
              "5tlIt5Ys2CDZI+7veDI2NCAtIGNvcmUgMTUyIHIyODU0IGU5YTU5MDMgLSBILjI2NC9NUEVHLTQg\n",
              "QVZDIGNvZGVjIC0gQ29weWxlZnQgMjAwMy0yMDE3IC0gaHR0cDovL3d3dy52aWRlb2xhbi5vcmcv\n",
              "eDI2NC5odG1sIC0gb3B0aW9uczogY2FiYWM9MSByZWY9MyBkZWJsb2NrPTE6MDowIGFuYWx5c2U9\n",
              "MHgzOjB4MTEzIG1lPWhleCBzdWJtZT03IHBzeT0xIHBzeV9yZD0xLjAwOjAuMDAgbWl4ZWRfcmVm\n",
              "PTEgbWVfcmFuZ2U9MTYgY2hyb21hX21lPTEgdHJlbGxpcz0xIDh4OGRjdD0xIGNxbT0wIGRlYWR6\n",
              "b25lPTIxLDExIGZhc3RfcHNraXA9MSBjaHJvbWFfcXBfb2Zmc2V0PS0yIHRocmVhZHM9MyBsb29r\n",
              "YWhlYWRfdGhyZWFkcz0xIHNsaWNlZF90aHJlYWRzPTAgbnI9MCBkZWNpbWF0ZT0xIGludGVybGFj\n",
              "ZWQ9MCBibHVyYXlfY29tcGF0PTAgY29uc3RyYWluZWRfaW50cmE9MCBiZnJhbWVzPTMgYl9weXJh\n",
              "bWlkPTIgYl9hZGFwdD0xIGJfYmlhcz0wIGRpcmVjdD0xIHdlaWdodGI9MSBvcGVuX2dvcD0wIHdl\n",
              "aWdodHA9MiBrZXlpbnQ9MjUwIGtleWludF9taW49MTAgc2NlbmVjdXQ9NDAgaW50cmFfcmVmcmVz\n",
              "aD0wIHJjX2xvb2thaGVhZD00MCByYz1jcmYgbWJ0cmVlPTEgY3JmPTIzLjAgcWNvbXA9MC42MCBx\n",
              "cG1pbj0wIHFwbWF4PTY5IHFwc3RlcD00IGlwX3JhdGlvPTEuNDAgYXE9MToxLjAwAIAAAAFjZYiE\n",
              "ABH//veIHzLLafk613IR560urR9Q7kZxXqS9/iAAAJI9POeSOYQRNvSADOgAA/BEpvqaGufdw/EX\n",
              "v+pJEAiSGGCtH4aBb9erVUclUuY7Wi7d22tRUnQR4rvx+gAA6A6JofplEK90Gih+87Dl2dgTvJuq\n",
              "kMiGBE31Q+xF5C2FnyRSMnWm/d/5Sp7nzz++6g+FWAho14i8KDXH4qzx0SsFFqFdLJd4keMcqj/l\n",
              "pjeV+00ALPyPRkVq1RlfwBXfLHOekNEbcYJxVPfxKxD3niy8hUFbKXdpfHQJ4132rhDLrQ+MpB+0\n",
              "En2iqAdctGxkVCtM/bM25ULTT5/9jNlcrhBgTkINoVDBU6MjPxKsjXvNX/vRAa2M2s/KlXlguc5x\n",
              "EbcRNNOkYXjz+NbGD/tip2LTx41HgyZAjrX7a9WdD77T6zI5VUqK1Ci1YZGMHOvGvOqJ5tAT+4Bn\n",
              "8AAAAwAAAwABxQAAAJhBmiRsQQ/+qlUAAIAn4nWgBmnlX+BL6BRTbDwzscM8xp06uWnKp8vpAFs5\n",
              "A6W/R5IXuQu9ln2jI/T5bgJSccMUU8yLV6NWwOrTqijGh3KK1JzMjMSof2VMNQ67K58ZG1u3Ikxx\n",
              "qjocKXqlG/bjEkCVJBf3/wMrU7VKK9hbIOljPfqI+kJtCjsfdsrXMbGPLlLR/OYw2G2QMQAAAD5B\n",
              "nkJ4h38AAPlFY4U7JeisS5EbxMaMANuaTq8l/+wq8e2xmtt5WEymF4of8JwnQtLNaiXj91CHhrR+\n",
              "P9+6bQAAADIBnmF0Q38AAMkhVF/fr0mnIQATbuVzMHvFTmDbmpiAL/Kyu7vWkxjO4u2BBmkVsF7t\n",
              "dwAAAB4BnmNqQ38AAMQXZ1SySoP8xddwDi6gZyLX5HQ+A3UAAAB7QZplSahBaJlMCCP//rUqgABA\n",
              "aBNwagBKxpfeh59ztv4adUo4Att4aSmUlyGyKeTV0x5fkhTsVPE6L2e1RzZ6lITNu9gV/ULTvDkR\n",
              "YkkCovddFl8EtCWS7cMZx1wu+SzZlIeL+eqMBLH5ahByLDZP9caW5cn+CE2BlXSBAAAAwEGaiUnh\n",
              "ClJlMCCP//61KoAAQA5JqozIAEzDBxkOvr62amtB9yeJFNgSOvegsl5uhNfX8EHO1tWq42REbgfl\n",
              "+Vf+l4YSAPeaBgV7WCmHpQ+zAVTEnt+xzu/YsPuhc5IDmrVOTRu26WC48v363nCeBHpWZVFAEOUP\n",
              "D36nyv1ihbvZ31Saj8bWEapIPjTpekHPE22htv5N/ZDsumZwIOMMbQe2kGAFZzq45DTMaY/gBSHX\n",
              "63gvL0e65Wrebx6gPnOtQwAAAFpBnqdFNEw7/wAA+VEfYymgIJrxrQF+yoXfzy/9b4oHUUZa40WO\n",
              "FtwjHtJ4JKtPJDke7Yyo5gTM4CJJc/Jkq848BkyYTerejQFqnfwfWv/Qw9igP5OfP20UPaEAAABK\n",
              "AZ7GdEN/AAFqUewrM5rph8z4M87ffrkPz4k/07G1uQQcEc38QAf1pbBNpnBbFe7gmXAqYKTuJF40\n",
              "0LWT6terOEkd6G9PES3VE0AAAAA+AZ7IakN/AAFrRI/Weaqmkv5zqYPALpI7on7Sm+k/GTJhxgEM\n",
              "4gUDfirkje4ADtLtGwcWlX1+TJAw3a1xX8AAAAEIQZrMSahBaJlMCCP//rUqgABAHqN6uQDJ+ldL\n",
              "g6y0t1HH+ooUR6Uwn5D7NU2uXdb4ig9l6AUn2dLxpH91rUw7ELmBkgWgyrdFv6jX4KYBuJFlb40G\n",
              "tvdYrEd0jeLZBDGGQ1k/nVJnCGSJWi0X7KgWdGikcZ0OO3zg1WxDU9CAmNDJcvHh/hTXvkD7RoSN\n",
              "lYCEAcFH9hEpdSrfznDOwWola+QnB28h90fB4jxfwBmO3io76i8CkDeKXjNxvfFVG/GdGDmXpeSW\n",
              "XjUkWsWhsd7fCx6cGqA0BY2ES7NeYz3L/JkQjjlhmcW0//3Ml+UbD7wkzMrKXXZlhRwd5m0OzITH\n",
              "ZMcJtzLFCM5nAAAASUGe6kURLDf/AAFpsJtIbN5aqueczIzmlBjqljJzkbItBuAHpVPT7iCTYABx\n",
              "3EG7YvPVwzEJ4XP5YHXK8Zy0RoCMgG3sge1NbUAAAABHAZ8LakN/AAFp7Oqp+GT8Ve5K3WL8jQAk\n",
              "1dTL2qk09RuYVgqLfYF/XM4B7bU76jYB60+ZfYyUfWTU72ExPbe7TUwa4coRmYAAAAEvQZsQSahB\n",
              "bJlMCCP//rUqgABAfs3MveS5Iu6YARkVQmRud8LVXUoV0kwIjFX5UFW5pd6/Gu3wx56EXCGMUha5\n",
              "2y63N4j+6Hkh+3gzKCRkTFRghO5waBEfOW+L0/KERxiVurVlkgvPe6ONXFJdVr2YKdd+lGDkkW4a\n",
              "w1f/+NZnmLNXP685wO2P1twA2Ly4Y73ZIw6TbYcBPOjCjLwul9EO0znb5aglk5e2WY5LR+NE9h0t\n",
              "hAlQEe/2BGR1z+oN3szELV3cRufiY7IJZj/IDhTcyC4eJmr16MEp2ycJhKuowsGcWTDvJtc33ThV\n",
              "6/uOm850pWveYGY0xHyHUl5qvuEabQr//YMibyi6Ojh/+Xo3mXyjnsgc72kkVZWABStjOoDHDkFd\n",
              "ucB2+eJi6anbT2ptAAAAh0GfLkUVLDv/AAD56A26q7RaG0S2AAZ4vb8xccZDpHMYPqs+JCA1PoQW\n",
              "YCG15H0QmCK94C0+OdKIGk5ePSwIpSrjr/dnaYgzNOy41hpDvvR65uYeZumCtaankhSlavoKhnid\n",
              "aykUWKZ4lm9jwVsaRgZDy0ppktwxbfuoj+7tK44J6ty5EbO2gQAAAEgBn010Q38AAWs7u1QZ+gBt\n",
              "jyMzrGdvTLcwI5E48RMPRO+rtFr0DQziQewLrzCBvViCVU3U6MfdAPHtidLqvgUcW/TMupDbfMEA\n",
              "AABVAZ9PakN/AAFiTx00hwEW5sFsvNw5qMh3YnRFs4tr25gBKTW3tBpN2sgiO6zgspHgG0LN4wRY\n",
              "Cg0hz2RTZHnb1OQHQcEaofQDgAPtoD++f2QpN7wX3QAAARVBm1RJqEFsmUwIIf/+qlUAAEh+Q49Y\n",
              "7uXt1EKWJxyyGcYAVT3pTv3o08THye8mGNyomntpL6VcSZMJ/1dI/5O4ij8BqMTNGeg9roE3XK+Z\n",
              "Gt57byx/R2WUK+I8W2Tw8sBNOcojJAM7jZ0gKNkT6rjj24apQVYBBN4DvKoT2YyaRAgp4x9yXCKC\n",
              "Yz4sRUSfClOXTAiGLB5SRJ+pmiKXvIJQQxuuKyk/LvNlGu1v0Q+0dOp2/T/99bV0Sq6szekIse78\n",
              "wHGAxOAQUPhbMS0Zm/KGI16R5VF75umoKqNbGts45ShPP/Sn//1p8ZdAU+HvjK5YYJ1SrhjQn/Wi\n",
              "echppgAWhB4L9TnCTtGluiJiCtZZOF8x9BbqAAAAv0GfckUVLDv/AACMOSbhQeHhkb4A1bowN6Au\n",
              "Y85kXKGsCBH3U/8Fa5RFs/AB4FXt/j/PhkUq6mFK/R2P4aaXuvQPTqdcaOfNY818PqYCn1TYeYep\n",
              "awz5AJKcNHhUbatUGV6hoHi8Oe5ru7Z4Vo2yhDUGGsnKjYa42+tH4PaC6OXjxeDlTQReRaI6rLXf\n",
              "Q9NU07goPStZy9MCbVjof0dokjXr7VK5cU/NhZppSwfjiYHIJi9HcFtOMOgCCqVOs3ZRAAAAVgGf\n",
              "kXRDfwAAyPVVsiQGb7zOXHjiJDvZXEk34h7+quXMuGWrBC0AlchGjTsHKBSXJNjBuC92b0Aq/Yd5\n",
              "zmzezLIUvJ1c74wOOVJqF8ghTWqpWOr52+VgAAAAYQGfk2pDfwAAc/tYTowKziIAia3+XfwlJXMm\n",
              "U6DhDKeNttmdfO3UuF+EdmxR6BMpcBa1wzqeASf3kr+Tf7iUnyV90RUkNT0m7vBCWMcwPePPMx80\n",
              "uWg/IOrnH9yee+dMP0gAAACgQZuVSahBbJlMCCH//qpVAAAYrKMccFv/aA8JagA+MlpS6wR0Rxb3\n",
              "1BR/8DUagLT/ROxWI+YxN0ah6f55CwCAwS+Kz3qx3tJJCfxoTigiwjZPFavMEFZHKHA4/vJedePk\n",
              "MfUuMvDMVfRQi8MgHtX8Sdfz/L+4j3dMo/vvqA6ys5PjT7c32bgl8g6RD1LDvBNxxV1jF6QOs3cq\n",
              "A6yfJanIoQAAAS1Bm7lJ4QpSZTAh//6plgAAYq0fmftABO3wssnDR4GFH/tRrTT7zvVudh8Vj2pt\n",
              "+I+/H/ge+bEkdDU2UrYSn/vMsHnJL9JCgtVsnsPXVUe082xZIcid/YeixnDRSUU7ThfuaKuWekkB\n",
              "lTRBt3G8u3q3K7iMN5CplLSq1/E57Oe7zLRcFSaVbe51jRXDk4TrCXxKIY45ELX9wDoeZ3uhxSTD\n",
              "7lfPrMq4IqntfLFQPNxrUHcE3dQ8zvEKUJggoU4QLMqUsiJ6Ihwv8v1kw0fD9CiD5JfWZa1RefmS\n",
              "y4PKrJh++3liHjB2byxPeP2qpWlpK6DGb9rLzwUqC5AEc3JetSfgEm84SW/RXpeJ2iVUd0AknOvv\n",
              "Fx2Dg03rUVOG9Cfaua+oHbxP2w050cf9HhSAAAAA1kGf10U0TDv/AAAxYImFczJlxGW4AHNzxUzE\n",
              "vmNBU5KKTvPBf9k9WqimGBZmH6vCZSIIAjrdfQwlOdBiMoRG5dWrTX6sZUc9+9J8A+uOVRU2L2M6\n",
              "vC2zsn3FZLx2QM/v6oH+ASMSpnONduyr1vS9BSNHpABLbSGJ8cDCPtgHmWnUVK1XV7adz+9yIr5G\n",
              "95BFcyH/l7ceKjGo+b7OA/CUeK2p5hxjMB/EJb7Ev237uBJiRVfyflq+/oBxbrNVFi0V9oxS/JAj\n",
              "o0btNM9AUBYpSjMKF+JG62cAAACtAZ/2dEN/AABFbvh5nAPsuADnLdaHejy4OKrUuyYnkWdjA7Oe\n",
              "CWO/PxiYCAtF81mIBsZkh47krq4TGP5Gtgwakk5w56mvvltugBmTxU33fby2EWUVYnxwUv4MWsjV\n",
              "zffNETtlf+gj5i3DhCOAex7dc/XzuKv3jOkoDjY3ypK4z9yd1YOwBxZmwz76iIxjFgjd8/1mKa49\n",
              "f/hxcv55p9iy//k5EbfTGr/MOpqfdWsAAACHAZ/4akN/AABFX+Iq4gBA82KwcXonrZ0JDp3zYlx2\n",
              "0ycSPd8MtIl5pl2JEj5VW/Z1q6342YlW3sShu8l6lGsrJagXkl6Na5fYRTEVYmxxXxByGHGCM4VY\n",
              "qEPHDrcEF3EqfaaB+M5HtP72IUpfoI6xXtnvm5+Hmc0vaw7v52IkzxAuxnUleQJAAAAAw0Gb+kmo\n",
              "QWiZTAh///6plgAAYsHyaN5mAB7z27ileI616nAw1gqUOc/KYVkNAAuWdt+YCT6i/+Er0IEryD7k\n",
              "1nL/cezlmkSDsYzTwRq8JUsNkXGwBasK/J+uulaEfxAd4mZpS19DChtqZVfyrsA+ZpAi9+WXbD2o\n",
              "4WYZf0zuABY2BXVxLhJLzpEvvrEmet1sr+gvQDekDpNi5t1v8WIRIyvizvtOsMjxz7Hl4GmHTm3d\n",
              "Vh3YEShghamm2cgEpoxGC0Ki4QAAAMFBmhtJ4QpSZTAh//6plgAAZYVgWVoAOEYv81wktfjiQIX0\n",
              "Tv6ZZPeCzPtzmueymBY5WQKsCgqwbsMykZF6NWfvQIY8XBP7N7Ws2iYLhECO+j74kHZA7GouySRe\n",
              "0xvphvPptG/RgZipV7v0wM9BTvY+TMcJ52KyHA0iufFh4YQetRLscqZ0SYi6n+Mh4jRmvAi2RthS\n",
              "/W3BiaIOdfnfFF6AvgUC9wYtDq+t3L0l3s4p0Lk4xcADdJc3/b8W4ipPWjKOAAAA0EGaPEnhDomU\n",
              "wIIf/qpVAAAZ8ImSZz8ACEFu4Cf6d8tZRMuS9Vy3OPedNNwCkmO69XWORPK3BXsKC8Kg4mnFfz4P\n",
              "4Gk0NzWUsneuNKYI0YVvF5YjEmiYNo46PaWtAvQHntxyj+GpLBn2a/b/U/yS3rXOPuO/p2m/ylaj\n",
              "ZFAyJxvuAfxnm9jbqp8ujkZlH9Vu1kuRRBbvPOovdldGHUme4VPMLyWV4F5PWIrDQS/kXiS/uoVP\n",
              "wz3llPlpTqpsNs/8L0iEhM811+WcnA7CXhbFgcEAAADBQZpeSeEPJlMFETw///6plgAAZ60dcF1G\n",
              "gVjgBtAZF2goj0OZU3pX7C7DRdbC1wrArVKmpquR7RLJBqEFr8kRv/jo8xE4EwMj9LoTsYgEu2st\n",
              "PClHD3wsMGvyIdclyuiWJ0zLRvOyt9RKNSIsAPwrgpVtNeaEbyGtBfTF0O73NdlcqisebY7D0EPP\n",
              "+iDdQQaRLRkNIPTHcWR4nwz6V5hrRIyzg9H5HeK+d4v3i9/l8xMDr4mcnlk670haObcdBNAkNQAA\n",
              "AGQBnn1qQ38AAElrxc4WgIF1qu9B6hRcIDo0NAA7SH1yfYHsm0wo56p+cNqMQqhuCaKyn46YwCjp\n",
              "hP07I8DfyArK6CiYDrtFyKs7b0K9HnyTDi8rc6EndzWawbku+vq7PC0G3WG0AAAAnUGaf0nhDyZT\n",
              "Ah///qmWAABnowXaKACHEl+RqVomoEtkL6Z3SVoC+yAJgh0ELk+37MNWBYG0ck5oHCwgLnUEjgjs\n",
              "2nmxtPjYcvU+hgaO0aOXAZaXNlZ+ylYSZT13pw6qwgcVFfkMdMKOYY+A5ZYm6/3qfjlYLEtzoJBo\n",
              "D/4FIR51lhcEYkQjfi+SXvIl/kN6pgYhfobO4PDnfAj5l1QAAACvQZqASeEPJlMCCH/+qlUAABsp\n",
              "SxpAACaoCdAPb52hR/hDzQei9er5WfvZFpuuWHPYQ08HCsmiDRbz4j9zuqODD6A2CzLVfhw957Gv\n",
              "2aglyYnor0c27j1deU9nWl7AUejC/Ncf1br40R4fqXj9uZKbYk+v/aRV22HnGqI4intSUVniUY8e\n",
              "uSvaNNU/boKhXqXGoNk9/EynopHtk8AyrH3GFgm3xx+OT/7waWPPEK+p7wAAALRBmqFJ4Q8mUwII\n",
              "f/6qVQAAGzlkFcOKMrQ78AH62BNBLVit1y8I9EAcsMYr+ilkk2vyge3BlgaKuRr4vJViTrI1uJ/K\n",
              "EXY0YCu7wfL5XPl2uMrEMprSAfNC2WLymF43p/Bly3NK8RtcuHlt/qeUtzNKpeX725fTqyPjFhcl\n",
              "Mp49UQy9rhMMwi6/ls/kYgWRchJrMTENZlbdlVGvMPn5SPJH0A2jYZkX0SBAUeFgBsUpQ0NSCYAA\n",
              "AACQQZrCSeEPJlMCCP/+tSqAAA2cqsg1o3ABUw6EVWY2wB8knLNCs8bmcRWTIn0+itpPkkGGju2k\n",
              "JofTMftlOGgbKXl5Ssld15t0r27T9qy3LUopJ0NcgN24ipeBcIeRbcj8N7JKb4uPH9n3tU8vk7I3\n",
              "ZYQzYA534Knbk1cvlyz6iTuGV3iUsCZ3m10dhO6EYnKBAAAAZkGa5EnhDyZTBRE8Ef/+tSqAAA3m\n",
              "Yb0IAEMYR7UNiktt8Rq4vLq2JSNMpJFP/VwZRI+BEABi0s2n6C5ZPis2Z79oS/LWXnfBdqgHrwYQ\n",
              "Dpo+jx2kWaXChtBh3fEy1lGh56JpH64cqAAAAFoBnwNqQ38AAE1qJX1wAl5p+GAlff5YA1mc7+ns\n",
              "xZ/jSWBnzcmC32LNrJIdcWJz6XdsEjkxTmgiRbMaVlOtckQ37TOi9zf2Vux4BRlPYNVYk45MSrcv\n",
              "4Sx398EAAAAdQZsISeEPJlMCCP/+tSqAAA33x8yV3HZPDPZU18EAAAAXQZ8mRRE8O/8AADZbS27j\n",
              "Y8/w3oaR3W8AAAA+AZ9FdEN/AABNb0tQAmUi521R1bAGYh1iQJZEgID4GQ6s5mMnsC4yf/Or4Zdj\n",
              "DmWmcM4khBixMF74iZ50l0kAAAANAZ9HakN/AAATWvYqnwAAABVBm0xJqEFomUwIIf/+qlUAAAMA\n",
              "FNAAAAASQZ9qRREsO/8AABAKVKzUPkOlAAAADQGfiXRDfwAAE1fZSp8AAAANAZ+LakN/AAATWvYq\n",
              "nwAAABVBm5BJqEFsmUwId//+qZYAAAMAUMEAAAASQZ+uRRUsO/8AABAKVKzUPkOlAAAADQGfzXRD\n",
              "fwAAE1fZSp8AAAANAZ/PakN/AAATWvYqnwAAABVBm9FJqEFsmUwIb//+p4QAAAMAoIAAAAVXbW9v\n",
              "dgAAAGxtdmhkAAAAAAAAAAAAAAAAAAAD6AAAE4gAAQAAAQAAAAAAAAAAAAAAAAEAAAAAAAAAAAAA\n",
              "AAAAAAABAAAAAAAAAAAAAAAAAABAAAAAAAAAAAAAAAAAAAAAAAAAAAAAAAAAAAAAAAAAAgAABIF0\n",
              "cmFrAAAAXHRraGQAAAADAAAAAAAAAAAAAAABAAAAAAAAE4gAAAAAAAAAAAAAAAAAAAAAAAEAAAAA\n",
              "AAAAAAAAAAAAAAABAAAAAAAAAAAAAAAAAABAAAAAAWgAAAFoAAAAAAAkZWR0cwAAABxlbHN0AAAA\n",
              "AAAAAAEAABOIAAAIAAABAAAAAAP5bWRpYQAAACBtZGhkAAAAAAAAAAAAAAAAAAAoAAAAyABVxAAA\n",
              "AAAALWhkbHIAAAAAAAAAAHZpZGUAAAAAAAAAAAAAAABWaWRlb0hhbmRsZXIAAAADpG1pbmYAAAAU\n",
              "dm1oZAAAAAEAAAAAAAAAAAAAACRkaW5mAAAAHGRyZWYAAAAAAAAAAQAAAAx1cmwgAAAAAQAAA2Rz\n",
              "dGJsAAAAtHN0c2QAAAAAAAAAAQAAAKRhdmMxAAAAAAAAAAEAAAAAAAAAAAAAAAAAAAAAAWgBaABI\n",
              "AAAASAAAAAAAAAABAAAAAAAAAAAAAAAAAAAAAAAAAAAAAAAAAAAAAAAAAAAAGP//AAAAMmF2Y0MB\n",
              "ZAAV/+EAGWdkABWs2UFwv5ZYQAAAAwBAAAAFA8WLZYABAAZo6+PLIsAAAAAcdXVpZGtoQPJfJE/F\n",
              "ujmlG88DI/MAAAAAAAAAGHN0dHMAAAAAAAAAAQAAADIAAAQAAAAAFHN0c3MAAAAAAAAAAQAAAAEA\n",
              "AAFwY3R0cwAAAAAAAAAsAAAAAQAACAAAAAABAAAUAAAAAAEAAAgAAAAAAQAAAAAAAAABAAAEAAAA\n",
              "AAEAAAgAAAAAAQAAFAAAAAABAAAIAAAAAAEAAAAAAAAAAQAABAAAAAABAAAQAAAAAAIAAAQAAAAA\n",
              "AQAAFAAAAAABAAAIAAAAAAEAAAAAAAAAAQAABAAAAAABAAAUAAAAAAEAAAgAAAAAAQAAAAAAAAAB\n",
              "AAAEAAAAAAEAAAgAAAAAAQAAFAAAAAABAAAIAAAAAAEAAAAAAAAAAQAABAAAAAADAAAIAAAAAAEA\n",
              "AAwAAAAAAQAABAAAAAAEAAAIAAAAAAEAAAwAAAAAAQAABAAAAAABAAAUAAAAAAEAAAgAAAAAAQAA\n",
              "AAAAAAABAAAEAAAAAAEAABQAAAAAAQAACAAAAAABAAAAAAAAAAEAAAQAAAAAAQAAFAAAAAABAAAI\n",
              "AAAAAAEAAAAAAAAAAQAABAAAAAABAAAIAAAAABxzdHNjAAAAAAAAAAEAAAABAAAAMgAAAAEAAADc\n",
              "c3RzegAAAAAAAAAAAAAAMgAABBkAAACcAAAAQgAAADYAAAAiAAAAfwAAAMQAAABeAAAATgAAAEIA\n",
              "AAEMAAAATQAAAEsAAAEzAAAAiwAAAEwAAABZAAABGQAAAMMAAABaAAAAZQAAAKQAAAExAAAA2gAA\n",
              "ALEAAACLAAAAxwAAAMUAAADUAAAAxQAAAGgAAAChAAAAswAAALgAAACUAAAAagAAAF4AAAAhAAAA\n",
              "GwAAAEIAAAARAAAAGQAAABYAAAARAAAAEQAAABkAAAAWAAAAEQAAABEAAAAZAAAAFHN0Y28AAAAA\n",
              "AAAAAQAAACwAAABidWR0YQAAAFptZXRhAAAAAAAAACFoZGxyAAAAAAAAAABtZGlyYXBwbAAAAAAA\n",
              "AAAAAAAAAC1pbHN0AAAAJal0b28AAAAdZGF0YQAAAAEAAAAATGF2ZjU3LjgzLjEwMA==\n",
              "\">\n",
              "  Your browser does not support the video tag.\n",
              "</video>"
            ],
            "text/plain": [
              "<IPython.core.display.HTML object>"
            ]
          },
          "metadata": {
            "tags": []
          },
          "execution_count": 6
        }
      ]
    },
    {
      "cell_type": "code",
      "metadata": {
        "id": "YEwwYaxUZ9Ib"
      },
      "source": [
        "# Discretizar espacio de estados continuo\n",
        "def get_discrete_state(state, DISCRETE_OS_SIZE, max_limit, min_limit):\n",
        "    # DISCRETE_OS_SIZE = [20, 20]\n",
        "    discrete_os_win_size = (max_limit - min_limit)/DISCRETE_OS_SIZE\n",
        "    discrete_state = (state - min_limit)/discrete_os_win_size\n",
        "    return tuple(discrete_state.astype(np.int))  # we use this tuple to look up the 3 Q values for the available actions in the q-table"
      ],
      "execution_count": 12,
      "outputs": []
    },
    {
      "cell_type": "code",
      "metadata": {
        "id": "tcvtQagXbiQD"
      },
      "source": [
        "# Selecionar acción\n",
        "def select_action(env, discrete_state, q_table, epsilon):\n",
        "    if np.random.random() > epsilon:\n",
        "        # Get action from Q table\n",
        "        action = np.argmax(q_table[discrete_state])\n",
        "    else:\n",
        "        # Get random action\n",
        "        action = np.random.randint(0, env.action_space.n)\n",
        "    return action"
      ],
      "execution_count": 13,
      "outputs": []
    },
    {
      "cell_type": "code",
      "metadata": {
        "id": "oY75i0eJfLlZ"
      },
      "source": [
        "# Actualizar tabla Q\n",
        "def update_Q_table(q_table, new_discrete_state, action, LEARNING_RATE=0.1, DISCOUNT=0.95):\n",
        "    # Maximum possible Q value in next step (for new state)\n",
        "    max_future_q = np.max(q_table[new_discrete_state])\n",
        "\n",
        "    # Current Q value (for current state and performed action)\n",
        "    current_q = q_table[discrete_state + (action,)]\n",
        "\n",
        "    # And here's our equation for a new Q value for current state and action\n",
        "    new_q = (1 - LEARNING_RATE) * current_q + LEARNING_RATE * (reward + DISCOUNT * max_future_q)\n",
        "\n",
        "    # Update Q table with new Q value\n",
        "    q_table[discrete_state + (action,)] = new_q\n",
        "\n",
        "    return q_table"
      ],
      "execution_count": 14,
      "outputs": []
    },
    {
      "cell_type": "code",
      "metadata": {
        "id": "-lHVHRoWS8Dp",
        "colab": {
          "base_uri": "https://localhost:8080/"
        },
        "outputId": "7b40b1a7-379f-477b-b875-45e08b27d082"
      },
      "source": [
        "# Objetivo: llegar a la bandera\n",
        "\n",
        "# env = gym.make(\"MountainCar-v0\")\n",
        "\n",
        "env.reset()\n",
        "LEARNING_RATE = 0.1\n",
        "DISCOUNT = 0.95\n",
        "EPISODES = 5000\n",
        "\n",
        "\n",
        "# Exploration settings\n",
        "epsilon = 1  # not a constant, going to be decayed\n",
        "START_EPSILON_DECAYING = 1\n",
        "END_EPSILON_DECAYING = EPISODES//2\n",
        "epsilon_decay_value = epsilon/(END_EPSILON_DECAYING - START_EPSILON_DECAYING)\n",
        "\n",
        "# Number of discretized quantities for each state\n",
        "DISCRETE_OS_SIZE = [20, 20]\n",
        "q_table = np.random.uniform(low=-2, high=0, size=(DISCRETE_OS_SIZE + [env.action_space.n]))\n",
        "\n",
        "# Boundary values for states\n",
        "max_limit = env.observation_space.high\n",
        "max_limit = np.array([max_limit[0], max_limit[2]])\n",
        "min_limit = env.observation_space.low\n",
        "min_limit = np.array([min_limit[0], min_limit[2]])\n",
        "\n",
        "imgs = []\n",
        "render = False\n",
        "for episode in tqdm(range(EPISODES)):\n",
        "    state = env.reset()\n",
        "    state_reduced = [state[0], state[2]]\n",
        "    discrete_state = get_discrete_state(state_reduced, DISCRETE_OS_SIZE, max_limit, min_limit)\n",
        "    done = False\n",
        "\n",
        "    while not done:\n",
        "        # Tomar accion\n",
        "        action = select_action(env, discrete_state, q_table, epsilon)\n",
        "        # Obtener nuevo estado y recompensa\n",
        "        new_state, reward, done, _ = env.step(action)\n",
        "        # Discretizar estado\n",
        "        new_state_reduced = [new_state[0], new_state[2]]\n",
        "        new_discrete_state = get_discrete_state(new_state_reduced, DISCRETE_OS_SIZE, max_limit, min_limit)\n",
        "        # Actualizar tabla Q\n",
        "        q_table = update_Q_table(q_table, new_discrete_state, action)\n",
        "        # Reasignar estado para siguiente iteración\n",
        "        discrete_state = new_discrete_state\n",
        "\n",
        "    # Estrategia para modificar la exploración-explotación iterativamente\n",
        "    # Decaying is being done every episode if episode number is within decaying range\n",
        "    if END_EPSILON_DECAYING >= episode >= START_EPSILON_DECAYING:\n",
        "        epsilon -= epsilon_decay_value\n",
        "\n",
        "\n",
        "env.close()"
      ],
      "execution_count": 33,
      "outputs": [
        {
          "output_type": "stream",
          "text": [
            "100%|██████████| 5000/5000 [00:08<00:00, 584.55it/s]\n"
          ],
          "name": "stderr"
        }
      ]
    },
    {
      "cell_type": "code",
      "metadata": {
        "colab": {
          "base_uri": "https://localhost:8080/"
        },
        "id": "lxr1tUQNV9-V",
        "outputId": "867d7dca-ba81-4079-c3df-9b1383d9c29e"
      },
      "source": [
        "# env = gym.make(\"MountainCar-v0\")\n",
        "# Generar animación\n",
        "env.reset()\n",
        "fig, ax = plt.subplots(figsize=(5,5))\n",
        "ax.axis('off')\n",
        "imgs = []\n",
        "# done = False\n",
        "N = 1\n",
        "T = 40\n",
        "for episode in tqdm(range(N)):\n",
        "    state = env.reset()\n",
        "    state_reduced = [state[0], state[2]]\n",
        "    discrete_state = get_discrete_state(state_reduced, DISCRETE_OS_SIZE, max_limit, min_limit)\n",
        "    done = False\n",
        "\n",
        "    # while not done:\n",
        "    for _ in range(T):\n",
        "        action = np.argmax(q_table[discrete_state])\n",
        "        new_state, reward, done, _ = env.step(action)\n",
        "        img = ax.imshow(env.render(mode='rgb_array'))\n",
        "        imgs.append([img])\n",
        "        new_state_reduced = [new_state[0], new_state[2]]\n",
        "        new_discrete_state = get_discrete_state(new_state_reduced, DISCRETE_OS_SIZE, max_limit, min_limit)\n",
        "        discrete_state = new_discrete_state\n",
        "ani = animation.ArtistAnimation(fig, imgs, interval=100, blit=True,\n",
        "                                repeat_delay=1000)\n",
        "plt.close()\n",
        "env.close()"
      ],
      "execution_count": 38,
      "outputs": [
        {
          "output_type": "stream",
          "text": [
            "  0%|          | 0/1 [00:00<?, ?it/s]/usr/local/lib/python3.7/dist-packages/gym/logger.py:30: UserWarning: \u001b[33mWARN: You are calling 'step()' even though this environment has already returned done = True. You should always call 'reset()' once you receive 'done = True' -- any further steps are undefined behavior.\u001b[0m\n",
            "  warnings.warn(colorize('%s: %s'%('WARN', msg % args), 'yellow'))\n",
            "100%|██████████| 1/1 [00:00<00:00,  2.00it/s]\n"
          ],
          "name": "stderr"
        }
      ]
    },
    {
      "cell_type": "code",
      "metadata": {
        "id": "keTMycrsTEck",
        "colab": {
          "base_uri": "https://localhost:8080/",
          "height": 381
        },
        "outputId": "bd4029f3-02a8-4b9b-e8b2-81c29b148e50"
      },
      "source": [
        "display.HTML(ani.to_html5_video())"
      ],
      "execution_count": 39,
      "outputs": [
        {
          "output_type": "execute_result",
          "data": {
            "text/html": [
              "<video width=\"360\" height=\"360\" controls autoplay loop>\n",
              "  <source type=\"video/mp4\" src=\"data:video/mp4;base64,AAAAHGZ0eXBNNFYgAAACAGlzb21pc28yYXZjMQAAAAhmcmVlAAAQpW1kYXQAAAKuBgX//6rcRem9\n",
              "5tlIt5Ys2CDZI+7veDI2NCAtIGNvcmUgMTUyIHIyODU0IGU5YTU5MDMgLSBILjI2NC9NUEVHLTQg\n",
              "QVZDIGNvZGVjIC0gQ29weWxlZnQgMjAwMy0yMDE3IC0gaHR0cDovL3d3dy52aWRlb2xhbi5vcmcv\n",
              "eDI2NC5odG1sIC0gb3B0aW9uczogY2FiYWM9MSByZWY9MyBkZWJsb2NrPTE6MDowIGFuYWx5c2U9\n",
              "MHgzOjB4MTEzIG1lPWhleCBzdWJtZT03IHBzeT0xIHBzeV9yZD0xLjAwOjAuMDAgbWl4ZWRfcmVm\n",
              "PTEgbWVfcmFuZ2U9MTYgY2hyb21hX21lPTEgdHJlbGxpcz0xIDh4OGRjdD0xIGNxbT0wIGRlYWR6\n",
              "b25lPTIxLDExIGZhc3RfcHNraXA9MSBjaHJvbWFfcXBfb2Zmc2V0PS0yIHRocmVhZHM9MyBsb29r\n",
              "YWhlYWRfdGhyZWFkcz0xIHNsaWNlZF90aHJlYWRzPTAgbnI9MCBkZWNpbWF0ZT0xIGludGVybGFj\n",
              "ZWQ9MCBibHVyYXlfY29tcGF0PTAgY29uc3RyYWluZWRfaW50cmE9MCBiZnJhbWVzPTMgYl9weXJh\n",
              "bWlkPTIgYl9hZGFwdD0xIGJfYmlhcz0wIGRpcmVjdD0xIHdlaWdodGI9MSBvcGVuX2dvcD0wIHdl\n",
              "aWdodHA9MiBrZXlpbnQ9MjUwIGtleWludF9taW49MTAgc2NlbmVjdXQ9NDAgaW50cmFfcmVmcmVz\n",
              "aD0wIHJjX2xvb2thaGVhZD00MCByYz1jcmYgbWJ0cmVlPTEgY3JmPTIzLjAgcWNvbXA9MC42MCBx\n",
              "cG1pbj0wIHFwbWF4PTY5IHFwc3RlcD00IGlwX3JhdGlvPTEuNDAgYXE9MToxLjAwAIAAAAF4ZYiE\n",
              "ABD//veBvzLLXyK6yXH5530srM885DxyXYmuuNAAAFDd5SSSqIvsZI4ACgAAAwN8O6D1tab/7W2e\n",
              "/9vPOvAqs7MIJmNCleygG2QAwH+dErZF2BeBULGY/7yCW9YIxfmJLEoZumWRstL30qTuanac1ImG\n",
              "kV8wo4QmXQ1nb5oofR0WaFmY3RUNvbQmefq6Hp6wKIdNibfcm9eBKA1u+TklaMreL29I86C9ohqg\n",
              "Wxu93cMeI75JFZY6LzDKtsXNLM8OVXIRLvfqaegih18lI/PlaJfjDtACt0Z/8VBZYcOLla/j0itt\n",
              "XPoaxTK/p1XqyL/85h3hyf7GK33LukDAct9bqkysm/z3H73wapwIVM/XqeZNoPvgnkGFviJV5ik8\n",
              "b0zefBa/dBLrgVVHc+5BDTBsDlNhv4FzJdIzMV6tilBNL1CQHQpft5hJTrXiZB6Z59olEsYwM+n5\n",
              "jNNrbbSXrdcw5bZjpt5/NhaPAAc8AAADAAADAAAaEQAAAGVBmiJsQQ/+qlUAAIANHglUV1AmfnZg\n",
              "AOxhkgVyzANoSs8BPn/fZdLLr1CGGWghGM5wzsF+1dNdadhpE91a/5tKpRznTAYvlWACtxAIb2VD\n",
              "gwNV9ffhTFRPMScazxq941ZKIqE1wAAAABkBnkF5Df8AAWtPFSHXPkHtDv5i5nWDAUyHAAAAdkGa\n",
              "QzwhkymEEP/+qlUAAIAiHAADolF0tVhi4VL/BEEcN5J55KbMehY1cu47dcsCi4RkJM7h9+aCkoOx\n",
              "SQJzw19EK1M9zzxfZHydCRpl7AvN+ANDIYeD/XYBYDQWJVdIvg+i+dubVcHZ9nx79HSnIhlnYJsp\n",
              "oSAAAACcQZpkSeEPJlMCCP/+tSqAAEAPBXWACtdmeTnjOCx7JS9mc8AUoKz6RWzDrYP3ADnGx2+U\n",
              "EBQChW58wvhhWW+ZN5aKQocwmw/T9oJOpK6y9rXGnv4lZJtY0+ySmmNVNVEmg+q6GjmUOtF0AiFI\n",
              "StkLnciVBbAjt/9NNP/CV0qeiAZDZgMI6ToQ5/4/L4/OmM2pzl9sDgUr2ISl6x13AAAAwkGaiEnh\n",
              "DyZTAgj//rUqgABAZx33jSwB0TlUj1vUcPnGDgs4+Af4CC0ZbTshlj0F9X6NFL7KbndLBPBSb40n\n",
              "AAM+Ci0kx8IH9syt2tmUupyK7t1wS3JkJD9Pt/g6eb8vDLXEgEiGKkcg7ub77i5PQ6J4edeL5EiV\n",
              "d6pxjD0K+kKnbED7HW91iCbSJtUMqRYm9tXUHTXv/grxRR5pq6RLAawsF6oLUzUdCFD67hKfoWLs\n",
              "AQm6mzt03mkbnYHWFYNR3EMTAAAAJ0GepkURPDv/AAD5ypc4/DNOkQJ9r2zfy4ZcE74OYeGWOBB5\n",
              "vX96oQAAAC0BnsV0Q38AAWI76q/Hm1EnpaUTQAbSicWsFu8k6jXrU1iLjf8ZVwAB9+iOhmEAAAAt\n",
              "AZ7HakN/AAFiehnTNrs7/82fNylTYaAC+L0MLThetV0JnbBjNfHxpTD59+6/AAAAfUGazEmoQWiZ\n",
              "TAgj//61KoAAQG4N6SgAcaj8RmmXzzzS0uNpHWuLjhFVoTxv7aYnSx9U5rVU/WKapbTbCoev31xF\n",
              "ysgm/E0dSnDvIJkI3bad5FV+9FV8dUsTR9oo17kn//+vlalcfpb+mYQkbj4ZtTLbK9GpEYJhrj7N\n",
              "99FwAAAAMEGe6kURLDv/AAD0kakXH16X6v+dIM+SVxSSjbUa0AH5NIm1A5stICv71Ti9tW22/QAA\n",
              "ABcBnwl0Q38AAWI77lJkehw2wKVbx1vO0gAAAB4BnwtqQ38AAWrsG5bAEOb16uCmXOeWR/iP4Oi7\n",
              "70YAAAC3QZsQSahBbJlMCCP//rUqgABAC+dp7KGWlCAHPsen5yzK2KYPOswtM1dWT9/Jhiy8qu9k\n",
              "c1XDkAnZwie8ZpPvDFlE2TkkWHM8BGE4ifqWAB0tvLxHifSQeSNzj8MYwQuarD37wyFokpL3vvwi\n",
              "mXlcYPiDMczK8RZO0sYwqW1YynxGY6sCnvqZ/rXdNkDzWZg466Upuop9HJ0Dk/1Bn1QoiT1Q2F2B\n",
              "ON/T6B40RF6rmdNNWVApHRnBAAAANUGfLkUVLDv/AAD6EZ6MbEYD0cJ/X+s7LYa5DHNBMMX4itNQ\n",
              "AnY2vHCcAT3g3WlCkd8wwnDhAAAAIwGfTXRDfwABYjvuja2hA5bEDlbiderrEH6Bqi6rJ+nvovw5\n",
              "AAAAJAGfT2pDfwABa08AMvn6gXHpiNU46bCpaBEDApDJ8s/vZQTx1QAAAP9Bm1RJqEFsmUwII//+\n",
              "tSqAAEALcE8z7+ZQAwBHrTqiJ6KyCzyvKm2ZD2BOqnCJeby9exMVBfICNOi5MLOHVjoYXo1vH1+S\n",
              "zOXV8QsxeehIcDTxwn/50mYIWGFCtCK4GzWaCZKRYRkif1g7pv4+qV0+WZfV3tS5lj/mzUkpTNnS\n",
              "ZbUyvGLZpHoJMhMp9531yRmShAwuQdXnAe4Jm8mDI6i3zioaRZaoLv+0+pM6J3ySMIsgOvUN5uHt\n",
              "NrgCNN27a390VYGDw+LvfEkH4c9dYPTdwmObBh+lXdZX+N4OpTk3I6uwFUdIKeaayENE/0OGaGVS\n",
              "5s9XWSkTmDc9v1+D/IAAAABRQZ9yRRUsO/8AAPfrK2UqTJ6ADi9R6DElblpQKo+LDyfjuo6ERNUs\n",
              "zASkig5kxvdbceQYBc0Vi25UXNv9vvngreU9vFpim94ZHIWapCXzVXrBAAAAMAGfkXRDfwABYolm\n",
              "QkTQJVACWmM5IbXzAz71LHT6vLiRNawNe7Vlnqa1dfuIFWyanAAAADYBn5NqQ38AAWJPH0znxySO\n",
              "NIskdKe3+a1g+LMjFaX5mgADsiaD3S+fHSC+5zlqV1ulFnweRMAAAADHQZuYSahBbJlMCCP//rUq\n",
              "gABACvpxc+VUjbPfZAF0PU+iCHM/FkHlc0eppl9Y3daHGqKa3r2TwT7FeW2Q441I+coU5fhZ330Z\n",
              "CCjmfzwvmdSm9OwOeUxUcwo7RTR6dTTfO48EOrK09rU7MWN+wvawdsZBCugXdUWvO9CuF2Ge7Hrk\n",
              "oWkiFMSwHAZV/CTSd5QUqx4m2yixSQqoSDAxiopI/YNKbyEZ7AxSqNe+E613nExaVw8LnIpusfzm\n",
              "tvW9TMwBMaOG+DmfzQAAAElBn7ZFFSw7/wAA9viqyEN5NuSz+x5xkgrfbAwLc8Sv5RZgBMoEJAbL\n",
              "QAQ/vPsCVwmakUvCM81F/oaAatfG4fRy1pCJE8mrWt3LAAAAHgGf1XRDfwAAyOHYmwzrS8jK02CM\n",
              "y6OPPq71fXYj/wAAAB0Bn9dqQ38AAMQXZ1v2uaRAhU4At63KcHRLp+JMoQAAAFNBm9xJqEFsmUwI\n",
              "I//+tSqAAEBnXnUsHIAje9Fn28JY4Vadzp3Kr7d9Czd3IirXwHCccZGUYa2+ZbUfrmKJZCwgEAJ5\n",
              "yNbUhOFicAlqWSLDAryPhAAAACBBn/pFFSw7/wAAjEvsO0HwgQBX5Yf+Fvp+Ioar77KlFwAAABAB\n",
              "nhl0Q38AAMP1gAUyLxAwAAAAFwGeG2pDfwAAxBdnYY2S+Omt0aheCEyhAAAAhkGaAEmoQWyZTAgh\n",
              "//6qVQAAgB3AtgAImKsUESRbP+3OKbnNvFhPasP9wZ32+0PiIUQU+u5iDS4HhgfxpK5sdzugzp5V\n",
              "UTmmr2vjgO1vURixnScvpRSHZineQIN8SmsHTleiNanYtkIiVaw70oAL1S19YzKZmeE7b+UrYrpm\n",
              "kIDaSmiyYp5dAAAAO0GePkUVLDv/AACOv/luckWU64E87ADjahG3P1LHKhL5P1kZ2xAhXOeBJ1Jq\n",
              "YxF9FJGf+kiqKXe3g/mAAAAAIAGeXXRDfwAAzfVPPX3X8GWFKMWPQi6BWuyuXK6Tf3wgAAAAIwGe\n",
              "X2pDfwAAzhc8UNhKKBULXG1+Q7covXqBMklXPpUzg7lxAAAAm0GaREmoQWyZTAh///6plgAB893a\n",
              "/8AOPBVpNvH3KZaHXC251KrVPc1yPbPG91KVUb7vIPEGcuMRXJpacNaH+7V8OvYAbehlWsMDUjfI\n",
              "C7OtreLCC1WnhrDDFJQAojqpuLBt5eYwE+7sQ6gOp1b51ZyOnGFFM97QMnUjRAHkkLq2sosp40wj\n",
              "e+VIG0YMkkVU6Tm1HaVwN0QDQtWjAAAAQ0GeYkUVLDv/AAD3GjQsUAOOc8suPCB29TOddBGUPEHs\n",
              "D7m4LhqKBBdnUUwu6Q6B/6Sg8BNm94x9Kkz1zYq6A+cb3t0AAAAqAZ6BdEN/AADOCnjJD4euUQGe\n",
              "heQIQAt5YDciXN7Uq/I8y3zSLyei0eHAAAAAPgGeg2pDfwABaweBeqtW9hE1NJyNZSgAXCh3aDpZ\n",
              "M+7O0E7pT7x2riv4OOLBarxMSrPZQL+9Asg3vWvctL25AAAAe0Gah0moQWyZTAhv//6nhAAD4C3w\n",
              "5wAljGvgD3QhbSHdlKv1PbBlYsZ0owsTdxFv3aRh3wbWQq+LJn0qmhECfxKMAHctNiFPc4kAOCwZ\n",
              "sLvmgCNcLKzvrnUW78EPenMPt8D4ZhDA3D7fHpoAsQGPxMuTlkXU4seM3exdlwAAAFFBnqVFFSw3\n",
              "/wABaJfK6kAIDoSeeRhfinqSzg5eqdZKILu87XEHwq5GMZiRoBdDXJ2YVdkLJiBfwbPBh7er1KDI\n",
              "vYYMXH6jhCoFBjjEi/GFvaEAAAA6AZ7GakN/AADOFz156H3AAlvOuKnu4PU3sowg5OGG5Fl6V5jW\n",
              "r811Pb9u70PZ/8GQYrCUxvKyFrB/mQAABP9tb292AAAAbG12aGQAAAAAAAAAAAAAAAAAAAPoAAAP\n",
              "oAABAAABAAAAAAAAAAAAAAAAAQAAAAAAAAAAAAAAAAAAAAEAAAAAAAAAAAAAAAAAAEAAAAAAAAAA\n",
              "AAAAAAAAAAAAAAAAAAAAAAAAAAAAAAACAAAEKXRyYWsAAABcdGtoZAAAAAMAAAAAAAAAAAAAAAEA\n",
              "AAAAAAAPoAAAAAAAAAAAAAAAAAAAAAAAAQAAAAAAAAAAAAAAAAAAAAEAAAAAAAAAAAAAAAAAAEAA\n",
              "AAABaAAAAWgAAAAAACRlZHRzAAAAHGVsc3QAAAAAAAAAAQAAD6AAAAgAAAEAAAAAA6FtZGlhAAAA\n",
              "IG1kaGQAAAAAAAAAAAAAAAAAACgAAACgAFXEAAAAAAAtaGRscgAAAAAAAAAAdmlkZQAAAAAAAAAA\n",
              "AAAAAFZpZGVvSGFuZGxlcgAAAANMbWluZgAAABR2bWhkAAAAAQAAAAAAAAAAAAAAJGRpbmYAAAAc\n",
              "ZHJlZgAAAAAAAAABAAAADHVybCAAAAABAAADDHN0YmwAAAC0c3RzZAAAAAAAAAABAAAApGF2YzEA\n",
              "AAAAAAAAAQAAAAAAAAAAAAAAAAAAAAABaAFoAEgAAABIAAAAAAAAAAEAAAAAAAAAAAAAAAAAAAAA\n",
              "AAAAAAAAAAAAAAAAAAAAAAAY//8AAAAyYXZjQwFkABX/4QAZZ2QAFazZQXC/llhAAAADAEAAAAUD\n",
              "xYtlgAEABmjr48siwAAAABx1dWlka2hA8l8kT8W6OaUbzwMj8wAAAAAAAAAYc3R0cwAAAAAAAAAB\n",
              "AAAAKAAABAAAAAAUc3RzcwAAAAAAAAABAAAAAQAAAUBjdHRzAAAAAAAAACYAAAABAAAIAAAAAAEA\n",
              "AAwAAAAAAQAABAAAAAACAAAIAAAAAAEAABQAAAAAAQAACAAAAAABAAAAAAAAAAEAAAQAAAAAAQAA\n",
              "FAAAAAABAAAIAAAAAAEAAAAAAAAAAQAABAAAAAABAAAUAAAAAAEAAAgAAAAAAQAAAAAAAAABAAAE\n",
              "AAAAAAEAABQAAAAAAQAACAAAAAABAAAAAAAAAAEAAAQAAAAAAQAAFAAAAAABAAAIAAAAAAEAAAAA\n",
              "AAAAAQAABAAAAAABAAAUAAAAAAEAAAgAAAAAAQAAAAAAAAABAAAEAAAAAAEAABQAAAAAAQAACAAA\n",
              "AAABAAAAAAAAAAEAAAQAAAAAAQAAFAAAAAABAAAIAAAAAAEAAAAAAAAAAQAABAAAAAABAAAQAAAA\n",
              "AAIAAAQAAAAAHHN0c2MAAAAAAAAAAQAAAAEAAAAoAAAAAQAAALRzdHN6AAAAAAAAAAAAAAAoAAAE\n",
              "LgAAAGkAAAAdAAAAegAAAKAAAADGAAAAKwAAADEAAAAxAAAAgQAAADQAAAAbAAAAIgAAALsAAAA5\n",
              "AAAAJwAAACgAAAEDAAAAVQAAADQAAAA6AAAAywAAAE0AAAAiAAAAIQAAAFcAAAAkAAAAFAAAABsA\n",
              "AACKAAAAPwAAACQAAAAnAAAAnwAAAEcAAAAuAAAAQgAAAH8AAABVAAAAPgAAABRzdGNvAAAAAAAA\n",
              "AAEAAAAsAAAAYnVkdGEAAABabWV0YQAAAAAAAAAhaGRscgAAAAAAAAAAbWRpcmFwcGwAAAAAAAAA\n",
              "AAAAAAAtaWxzdAAAACWpdG9vAAAAHWRhdGEAAAABAAAAAExhdmY1Ny44My4xMDA=\n",
              "\">\n",
              "  Your browser does not support the video tag.\n",
              "</video>"
            ],
            "text/plain": [
              "<IPython.core.display.HTML object>"
            ]
          },
          "metadata": {
            "tags": []
          },
          "execution_count": 39
        }
      ]
    },
    {
      "cell_type": "code",
      "metadata": {
        "id": "jgZBb-HOoWQz"
      },
      "source": [
        ""
      ],
      "execution_count": null,
      "outputs": []
    }
  ]
}